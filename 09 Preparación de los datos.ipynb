{
 "cells": [
  {
   "cell_type": "code",
   "execution_count": 1,
   "metadata": {},
   "outputs": [],
   "source": [
    "# Importamos las librerias\n",
    "import numpy as np\n",
    "import pandas as pd\n",
    "import matplotlib.pyplot as plt\n",
    "import seaborn as sb"
   ]
  },
  {
   "cell_type": "code",
   "execution_count": 2,
   "metadata": {},
   "outputs": [],
   "source": [
    "# Esta linea permite que los graficos sean renderizados directamente en nuestro Notebook\n",
    "## Carguemos en un pandas dataframe nuestra base de datos\n",
    "# los graficos en mismo notebook\n",
    "%matplotlib inline  "
   ]
  },
  {
   "cell_type": "markdown",
   "metadata": {
    "slideshow": {
     "slide_type": "slide"
    }
   },
   "source": [
    "## Carguemos en un pandas dataframe nuestra base de datos"
   ]
  },
  {
   "cell_type": "markdown",
   "metadata": {
    "slideshow": {
     "slide_type": "slide"
    }
   },
   "source": [
    "<div class=\"alert alert-block alert-info\" style=\"margin-top: 20px\">\n",
    "  <code>pd.read_csv</code> es el metodo que nos permite importar los datos desde un CSV y cargarlo en un **DataFrame**, que es la estructura de base de Pandas\n",
    "</div>"
   ]
  },
  {
   "cell_type": "code",
   "execution_count": 3,
   "metadata": {},
   "outputs": [],
   "source": [
    "movies = pd.read_csv('peliculas.csv',encoding='utf-8')"
   ]
  },
  {
   "cell_type": "code",
   "execution_count": 6,
   "metadata": {},
   "outputs": [
    {
     "output_type": "execute_result",
     "data": {
      "text/plain": [
       "pandas.core.frame.DataFrame"
      ]
     },
     "metadata": {},
     "execution_count": 6
    }
   ],
   "source": [
    "type(movies)"
   ]
  },
  {
   "cell_type": "code",
   "execution_count": 7,
   "metadata": {},
   "outputs": [
    {
     "output_type": "execute_result",
     "data": {
      "text/plain": [
       "                                         movie_title  title_year  color  \\\n",
       "0                                            Avatar       2009.0  Color   \n",
       "1          Pirates of the Caribbean: At World's End       2007.0  Color   \n",
       "2                                           Spectre       2015.0  Color   \n",
       "3                             The Dark Knight Rises       2012.0  Color   \n",
       "4  Star Wars: Episode VII - The Force Awakens    ...         NaN    NaN   \n",
       "\n",
       "   aspect_ratio  duration language country  duration.1  \\\n",
       "0          1.78     178.0  English     USA       178.0   \n",
       "1          2.35     169.0  English     USA       169.0   \n",
       "2          2.35     148.0  English      UK       148.0   \n",
       "3          2.35     164.0  English     USA       164.0   \n",
       "4           NaN       NaN      NaN     NaN         NaN   \n",
       "\n",
       "                            genres content_rating  \\\n",
       "0  Action|Adventure|Fantasy|Sci-Fi          PG-13   \n",
       "1         Action|Adventure|Fantasy          PG-13   \n",
       "2        Action|Adventure|Thriller          PG-13   \n",
       "3                  Action|Thriller          PG-13   \n",
       "4                      Documentary            NaN   \n",
       "\n",
       "                                       plot_keywords      director_name  \\\n",
       "0             avatar|future|marine|native|paraplegic      James Cameron   \n",
       "1  goddess|marriage ceremony|marriage proposal|pi...     Gore Verbinski   \n",
       "2                bomb|espionage|sequel|spy|terrorist         Sam Mendes   \n",
       "3  deception|imprisonment|lawlessness|police offi...  Christopher Nolan   \n",
       "4                                                NaN        Doug Walker   \n",
       "\n",
       "      actor_1_name      actor_2_name          actor_3_name  \\\n",
       "0      CCH Pounder  Joel David Moore             Wes Studi   \n",
       "1      Johnny Depp     Orlando Bloom        Jack Davenport   \n",
       "2  Christoph Waltz      Rory Kinnear      Stephanie Sigman   \n",
       "3        Tom Hardy    Christian Bale  Joseph Gordon-Levitt   \n",
       "4      Doug Walker        Rob Walker                   NaN   \n",
       "\n",
       "   cast_total_facebook_likes       budget  imdb_score        gross  \n",
       "0                       4834  237000000.0         7.9  760505847.0  \n",
       "1                      48350  300000000.0         7.1  309404152.0  \n",
       "2                      11700  245000000.0         6.8  200074175.0  \n",
       "3                     106759  250000000.0         8.5  448130642.0  \n",
       "4                        143          NaN         7.1          NaN  "
      ],
      "text/html": "<div>\n<style scoped>\n    .dataframe tbody tr th:only-of-type {\n        vertical-align: middle;\n    }\n\n    .dataframe tbody tr th {\n        vertical-align: top;\n    }\n\n    .dataframe thead th {\n        text-align: right;\n    }\n</style>\n<table border=\"1\" class=\"dataframe\">\n  <thead>\n    <tr style=\"text-align: right;\">\n      <th></th>\n      <th>movie_title</th>\n      <th>title_year</th>\n      <th>color</th>\n      <th>aspect_ratio</th>\n      <th>duration</th>\n      <th>language</th>\n      <th>country</th>\n      <th>duration.1</th>\n      <th>genres</th>\n      <th>content_rating</th>\n      <th>plot_keywords</th>\n      <th>director_name</th>\n      <th>actor_1_name</th>\n      <th>actor_2_name</th>\n      <th>actor_3_name</th>\n      <th>cast_total_facebook_likes</th>\n      <th>budget</th>\n      <th>imdb_score</th>\n      <th>gross</th>\n    </tr>\n  </thead>\n  <tbody>\n    <tr>\n      <th>0</th>\n      <td>Avatar</td>\n      <td>2009.0</td>\n      <td>Color</td>\n      <td>1.78</td>\n      <td>178.0</td>\n      <td>English</td>\n      <td>USA</td>\n      <td>178.0</td>\n      <td>Action|Adventure|Fantasy|Sci-Fi</td>\n      <td>PG-13</td>\n      <td>avatar|future|marine|native|paraplegic</td>\n      <td>James Cameron</td>\n      <td>CCH Pounder</td>\n      <td>Joel David Moore</td>\n      <td>Wes Studi</td>\n      <td>4834</td>\n      <td>237000000.0</td>\n      <td>7.9</td>\n      <td>760505847.0</td>\n    </tr>\n    <tr>\n      <th>1</th>\n      <td>Pirates of the Caribbean: At World's End</td>\n      <td>2007.0</td>\n      <td>Color</td>\n      <td>2.35</td>\n      <td>169.0</td>\n      <td>English</td>\n      <td>USA</td>\n      <td>169.0</td>\n      <td>Action|Adventure|Fantasy</td>\n      <td>PG-13</td>\n      <td>goddess|marriage ceremony|marriage proposal|pi...</td>\n      <td>Gore Verbinski</td>\n      <td>Johnny Depp</td>\n      <td>Orlando Bloom</td>\n      <td>Jack Davenport</td>\n      <td>48350</td>\n      <td>300000000.0</td>\n      <td>7.1</td>\n      <td>309404152.0</td>\n    </tr>\n    <tr>\n      <th>2</th>\n      <td>Spectre</td>\n      <td>2015.0</td>\n      <td>Color</td>\n      <td>2.35</td>\n      <td>148.0</td>\n      <td>English</td>\n      <td>UK</td>\n      <td>148.0</td>\n      <td>Action|Adventure|Thriller</td>\n      <td>PG-13</td>\n      <td>bomb|espionage|sequel|spy|terrorist</td>\n      <td>Sam Mendes</td>\n      <td>Christoph Waltz</td>\n      <td>Rory Kinnear</td>\n      <td>Stephanie Sigman</td>\n      <td>11700</td>\n      <td>245000000.0</td>\n      <td>6.8</td>\n      <td>200074175.0</td>\n    </tr>\n    <tr>\n      <th>3</th>\n      <td>The Dark Knight Rises</td>\n      <td>2012.0</td>\n      <td>Color</td>\n      <td>2.35</td>\n      <td>164.0</td>\n      <td>English</td>\n      <td>USA</td>\n      <td>164.0</td>\n      <td>Action|Thriller</td>\n      <td>PG-13</td>\n      <td>deception|imprisonment|lawlessness|police offi...</td>\n      <td>Christopher Nolan</td>\n      <td>Tom Hardy</td>\n      <td>Christian Bale</td>\n      <td>Joseph Gordon-Levitt</td>\n      <td>106759</td>\n      <td>250000000.0</td>\n      <td>8.5</td>\n      <td>448130642.0</td>\n    </tr>\n    <tr>\n      <th>4</th>\n      <td>Star Wars: Episode VII - The Force Awakens    ...</td>\n      <td>NaN</td>\n      <td>NaN</td>\n      <td>NaN</td>\n      <td>NaN</td>\n      <td>NaN</td>\n      <td>NaN</td>\n      <td>NaN</td>\n      <td>Documentary</td>\n      <td>NaN</td>\n      <td>NaN</td>\n      <td>Doug Walker</td>\n      <td>Doug Walker</td>\n      <td>Rob Walker</td>\n      <td>NaN</td>\n      <td>143</td>\n      <td>NaN</td>\n      <td>7.1</td>\n      <td>NaN</td>\n    </tr>\n  </tbody>\n</table>\n</div>"
     },
     "metadata": {},
     "execution_count": 7
    }
   ],
   "source": [
    "movies.head()"
   ]
  },
  {
   "cell_type": "code",
   "execution_count": 8,
   "metadata": {},
   "outputs": [
    {
     "output_type": "execute_result",
     "data": {
      "text/plain": [
       "(5043, 19)"
      ]
     },
     "metadata": {},
     "execution_count": 8
    }
   ],
   "source": [
    "# Cuantas lineas y columnas tiene nuestro dataframe\n",
    "### Un dataframe es una estructura de datos que se compone de los elementos siguientes\n",
    "movies.shape"
   ]
  },
  {
   "cell_type": "markdown",
   "metadata": {
    "slideshow": {
     "slide_type": "slide"
    }
   },
   "source": [
    "<div class=\"alert alert-block alert-info\" style=\"margin-top: 20px\">\n",
    "  Un dataframe es una estructura de datos que se compone de los elementos siguientes\n",
    "</div> "
   ]
  },
  {
   "cell_type": "markdown",
   "metadata": {
    "slideshow": {
     "slide_type": "-"
    }
   },
   "source": [
    "<img src=\"img/dataframe_structure.png\" style=\"margin:0 auto;clear:both\">"
   ]
  },
  {
   "cell_type": "code",
   "execution_count": 9,
   "metadata": {},
   "outputs": [
    {
     "output_type": "execute_result",
     "data": {
      "text/plain": [
       "Index(['movie_title', 'title_year', 'color', 'aspect_ratio', 'duration',\n",
       "       'language', 'country', 'duration.1', 'genres', 'content_rating',\n",
       "       'plot_keywords', 'director_name', 'actor_1_name', 'actor_2_name',\n",
       "       'actor_3_name', 'cast_total_facebook_likes', 'budget', 'imdb_score',\n",
       "       'gross'],\n",
       "      dtype='object')"
      ]
     },
     "metadata": {},
     "execution_count": 9
    }
   ],
   "source": [
    "#visualizemos las columnas\n",
    "movies.columns"
   ]
  },
  {
   "cell_type": "code",
   "execution_count": 10,
   "metadata": {},
   "outputs": [
    {
     "output_type": "execute_result",
     "data": {
      "text/plain": [
       "RangeIndex(start=0, stop=5043, step=1)"
      ]
     },
     "metadata": {},
     "execution_count": 10
    }
   ],
   "source": [
    "movies.index"
   ]
  },
  {
   "cell_type": "code",
   "execution_count": 13,
   "metadata": {},
   "outputs": [
    {
     "output_type": "execute_result",
     "data": {
      "text/plain": [
       "0                                               Avatar \n",
       "1             Pirates of the Caribbean: At World's End \n",
       "2                                              Spectre \n",
       "3                                The Dark Knight Rises \n",
       "4     Star Wars: Episode VII - The Force Awakens    ...\n",
       "5                                          John Carter \n",
       "6                                         Spider-Man 3 \n",
       "7                                              Tangled \n",
       "8                              Avengers: Age of Ultron \n",
       "9               Harry Potter and the Half-Blood Prince \n",
       "10                  Batman v Superman: Dawn of Justice \n",
       "Name: movie_title, dtype: object"
      ]
     },
     "metadata": {},
     "execution_count": 13
    }
   ],
   "source": [
    "columna1 = movies['movie_title'] # acder a una columna\n",
    "columna1.head(11)"
   ]
  },
  {
   "cell_type": "code",
   "execution_count": 14,
   "metadata": {},
   "outputs": [
    {
     "output_type": "execute_result",
     "data": {
      "text/plain": [
       "movie_title                                Batman v Superman: Dawn of Justice \n",
       "title_year                                                                2016\n",
       "color                                                                    Color\n",
       "aspect_ratio                                                              2.35\n",
       "duration                                                                   183\n",
       "language                                                               English\n",
       "country                                                                    USA\n",
       "duration.1                                                                 183\n",
       "genres                                                 Action|Adventure|Sci-Fi\n",
       "content_rating                                                           PG-13\n",
       "plot_keywords                based on comic book|batman|sequel to a reboot|...\n",
       "director_name                                                      Zack Snyder\n",
       "actor_1_name                                                      Henry Cavill\n",
       "actor_2_name                                                      Lauren Cohan\n",
       "actor_3_name                                                    Alan D. Purwin\n",
       "cast_total_facebook_likes                                                24450\n",
       "budget                                                                 2.5e+08\n",
       "imdb_score                                                                 6.9\n",
       "gross                                                              3.30249e+08\n",
       "Name: 10, dtype: object"
      ]
     },
     "metadata": {},
     "execution_count": 14
    }
   ],
   "source": [
    "linea = movies.loc[10,:] # aceder a una fila o linea\n",
    "linea"
   ]
  },
  {
   "cell_type": "code",
   "execution_count": 15,
   "metadata": {},
   "outputs": [
    {
     "output_type": "execute_result",
     "data": {
      "text/plain": [
       "0                                               Avatar \n",
       "1             Pirates of the Caribbean: At World's End \n",
       "2                                              Spectre \n",
       "3                                The Dark Knight Rises \n",
       "4     Star Wars: Episode VII - The Force Awakens    ...\n",
       "5                                          John Carter \n",
       "6                                         Spider-Man 3 \n",
       "7                                              Tangled \n",
       "8                              Avengers: Age of Ultron \n",
       "9               Harry Potter and the Half-Blood Prince \n",
       "10                  Batman v Superman: Dawn of Justice \n",
       "Name: movie_title, dtype: object"
      ]
     },
     "metadata": {},
     "execution_count": 15
    }
   ],
   "source": [
    "movies.loc[:,'movie_title'].head(11)"
   ]
  },
  {
   "cell_type": "markdown",
   "metadata": {
    "slideshow": {
     "slide_type": "slide"
    }
   },
   "source": [
    "## Intentemos inspeccionar nuestros datos y entenderlos mejor "
   ]
  },
  {
   "cell_type": "code",
   "execution_count": 16,
   "metadata": {},
   "outputs": [
    {
     "output_type": "stream",
     "name": "stdout",
     "text": [
      "<class 'pandas.core.frame.DataFrame'>\nRangeIndex: 5043 entries, 0 to 5042\nData columns (total 19 columns):\n #   Column                     Non-Null Count  Dtype  \n---  ------                     --------------  -----  \n 0   movie_title                5043 non-null   object \n 1   title_year                 4935 non-null   float64\n 2   color                      5024 non-null   object \n 3   aspect_ratio               4714 non-null   float64\n 4   duration                   5028 non-null   float64\n 5   language                   5031 non-null   object \n 6   country                    5038 non-null   object \n 7   duration.1                 5028 non-null   float64\n 8   genres                     5043 non-null   object \n 9   content_rating             4740 non-null   object \n 10  plot_keywords              4890 non-null   object \n 11  director_name              4939 non-null   object \n 12  actor_1_name               5036 non-null   object \n 13  actor_2_name               5030 non-null   object \n 14  actor_3_name               5020 non-null   object \n 15  cast_total_facebook_likes  5043 non-null   int64  \n 16  budget                     4551 non-null   float64\n 17  imdb_score                 5043 non-null   float64\n 18  gross                      4159 non-null   float64\ndtypes: float64(7), int64(1), object(11)\nmemory usage: 748.7+ KB\n"
     ]
    }
   ],
   "source": [
    "movies.info()"
   ]
  },
  {
   "cell_type": "markdown",
   "metadata": {},
   "source": [
    "<div class=\"alert alert-block alert-info\" style=\"margin-top: 20px\">\n",
    "  A diferencia de Numpy, Pandas permite cargar no solo datos numericos pero tambien **datos de texto** que vemos por ejemplo en las columnas de actores y **mezclar distintos tipos de datos**.\n",
    "<ul>\n",
    " <li>int64 y float64 corresponden a los mismos dtypes de Numpy </li>\n",
    " <li> object es el dtype que permite manejar datos de texto </li>\n",
    "</ul>\n",
    "</div>"
   ]
  },
  {
   "cell_type": "code",
   "execution_count": 19,
   "metadata": {},
   "outputs": [
    {
     "output_type": "execute_result",
     "data": {
      "text/plain": [
       "movie_title                  False\n",
       "title_year                    True\n",
       "color                        False\n",
       "aspect_ratio                  True\n",
       "duration                      True\n",
       "language                     False\n",
       "country                      False\n",
       "duration.1                    True\n",
       "genres                       False\n",
       "content_rating               False\n",
       "plot_keywords                False\n",
       "director_name                False\n",
       "actor_1_name                 False\n",
       "actor_2_name                 False\n",
       "actor_3_name                 False\n",
       "cast_total_facebook_likes    False\n",
       "budget                        True\n",
       "imdb_score                    True\n",
       "gross                         True\n",
       "dtype: bool"
      ]
     },
     "metadata": {},
     "execution_count": 19
    }
   ],
   "source": [
    "# columnas númericas y columnas de texto\n",
    "movies.dtypes == float"
   ]
  },
  {
   "cell_type": "code",
   "execution_count": 20,
   "metadata": {},
   "outputs": [
    {
     "output_type": "execute_result",
     "data": {
      "text/plain": [
       "movie_title                  False\n",
       "title_year                   False\n",
       "color                        False\n",
       "aspect_ratio                 False\n",
       "duration                     False\n",
       "language                     False\n",
       "country                      False\n",
       "duration.1                   False\n",
       "genres                       False\n",
       "content_rating               False\n",
       "plot_keywords                False\n",
       "director_name                False\n",
       "actor_1_name                 False\n",
       "actor_2_name                 False\n",
       "actor_3_name                 False\n",
       "cast_total_facebook_likes     True\n",
       "budget                       False\n",
       "imdb_score                   False\n",
       "gross                        False\n",
       "dtype: bool"
      ]
     },
     "metadata": {},
     "execution_count": 20
    }
   ],
   "source": [
    "movies.dtypes == int"
   ]
  },
  {
   "cell_type": "code",
   "execution_count": 22,
   "metadata": {
    "scrolled": true
   },
   "outputs": [
    {
     "output_type": "execute_result",
     "data": {
      "text/plain": [
       "movie_title                  False\n",
       "title_year                    True\n",
       "color                        False\n",
       "aspect_ratio                  True\n",
       "duration                      True\n",
       "language                     False\n",
       "country                      False\n",
       "duration.1                    True\n",
       "genres                       False\n",
       "content_rating               False\n",
       "plot_keywords                False\n",
       "director_name                False\n",
       "actor_1_name                 False\n",
       "actor_2_name                 False\n",
       "actor_3_name                 False\n",
       "cast_total_facebook_likes     True\n",
       "budget                        True\n",
       "imdb_score                    True\n",
       "gross                         True\n",
       "dtype: bool"
      ]
     },
     "metadata": {},
     "execution_count": 22
    }
   ],
   "source": [
    "(movies.dtypes == float) | (movies.dtypes == int) # si es un flotante o un entero"
   ]
  },
  {
   "cell_type": "code",
   "execution_count": 23,
   "metadata": {},
   "outputs": [
    {
     "output_type": "execute_result",
     "data": {
      "text/plain": [
       "movie_title                   True\n",
       "title_year                   False\n",
       "color                         True\n",
       "aspect_ratio                 False\n",
       "duration                     False\n",
       "language                      True\n",
       "country                       True\n",
       "duration.1                   False\n",
       "genres                        True\n",
       "content_rating                True\n",
       "plot_keywords                 True\n",
       "director_name                 True\n",
       "actor_1_name                  True\n",
       "actor_2_name                  True\n",
       "actor_3_name                  True\n",
       "cast_total_facebook_likes    False\n",
       "budget                       False\n",
       "imdb_score                   False\n",
       "gross                        False\n",
       "dtype: bool"
      ]
     },
     "metadata": {},
     "execution_count": 23
    }
   ],
   "source": [
    "movies.dtypes == object  # si la columna es texto"
   ]
  },
  {
   "cell_type": "code",
   "execution_count": 25,
   "metadata": {},
   "outputs": [
    {
     "output_type": "execute_result",
     "data": {
      "text/plain": [
       "movie_title                  False\n",
       "title_year                    True\n",
       "color                        False\n",
       "aspect_ratio                  True\n",
       "duration                      True\n",
       "language                     False\n",
       "country                      False\n",
       "duration.1                    True\n",
       "genres                       False\n",
       "content_rating               False\n",
       "plot_keywords                False\n",
       "director_name                False\n",
       "actor_1_name                 False\n",
       "actor_2_name                 False\n",
       "actor_3_name                 False\n",
       "cast_total_facebook_likes     True\n",
       "budget                        True\n",
       "imdb_score                    True\n",
       "gross                         True\n",
       "dtype: bool"
      ]
     },
     "metadata": {},
     "execution_count": 25
    }
   ],
   "source": [
    "num = (movies.dtypes == float) | (movies.dtypes == int)\n",
    "num"
   ]
  },
  {
   "cell_type": "code",
   "execution_count": 26,
   "metadata": {},
   "outputs": [
    {
     "output_type": "execute_result",
     "data": {
      "text/plain": [
       "Index(['movie_title', 'title_year', 'color', 'aspect_ratio', 'duration',\n",
       "       'language', 'country', 'duration.1', 'genres', 'content_rating',\n",
       "       'plot_keywords', 'director_name', 'actor_1_name', 'actor_2_name',\n",
       "       'actor_3_name', 'cast_total_facebook_likes', 'budget', 'imdb_score',\n",
       "       'gross'],\n",
       "      dtype='object')"
      ]
     },
     "metadata": {},
     "execution_count": 26
    }
   ],
   "source": [
    "num.index"
   ]
  },
  {
   "cell_type": "code",
   "execution_count": 27,
   "metadata": {},
   "outputs": [
    {
     "output_type": "stream",
     "name": "stdout",
     "text": [
      "movie_title\ntitle_year\ncolor\naspect_ratio\nduration\nlanguage\ncountry\nduration.1\ngenres\ncontent_rating\nplot_keywords\ndirector_name\nactor_1_name\nactor_2_name\nactor_3_name\ncast_total_facebook_likes\nbudget\nimdb_score\ngross\n"
     ]
    }
   ],
   "source": [
    "for el in num.index:\n",
    "    print(el)"
   ]
  },
  {
   "cell_type": "code",
   "execution_count": 28,
   "metadata": {},
   "outputs": [],
   "source": [
    "num_cols = [c for c in num.index if num[c]] # LIST COMPREGETION\n",
    "# VALIDA SI ES TRUE EL VALOR"
   ]
  },
  {
   "cell_type": "code",
   "execution_count": 29,
   "metadata": {
    "scrolled": true
   },
   "outputs": [
    {
     "output_type": "execute_result",
     "data": {
      "text/plain": [
       "['title_year',\n",
       " 'aspect_ratio',\n",
       " 'duration',\n",
       " 'duration.1',\n",
       " 'cast_total_facebook_likes',\n",
       " 'budget',\n",
       " 'imdb_score',\n",
       " 'gross']"
      ]
     },
     "metadata": {},
     "execution_count": 29
    }
   ],
   "source": [
    "num_cols"
   ]
  },
  {
   "cell_type": "code",
   "execution_count": 30,
   "metadata": {
    "scrolled": true
   },
   "outputs": [
    {
     "output_type": "execute_result",
     "data": {
      "text/plain": [
       "movie_title                   True\n",
       "title_year                   False\n",
       "color                         True\n",
       "aspect_ratio                 False\n",
       "duration                     False\n",
       "language                      True\n",
       "country                       True\n",
       "duration.1                   False\n",
       "genres                        True\n",
       "content_rating                True\n",
       "plot_keywords                 True\n",
       "director_name                 True\n",
       "actor_1_name                  True\n",
       "actor_2_name                  True\n",
       "actor_3_name                  True\n",
       "cast_total_facebook_likes    False\n",
       "budget                       False\n",
       "imdb_score                   False\n",
       "gross                        False\n",
       "dtype: bool"
      ]
     },
     "metadata": {},
     "execution_count": 30
    }
   ],
   "source": [
    "movies.dtypes == object"
   ]
  },
  {
   "cell_type": "code",
   "execution_count": 31,
   "metadata": {},
   "outputs": [],
   "source": [
    "obj = (movies.dtypes == object)\n",
    "obj_cols = [c for c in obj.index if obj[c]]"
   ]
  },
  {
   "cell_type": "code",
   "execution_count": 33,
   "metadata": {},
   "outputs": [
    {
     "output_type": "execute_result",
     "data": {
      "text/plain": [
       "['movie_title',\n",
       " 'color',\n",
       " 'language',\n",
       " 'country',\n",
       " 'genres',\n",
       " 'content_rating',\n",
       " 'plot_keywords',\n",
       " 'director_name',\n",
       " 'actor_1_name',\n",
       " 'actor_2_name',\n",
       " 'actor_3_name']"
      ]
     },
     "metadata": {},
     "execution_count": 33
    }
   ],
   "source": [
    "obj_cols"
   ]
  },
  {
   "cell_type": "code",
   "execution_count": 34,
   "metadata": {},
   "outputs": [
    {
     "output_type": "execute_result",
     "data": {
      "text/plain": [
       "['title_year',\n",
       " 'aspect_ratio',\n",
       " 'duration',\n",
       " 'duration.1',\n",
       " 'cast_total_facebook_likes',\n",
       " 'budget',\n",
       " 'imdb_score',\n",
       " 'gross']"
      ]
     },
     "metadata": {},
     "execution_count": 34
    }
   ],
   "source": [
    "num_cols"
   ]
  },
  {
   "cell_type": "code",
   "execution_count": 37,
   "metadata": {},
   "outputs": [],
   "source": [
    "# Data frame de datos numericos\n",
    "movies_num = movies[num_cols]\n",
    "\n"
   ]
  },
  {
   "cell_type": "code",
   "execution_count": 38,
   "metadata": {},
   "outputs": [
    {
     "output_type": "execute_result",
     "data": {
      "text/plain": [
       "        title_year  aspect_ratio     duration   duration.1  \\\n",
       "count  4935.000000   4714.000000  5028.000000  5028.000000   \n",
       "mean   2002.470517      2.220403   107.201074   107.201074   \n",
       "std      12.474599      1.385113    25.197441    25.197441   \n",
       "min    1916.000000      1.180000     7.000000     7.000000   \n",
       "25%    1999.000000      1.850000    93.000000    93.000000   \n",
       "50%    2005.000000      2.350000   103.000000   103.000000   \n",
       "75%    2011.000000      2.350000   118.000000   118.000000   \n",
       "max    2016.000000     16.000000   511.000000   511.000000   \n",
       "\n",
       "       cast_total_facebook_likes        budget   imdb_score         gross  \n",
       "count                5043.000000  4.551000e+03  5043.000000  4.159000e+03  \n",
       "mean                 9699.063851  3.975262e+07     6.442138  4.846841e+07  \n",
       "std                 18163.799124  2.061149e+08     1.125116  6.845299e+07  \n",
       "min                     0.000000  2.180000e+02     1.600000  1.620000e+02  \n",
       "25%                  1411.000000  6.000000e+06     5.800000  5.340988e+06  \n",
       "50%                  3090.000000  2.000000e+07     6.600000  2.551750e+07  \n",
       "75%                 13756.500000  4.500000e+07     7.200000  6.230944e+07  \n",
       "max                656730.000000  1.221550e+10     9.500000  7.605058e+08  "
      ],
      "text/html": "<div>\n<style scoped>\n    .dataframe tbody tr th:only-of-type {\n        vertical-align: middle;\n    }\n\n    .dataframe tbody tr th {\n        vertical-align: top;\n    }\n\n    .dataframe thead th {\n        text-align: right;\n    }\n</style>\n<table border=\"1\" class=\"dataframe\">\n  <thead>\n    <tr style=\"text-align: right;\">\n      <th></th>\n      <th>title_year</th>\n      <th>aspect_ratio</th>\n      <th>duration</th>\n      <th>duration.1</th>\n      <th>cast_total_facebook_likes</th>\n      <th>budget</th>\n      <th>imdb_score</th>\n      <th>gross</th>\n    </tr>\n  </thead>\n  <tbody>\n    <tr>\n      <th>count</th>\n      <td>4935.000000</td>\n      <td>4714.000000</td>\n      <td>5028.000000</td>\n      <td>5028.000000</td>\n      <td>5043.000000</td>\n      <td>4.551000e+03</td>\n      <td>5043.000000</td>\n      <td>4.159000e+03</td>\n    </tr>\n    <tr>\n      <th>mean</th>\n      <td>2002.470517</td>\n      <td>2.220403</td>\n      <td>107.201074</td>\n      <td>107.201074</td>\n      <td>9699.063851</td>\n      <td>3.975262e+07</td>\n      <td>6.442138</td>\n      <td>4.846841e+07</td>\n    </tr>\n    <tr>\n      <th>std</th>\n      <td>12.474599</td>\n      <td>1.385113</td>\n      <td>25.197441</td>\n      <td>25.197441</td>\n      <td>18163.799124</td>\n      <td>2.061149e+08</td>\n      <td>1.125116</td>\n      <td>6.845299e+07</td>\n    </tr>\n    <tr>\n      <th>min</th>\n      <td>1916.000000</td>\n      <td>1.180000</td>\n      <td>7.000000</td>\n      <td>7.000000</td>\n      <td>0.000000</td>\n      <td>2.180000e+02</td>\n      <td>1.600000</td>\n      <td>1.620000e+02</td>\n    </tr>\n    <tr>\n      <th>25%</th>\n      <td>1999.000000</td>\n      <td>1.850000</td>\n      <td>93.000000</td>\n      <td>93.000000</td>\n      <td>1411.000000</td>\n      <td>6.000000e+06</td>\n      <td>5.800000</td>\n      <td>5.340988e+06</td>\n    </tr>\n    <tr>\n      <th>50%</th>\n      <td>2005.000000</td>\n      <td>2.350000</td>\n      <td>103.000000</td>\n      <td>103.000000</td>\n      <td>3090.000000</td>\n      <td>2.000000e+07</td>\n      <td>6.600000</td>\n      <td>2.551750e+07</td>\n    </tr>\n    <tr>\n      <th>75%</th>\n      <td>2011.000000</td>\n      <td>2.350000</td>\n      <td>118.000000</td>\n      <td>118.000000</td>\n      <td>13756.500000</td>\n      <td>4.500000e+07</td>\n      <td>7.200000</td>\n      <td>6.230944e+07</td>\n    </tr>\n    <tr>\n      <th>max</th>\n      <td>2016.000000</td>\n      <td>16.000000</td>\n      <td>511.000000</td>\n      <td>511.000000</td>\n      <td>656730.000000</td>\n      <td>1.221550e+10</td>\n      <td>9.500000</td>\n      <td>7.605058e+08</td>\n    </tr>\n  </tbody>\n</table>\n</div>"
     },
     "metadata": {},
     "execution_count": 38
    }
   ],
   "source": [
    "# Estadísticas de las columnas númericas\n",
    "movies_num.describe()"
   ]
  },
  {
   "cell_type": "code",
   "execution_count": 27,
   "metadata": {},
   "outputs": [],
   "source": [
    "# Estadísticas de las columnas de texto"
   ]
  },
  {
   "cell_type": "markdown",
   "metadata": {},
   "source": [
    "Para hacer nuestro primer modelo más simple para este trabajaremos solo con las columnas númericas."
   ]
  },
  {
   "cell_type": "code",
   "execution_count": 39,
   "metadata": {},
   "outputs": [
    {
     "output_type": "execute_result",
     "data": {
      "text/plain": [
       "<AxesSubplot:>"
      ]
     },
     "metadata": {},
     "execution_count": 39
    },
    {
     "output_type": "display_data",
     "data": {
      "text/plain": "<Figure size 432x288 with 1 Axes>",
      "image/svg+xml": "<?xml version=\"1.0\" encoding=\"utf-8\" standalone=\"no\"?>\n<!DOCTYPE svg PUBLIC \"-//W3C//DTD SVG 1.1//EN\"\n  \"http://www.w3.org/Graphics/SVG/1.1/DTD/svg11.dtd\">\n<!-- Created with matplotlib (https://matplotlib.org/) -->\n<svg height=\"250.966785pt\" version=\"1.1\" viewBox=\"0 0 381.65 250.966785\" width=\"381.65pt\" xmlns=\"http://www.w3.org/2000/svg\" xmlns:xlink=\"http://www.w3.org/1999/xlink\">\n <metadata>\n  <rdf:RDF xmlns:cc=\"http://creativecommons.org/ns#\" xmlns:dc=\"http://purl.org/dc/elements/1.1/\" xmlns:rdf=\"http://www.w3.org/1999/02/22-rdf-syntax-ns#\">\n   <cc:Work>\n    <dc:type rdf:resource=\"http://purl.org/dc/dcmitype/StillImage\"/>\n    <dc:date>2021-05-05T12:17:39.843497</dc:date>\n    <dc:format>image/svg+xml</dc:format>\n    <dc:creator>\n     <cc:Agent>\n      <dc:title>Matplotlib v3.3.2, https://matplotlib.org/</dc:title>\n     </cc:Agent>\n    </dc:creator>\n   </cc:Work>\n  </rdf:RDF>\n </metadata>\n <defs>\n  <style type=\"text/css\">*{stroke-linecap:butt;stroke-linejoin:round;}</style>\n </defs>\n <g id=\"figure_1\">\n  <g id=\"patch_1\">\n   <path d=\"M -0 250.966785 \nL 381.65 250.966785 \nL 381.65 0 \nL -0 0 \nz\n\" style=\"fill:none;\"/>\n  </g>\n  <g id=\"axes_1\">\n   <g id=\"patch_2\">\n    <path d=\"M 39.65 227.08866 \nL 374.45 227.08866 \nL 374.45 9.64866 \nL 39.65 9.64866 \nz\n\" style=\"fill:#ffffff;\"/>\n   </g>\n   <g id=\"patch_3\">\n    <path clip-path=\"url(#pc4c26ffbe8)\" d=\"M 54.868182 227.08866 \nL 85.304545 227.08866 \nL 85.304545 221.326275 \nL 54.868182 221.326275 \nz\n\" style=\"fill:#1f77b4;\"/>\n   </g>\n   <g id=\"patch_4\">\n    <path clip-path=\"url(#pc4c26ffbe8)\" d=\"M 85.304545 227.08866 \nL 115.740909 227.08866 \nL 115.740909 20.002945 \nL 85.304545 20.002945 \nz\n\" style=\"fill:#1f77b4;\"/>\n   </g>\n   <g id=\"patch_5\">\n    <path clip-path=\"url(#pc4c26ffbe8)\" d=\"M 115.740909 227.08866 \nL 146.177273 227.08866 \nL 146.177273 88.071119 \nL 115.740909 88.071119 \nz\n\" style=\"fill:#1f77b4;\"/>\n   </g>\n   <g id=\"patch_6\">\n    <path clip-path=\"url(#pc4c26ffbe8)\" d=\"M 146.177273 227.08866 \nL 176.613636 227.08866 \nL 176.613636 218.877261 \nL 146.177273 218.877261 \nz\n\" style=\"fill:#1f77b4;\"/>\n   </g>\n   <g id=\"patch_7\">\n    <path clip-path=\"url(#pc4c26ffbe8)\" d=\"M 176.613636 227.08866 \nL 207.05 227.08866 \nL 207.05 225.792123 \nL 176.613636 225.792123 \nz\n\" style=\"fill:#1f77b4;\"/>\n   </g>\n   <g id=\"patch_8\">\n    <path clip-path=\"url(#pc4c26ffbe8)\" d=\"M 207.05 227.08866 \nL 237.486364 227.08866 \nL 237.486364 226.584451 \nL 207.05 226.584451 \nz\n\" style=\"fill:#1f77b4;\"/>\n   </g>\n   <g id=\"patch_9\">\n    <path clip-path=\"url(#pc4c26ffbe8)\" d=\"M 237.486364 227.08866 \nL 267.922727 227.08866 \nL 267.922727 226.87257 \nL 237.486364 226.87257 \nz\n\" style=\"fill:#1f77b4;\"/>\n   </g>\n   <g id=\"patch_10\">\n    <path clip-path=\"url(#pc4c26ffbe8)\" d=\"M 267.922727 227.08866 \nL 298.359091 227.08866 \nL 298.359091 227.08866 \nL 267.922727 227.08866 \nz\n\" style=\"fill:#1f77b4;\"/>\n   </g>\n   <g id=\"patch_11\">\n    <path clip-path=\"url(#pc4c26ffbe8)\" d=\"M 298.359091 227.08866 \nL 328.795455 227.08866 \nL 328.795455 227.08866 \nL 298.359091 227.08866 \nz\n\" style=\"fill:#1f77b4;\"/>\n   </g>\n   <g id=\"patch_12\">\n    <path clip-path=\"url(#pc4c26ffbe8)\" d=\"M 328.795455 227.08866 \nL 359.231818 227.08866 \nL 359.231818 227.01663 \nL 328.795455 227.01663 \nz\n\" style=\"fill:#1f77b4;\"/>\n   </g>\n   <g id=\"matplotlib.axis_1\">\n    <g id=\"xtick_1\">\n     <g id=\"line2d_1\">\n      <path clip-path=\"url(#pc4c26ffbe8)\" d=\"M 50.640909 227.08866 \nL 50.640909 9.64866 \n\" style=\"fill:none;stroke:#b0b0b0;stroke-linecap:square;stroke-width:0.8;\"/>\n     </g>\n     <g id=\"line2d_2\">\n      <defs>\n       <path d=\"M 0 0 \nL 0 3.5 \n\" id=\"m55a10e11bf\" style=\"stroke:#000000;stroke-width:0.8;\"/>\n      </defs>\n      <g>\n       <use style=\"stroke:#000000;stroke-width:0.8;\" x=\"50.640909\" xlink:href=\"#m55a10e11bf\" y=\"227.08866\"/>\n      </g>\n     </g>\n     <g id=\"text_1\">\n      <!-- 0 -->\n      <g transform=\"translate(47.459659 241.687097)scale(0.1 -0.1)\">\n       <defs>\n        <path d=\"M 31.78125 66.40625 \nQ 24.171875 66.40625 20.328125 58.90625 \nQ 16.5 51.421875 16.5 36.375 \nQ 16.5 21.390625 20.328125 13.890625 \nQ 24.171875 6.390625 31.78125 6.390625 \nQ 39.453125 6.390625 43.28125 13.890625 \nQ 47.125 21.390625 47.125 36.375 \nQ 47.125 51.421875 43.28125 58.90625 \nQ 39.453125 66.40625 31.78125 66.40625 \nz\nM 31.78125 74.21875 \nQ 44.046875 74.21875 50.515625 64.515625 \nQ 56.984375 54.828125 56.984375 36.375 \nQ 56.984375 17.96875 50.515625 8.265625 \nQ 44.046875 -1.421875 31.78125 -1.421875 \nQ 19.53125 -1.421875 13.0625 8.265625 \nQ 6.59375 17.96875 6.59375 36.375 \nQ 6.59375 54.828125 13.0625 64.515625 \nQ 19.53125 74.21875 31.78125 74.21875 \nz\n\" id=\"DejaVuSans-48\"/>\n       </defs>\n       <use xlink:href=\"#DejaVuSans-48\"/>\n      </g>\n     </g>\n    </g>\n    <g id=\"xtick_2\">\n     <g id=\"line2d_3\">\n      <path clip-path=\"url(#pc4c26ffbe8)\" d=\"M 111.030519 227.08866 \nL 111.030519 9.64866 \n\" style=\"fill:none;stroke:#b0b0b0;stroke-linecap:square;stroke-width:0.8;\"/>\n     </g>\n     <g id=\"line2d_4\">\n      <g>\n       <use style=\"stroke:#000000;stroke-width:0.8;\" x=\"111.030519\" xlink:href=\"#m55a10e11bf\" y=\"227.08866\"/>\n      </g>\n     </g>\n     <g id=\"text_2\">\n      <!-- 100 -->\n      <g transform=\"translate(101.486769 241.687097)scale(0.1 -0.1)\">\n       <defs>\n        <path d=\"M 12.40625 8.296875 \nL 28.515625 8.296875 \nL 28.515625 63.921875 \nL 10.984375 60.40625 \nL 10.984375 69.390625 \nL 28.421875 72.90625 \nL 38.28125 72.90625 \nL 38.28125 8.296875 \nL 54.390625 8.296875 \nL 54.390625 0 \nL 12.40625 0 \nz\n\" id=\"DejaVuSans-49\"/>\n       </defs>\n       <use xlink:href=\"#DejaVuSans-49\"/>\n       <use x=\"63.623047\" xlink:href=\"#DejaVuSans-48\"/>\n       <use x=\"127.246094\" xlink:href=\"#DejaVuSans-48\"/>\n      </g>\n     </g>\n    </g>\n    <g id=\"xtick_3\">\n     <g id=\"line2d_5\">\n      <path clip-path=\"url(#pc4c26ffbe8)\" d=\"M 171.42013 227.08866 \nL 171.42013 9.64866 \n\" style=\"fill:none;stroke:#b0b0b0;stroke-linecap:square;stroke-width:0.8;\"/>\n     </g>\n     <g id=\"line2d_6\">\n      <g>\n       <use style=\"stroke:#000000;stroke-width:0.8;\" x=\"171.42013\" xlink:href=\"#m55a10e11bf\" y=\"227.08866\"/>\n      </g>\n     </g>\n     <g id=\"text_3\">\n      <!-- 200 -->\n      <g transform=\"translate(161.87638 241.687097)scale(0.1 -0.1)\">\n       <defs>\n        <path d=\"M 19.1875 8.296875 \nL 53.609375 8.296875 \nL 53.609375 0 \nL 7.328125 0 \nL 7.328125 8.296875 \nQ 12.9375 14.109375 22.625 23.890625 \nQ 32.328125 33.6875 34.8125 36.53125 \nQ 39.546875 41.84375 41.421875 45.53125 \nQ 43.3125 49.21875 43.3125 52.78125 \nQ 43.3125 58.59375 39.234375 62.25 \nQ 35.15625 65.921875 28.609375 65.921875 \nQ 23.96875 65.921875 18.8125 64.3125 \nQ 13.671875 62.703125 7.8125 59.421875 \nL 7.8125 69.390625 \nQ 13.765625 71.78125 18.9375 73 \nQ 24.125 74.21875 28.421875 74.21875 \nQ 39.75 74.21875 46.484375 68.546875 \nQ 53.21875 62.890625 53.21875 53.421875 \nQ 53.21875 48.921875 51.53125 44.890625 \nQ 49.859375 40.875 45.40625 35.40625 \nQ 44.1875 33.984375 37.640625 27.21875 \nQ 31.109375 20.453125 19.1875 8.296875 \nz\n\" id=\"DejaVuSans-50\"/>\n       </defs>\n       <use xlink:href=\"#DejaVuSans-50\"/>\n       <use x=\"63.623047\" xlink:href=\"#DejaVuSans-48\"/>\n       <use x=\"127.246094\" xlink:href=\"#DejaVuSans-48\"/>\n      </g>\n     </g>\n    </g>\n    <g id=\"xtick_4\">\n     <g id=\"line2d_7\">\n      <path clip-path=\"url(#pc4c26ffbe8)\" d=\"M 231.80974 227.08866 \nL 231.80974 9.64866 \n\" style=\"fill:none;stroke:#b0b0b0;stroke-linecap:square;stroke-width:0.8;\"/>\n     </g>\n     <g id=\"line2d_8\">\n      <g>\n       <use style=\"stroke:#000000;stroke-width:0.8;\" x=\"231.80974\" xlink:href=\"#m55a10e11bf\" y=\"227.08866\"/>\n      </g>\n     </g>\n     <g id=\"text_4\">\n      <!-- 300 -->\n      <g transform=\"translate(222.26599 241.687097)scale(0.1 -0.1)\">\n       <defs>\n        <path d=\"M 40.578125 39.3125 \nQ 47.65625 37.796875 51.625 33 \nQ 55.609375 28.21875 55.609375 21.1875 \nQ 55.609375 10.40625 48.1875 4.484375 \nQ 40.765625 -1.421875 27.09375 -1.421875 \nQ 22.515625 -1.421875 17.65625 -0.515625 \nQ 12.796875 0.390625 7.625 2.203125 \nL 7.625 11.71875 \nQ 11.71875 9.328125 16.59375 8.109375 \nQ 21.484375 6.890625 26.8125 6.890625 \nQ 36.078125 6.890625 40.9375 10.546875 \nQ 45.796875 14.203125 45.796875 21.1875 \nQ 45.796875 27.640625 41.28125 31.265625 \nQ 36.765625 34.90625 28.71875 34.90625 \nL 20.21875 34.90625 \nL 20.21875 43.015625 \nL 29.109375 43.015625 \nQ 36.375 43.015625 40.234375 45.921875 \nQ 44.09375 48.828125 44.09375 54.296875 \nQ 44.09375 59.90625 40.109375 62.90625 \nQ 36.140625 65.921875 28.71875 65.921875 \nQ 24.65625 65.921875 20.015625 65.03125 \nQ 15.375 64.15625 9.8125 62.3125 \nL 9.8125 71.09375 \nQ 15.4375 72.65625 20.34375 73.4375 \nQ 25.25 74.21875 29.59375 74.21875 \nQ 40.828125 74.21875 47.359375 69.109375 \nQ 53.90625 64.015625 53.90625 55.328125 \nQ 53.90625 49.265625 50.4375 45.09375 \nQ 46.96875 40.921875 40.578125 39.3125 \nz\n\" id=\"DejaVuSans-51\"/>\n       </defs>\n       <use xlink:href=\"#DejaVuSans-51\"/>\n       <use x=\"63.623047\" xlink:href=\"#DejaVuSans-48\"/>\n       <use x=\"127.246094\" xlink:href=\"#DejaVuSans-48\"/>\n      </g>\n     </g>\n    </g>\n    <g id=\"xtick_5\">\n     <g id=\"line2d_9\">\n      <path clip-path=\"url(#pc4c26ffbe8)\" d=\"M 292.199351 227.08866 \nL 292.199351 9.64866 \n\" style=\"fill:none;stroke:#b0b0b0;stroke-linecap:square;stroke-width:0.8;\"/>\n     </g>\n     <g id=\"line2d_10\">\n      <g>\n       <use style=\"stroke:#000000;stroke-width:0.8;\" x=\"292.199351\" xlink:href=\"#m55a10e11bf\" y=\"227.08866\"/>\n      </g>\n     </g>\n     <g id=\"text_5\">\n      <!-- 400 -->\n      <g transform=\"translate(282.655601 241.687097)scale(0.1 -0.1)\">\n       <defs>\n        <path d=\"M 37.796875 64.3125 \nL 12.890625 25.390625 \nL 37.796875 25.390625 \nz\nM 35.203125 72.90625 \nL 47.609375 72.90625 \nL 47.609375 25.390625 \nL 58.015625 25.390625 \nL 58.015625 17.1875 \nL 47.609375 17.1875 \nL 47.609375 0 \nL 37.796875 0 \nL 37.796875 17.1875 \nL 4.890625 17.1875 \nL 4.890625 26.703125 \nz\n\" id=\"DejaVuSans-52\"/>\n       </defs>\n       <use xlink:href=\"#DejaVuSans-52\"/>\n       <use x=\"63.623047\" xlink:href=\"#DejaVuSans-48\"/>\n       <use x=\"127.246094\" xlink:href=\"#DejaVuSans-48\"/>\n      </g>\n     </g>\n    </g>\n    <g id=\"xtick_6\">\n     <g id=\"line2d_11\">\n      <path clip-path=\"url(#pc4c26ffbe8)\" d=\"M 352.588961 227.08866 \nL 352.588961 9.64866 \n\" style=\"fill:none;stroke:#b0b0b0;stroke-linecap:square;stroke-width:0.8;\"/>\n     </g>\n     <g id=\"line2d_12\">\n      <g>\n       <use style=\"stroke:#000000;stroke-width:0.8;\" x=\"352.588961\" xlink:href=\"#m55a10e11bf\" y=\"227.08866\"/>\n      </g>\n     </g>\n     <g id=\"text_6\">\n      <!-- 500 -->\n      <g transform=\"translate(343.045211 241.687097)scale(0.1 -0.1)\">\n       <defs>\n        <path d=\"M 10.796875 72.90625 \nL 49.515625 72.90625 \nL 49.515625 64.59375 \nL 19.828125 64.59375 \nL 19.828125 46.734375 \nQ 21.96875 47.46875 24.109375 47.828125 \nQ 26.265625 48.1875 28.421875 48.1875 \nQ 40.625 48.1875 47.75 41.5 \nQ 54.890625 34.8125 54.890625 23.390625 \nQ 54.890625 11.625 47.5625 5.09375 \nQ 40.234375 -1.421875 26.90625 -1.421875 \nQ 22.3125 -1.421875 17.546875 -0.640625 \nQ 12.796875 0.140625 7.71875 1.703125 \nL 7.71875 11.625 \nQ 12.109375 9.234375 16.796875 8.0625 \nQ 21.484375 6.890625 26.703125 6.890625 \nQ 35.15625 6.890625 40.078125 11.328125 \nQ 45.015625 15.765625 45.015625 23.390625 \nQ 45.015625 31 40.078125 35.4375 \nQ 35.15625 39.890625 26.703125 39.890625 \nQ 22.75 39.890625 18.8125 39.015625 \nQ 14.890625 38.140625 10.796875 36.28125 \nz\n\" id=\"DejaVuSans-53\"/>\n       </defs>\n       <use xlink:href=\"#DejaVuSans-53\"/>\n       <use x=\"63.623047\" xlink:href=\"#DejaVuSans-48\"/>\n       <use x=\"127.246094\" xlink:href=\"#DejaVuSans-48\"/>\n      </g>\n     </g>\n    </g>\n   </g>\n   <g id=\"matplotlib.axis_2\">\n    <g id=\"ytick_1\">\n     <g id=\"line2d_13\">\n      <path clip-path=\"url(#pc4c26ffbe8)\" d=\"M 39.65 227.08866 \nL 374.45 227.08866 \n\" style=\"fill:none;stroke:#b0b0b0;stroke-linecap:square;stroke-width:0.8;\"/>\n     </g>\n     <g id=\"line2d_14\">\n      <defs>\n       <path d=\"M 0 0 \nL -3.5 0 \n\" id=\"m3f9e899cb1\" style=\"stroke:#000000;stroke-width:0.8;\"/>\n      </defs>\n      <g>\n       <use style=\"stroke:#000000;stroke-width:0.8;\" x=\"39.65\" xlink:href=\"#m3f9e899cb1\" y=\"227.08866\"/>\n      </g>\n     </g>\n     <g id=\"text_7\">\n      <!-- 0 -->\n      <g transform=\"translate(26.2875 230.887878)scale(0.1 -0.1)\">\n       <use xlink:href=\"#DejaVuSans-48\"/>\n      </g>\n     </g>\n    </g>\n    <g id=\"ytick_2\">\n     <g id=\"line2d_15\">\n      <path clip-path=\"url(#pc4c26ffbe8)\" d=\"M 39.65 191.073753 \nL 374.45 191.073753 \n\" style=\"fill:none;stroke:#b0b0b0;stroke-linecap:square;stroke-width:0.8;\"/>\n     </g>\n     <g id=\"line2d_16\">\n      <g>\n       <use style=\"stroke:#000000;stroke-width:0.8;\" x=\"39.65\" xlink:href=\"#m3f9e899cb1\" y=\"191.073753\"/>\n      </g>\n     </g>\n     <g id=\"text_8\">\n      <!-- 500 -->\n      <g transform=\"translate(13.5625 194.872972)scale(0.1 -0.1)\">\n       <use xlink:href=\"#DejaVuSans-53\"/>\n       <use x=\"63.623047\" xlink:href=\"#DejaVuSans-48\"/>\n       <use x=\"127.246094\" xlink:href=\"#DejaVuSans-48\"/>\n      </g>\n     </g>\n    </g>\n    <g id=\"ytick_3\">\n     <g id=\"line2d_17\">\n      <path clip-path=\"url(#pc4c26ffbe8)\" d=\"M 39.65 155.058846 \nL 374.45 155.058846 \n\" style=\"fill:none;stroke:#b0b0b0;stroke-linecap:square;stroke-width:0.8;\"/>\n     </g>\n     <g id=\"line2d_18\">\n      <g>\n       <use style=\"stroke:#000000;stroke-width:0.8;\" x=\"39.65\" xlink:href=\"#m3f9e899cb1\" y=\"155.058846\"/>\n      </g>\n     </g>\n     <g id=\"text_9\">\n      <!-- 1000 -->\n      <g transform=\"translate(7.2 158.858065)scale(0.1 -0.1)\">\n       <use xlink:href=\"#DejaVuSans-49\"/>\n       <use x=\"63.623047\" xlink:href=\"#DejaVuSans-48\"/>\n       <use x=\"127.246094\" xlink:href=\"#DejaVuSans-48\"/>\n       <use x=\"190.869141\" xlink:href=\"#DejaVuSans-48\"/>\n      </g>\n     </g>\n    </g>\n    <g id=\"ytick_4\">\n     <g id=\"line2d_19\">\n      <path clip-path=\"url(#pc4c26ffbe8)\" d=\"M 39.65 119.043939 \nL 374.45 119.043939 \n\" style=\"fill:none;stroke:#b0b0b0;stroke-linecap:square;stroke-width:0.8;\"/>\n     </g>\n     <g id=\"line2d_20\">\n      <g>\n       <use style=\"stroke:#000000;stroke-width:0.8;\" x=\"39.65\" xlink:href=\"#m3f9e899cb1\" y=\"119.043939\"/>\n      </g>\n     </g>\n     <g id=\"text_10\">\n      <!-- 1500 -->\n      <g transform=\"translate(7.2 122.843158)scale(0.1 -0.1)\">\n       <use xlink:href=\"#DejaVuSans-49\"/>\n       <use x=\"63.623047\" xlink:href=\"#DejaVuSans-53\"/>\n       <use x=\"127.246094\" xlink:href=\"#DejaVuSans-48\"/>\n       <use x=\"190.869141\" xlink:href=\"#DejaVuSans-48\"/>\n      </g>\n     </g>\n    </g>\n    <g id=\"ytick_5\">\n     <g id=\"line2d_21\">\n      <path clip-path=\"url(#pc4c26ffbe8)\" d=\"M 39.65 83.029032 \nL 374.45 83.029032 \n\" style=\"fill:none;stroke:#b0b0b0;stroke-linecap:square;stroke-width:0.8;\"/>\n     </g>\n     <g id=\"line2d_22\">\n      <g>\n       <use style=\"stroke:#000000;stroke-width:0.8;\" x=\"39.65\" xlink:href=\"#m3f9e899cb1\" y=\"83.029032\"/>\n      </g>\n     </g>\n     <g id=\"text_11\">\n      <!-- 2000 -->\n      <g transform=\"translate(7.2 86.828251)scale(0.1 -0.1)\">\n       <use xlink:href=\"#DejaVuSans-50\"/>\n       <use x=\"63.623047\" xlink:href=\"#DejaVuSans-48\"/>\n       <use x=\"127.246094\" xlink:href=\"#DejaVuSans-48\"/>\n       <use x=\"190.869141\" xlink:href=\"#DejaVuSans-48\"/>\n      </g>\n     </g>\n    </g>\n    <g id=\"ytick_6\">\n     <g id=\"line2d_23\">\n      <path clip-path=\"url(#pc4c26ffbe8)\" d=\"M 39.65 47.014126 \nL 374.45 47.014126 \n\" style=\"fill:none;stroke:#b0b0b0;stroke-linecap:square;stroke-width:0.8;\"/>\n     </g>\n     <g id=\"line2d_24\">\n      <g>\n       <use style=\"stroke:#000000;stroke-width:0.8;\" x=\"39.65\" xlink:href=\"#m3f9e899cb1\" y=\"47.014126\"/>\n      </g>\n     </g>\n     <g id=\"text_12\">\n      <!-- 2500 -->\n      <g transform=\"translate(7.2 50.813344)scale(0.1 -0.1)\">\n       <use xlink:href=\"#DejaVuSans-50\"/>\n       <use x=\"63.623047\" xlink:href=\"#DejaVuSans-53\"/>\n       <use x=\"127.246094\" xlink:href=\"#DejaVuSans-48\"/>\n       <use x=\"190.869141\" xlink:href=\"#DejaVuSans-48\"/>\n      </g>\n     </g>\n    </g>\n    <g id=\"ytick_7\">\n     <g id=\"line2d_25\">\n      <path clip-path=\"url(#pc4c26ffbe8)\" d=\"M 39.65 10.999219 \nL 374.45 10.999219 \n\" style=\"fill:none;stroke:#b0b0b0;stroke-linecap:square;stroke-width:0.8;\"/>\n     </g>\n     <g id=\"line2d_26\">\n      <g>\n       <use style=\"stroke:#000000;stroke-width:0.8;\" x=\"39.65\" xlink:href=\"#m3f9e899cb1\" y=\"10.999219\"/>\n      </g>\n     </g>\n     <g id=\"text_13\">\n      <!-- 3000 -->\n      <g transform=\"translate(7.2 14.798437)scale(0.1 -0.1)\">\n       <use xlink:href=\"#DejaVuSans-51\"/>\n       <use x=\"63.623047\" xlink:href=\"#DejaVuSans-48\"/>\n       <use x=\"127.246094\" xlink:href=\"#DejaVuSans-48\"/>\n       <use x=\"190.869141\" xlink:href=\"#DejaVuSans-48\"/>\n      </g>\n     </g>\n    </g>\n   </g>\n   <g id=\"patch_13\">\n    <path d=\"M 39.65 227.08866 \nL 39.65 9.64866 \n\" style=\"fill:none;stroke:#000000;stroke-linecap:square;stroke-linejoin:miter;stroke-width:0.8;\"/>\n   </g>\n   <g id=\"patch_14\">\n    <path d=\"M 374.45 227.08866 \nL 374.45 9.64866 \n\" style=\"fill:none;stroke:#000000;stroke-linecap:square;stroke-linejoin:miter;stroke-width:0.8;\"/>\n   </g>\n   <g id=\"patch_15\">\n    <path d=\"M 39.65 227.08866 \nL 374.45 227.08866 \n\" style=\"fill:none;stroke:#000000;stroke-linecap:square;stroke-linejoin:miter;stroke-width:0.8;\"/>\n   </g>\n   <g id=\"patch_16\">\n    <path d=\"M 39.65 9.64866 \nL 374.45 9.64866 \n\" style=\"fill:none;stroke:#000000;stroke-linecap:square;stroke-linejoin:miter;stroke-width:0.8;\"/>\n   </g>\n  </g>\n </g>\n <defs>\n  <clipPath id=\"pc4c26ffbe8\">\n   <rect height=\"217.44\" width=\"334.8\" x=\"39.65\" y=\"9.64866\"/>\n  </clipPath>\n </defs>\n</svg>\n",
      "image/png": "[encoded data removed]"
     },
     "metadata": {
      "needs_background": "light"
     }
    }
   ],
   "source": [
    "movies_num['duration'].hist()"
   ]
  },
  {
   "cell_type": "code",
   "execution_count": 40,
   "metadata": {},
   "outputs": [
    {
     "output_type": "execute_result",
     "data": {
      "text/plain": [
       "<AxesSubplot:>"
      ]
     },
     "metadata": {},
     "execution_count": 40
    },
    {
     "output_type": "display_data",
     "data": {
      "text/plain": "<Figure size 432x288 with 1 Axes>",
      "image/svg+xml": "<?xml version=\"1.0\" encoding=\"utf-8\" standalone=\"no\"?>\n<!DOCTYPE svg PUBLIC \"-//W3C//DTD SVG 1.1//EN\"\n  \"http://www.w3.org/Graphics/SVG/1.1/DTD/svg11.dtd\">\n<!-- Created with matplotlib (https://matplotlib.org/) -->\n<svg height=\"248.518125pt\" version=\"1.1\" viewBox=\"0 0 381.65 248.518125\" width=\"381.65pt\" xmlns=\"http://www.w3.org/2000/svg\" xmlns:xlink=\"http://www.w3.org/1999/xlink\">\n <metadata>\n  <rdf:RDF xmlns:cc=\"http://creativecommons.org/ns#\" xmlns:dc=\"http://purl.org/dc/elements/1.1/\" xmlns:rdf=\"http://www.w3.org/1999/02/22-rdf-syntax-ns#\">\n   <cc:Work>\n    <dc:type rdf:resource=\"http://purl.org/dc/dcmitype/StillImage\"/>\n    <dc:date>2021-05-05T12:18:11.606094</dc:date>\n    <dc:format>image/svg+xml</dc:format>\n    <dc:creator>\n     <cc:Agent>\n      <dc:title>Matplotlib v3.3.2, https://matplotlib.org/</dc:title>\n     </cc:Agent>\n    </dc:creator>\n   </cc:Work>\n  </rdf:RDF>\n </metadata>\n <defs>\n  <style type=\"text/css\">*{stroke-linecap:butt;stroke-linejoin:round;}</style>\n </defs>\n <g id=\"figure_1\">\n  <g id=\"patch_1\">\n   <path d=\"M -0 248.518125 \nL 381.65 248.518125 \nL 381.65 0 \nL -0 0 \nz\n\" style=\"fill:none;\"/>\n  </g>\n  <g id=\"axes_1\">\n   <g id=\"patch_2\">\n    <path d=\"M 39.65 224.64 \nL 374.45 224.64 \nL 374.45 7.2 \nL 39.65 7.2 \nz\n\" style=\"fill:#ffffff;\"/>\n   </g>\n   <g id=\"patch_3\">\n    <path clip-path=\"url(#p98075bcdb4)\" d=\"M 54.868182 224.64 \nL 85.304545 224.64 \nL 85.304545 222.452956 \nL 54.868182 222.452956 \nz\n\" style=\"fill:#1f77b4;\"/>\n   </g>\n   <g id=\"patch_4\">\n    <path clip-path=\"url(#p98075bcdb4)\" d=\"M 85.304545 224.64 \nL 115.740909 224.64 \nL 115.740909 219.445771 \nL 85.304545 219.445771 \nz\n\" style=\"fill:#1f77b4;\"/>\n   </g>\n   <g id=\"patch_5\">\n    <path clip-path=\"url(#p98075bcdb4)\" d=\"M 115.740909 224.64 \nL 146.177273 224.64 \nL 146.177273 210.697595 \nL 115.740909 210.697595 \nz\n\" style=\"fill:#1f77b4;\"/>\n   </g>\n   <g id=\"patch_6\">\n    <path clip-path=\"url(#p98075bcdb4)\" d=\"M 146.177273 224.64 \nL 176.613636 224.64 \nL 176.613636 194.294767 \nL 146.177273 194.294767 \nz\n\" style=\"fill:#1f77b4;\"/>\n   </g>\n   <g id=\"patch_7\">\n    <path clip-path=\"url(#p98075bcdb4)\" d=\"M 176.613636 224.64 \nL 207.05 224.64 \nL 207.05 145.496351 \nL 176.613636 145.496351 \nz\n\" style=\"fill:#1f77b4;\"/>\n   </g>\n   <g id=\"patch_8\">\n    <path clip-path=\"url(#p98075bcdb4)\" d=\"M 207.05 224.64 \nL 237.486364 224.64 \nL 237.486364 66.352702 \nL 207.05 66.352702 \nz\n\" style=\"fill:#1f77b4;\"/>\n   </g>\n   <g id=\"patch_9\">\n    <path clip-path=\"url(#p98075bcdb4)\" d=\"M 237.486364 224.64 \nL 267.922727 224.64 \nL 267.922727 17.554286 \nL 237.486364 17.554286 \nz\n\" style=\"fill:#1f77b4;\"/>\n   </g>\n   <g id=\"patch_10\">\n    <path clip-path=\"url(#p98075bcdb4)\" d=\"M 267.922727 224.64 \nL 298.359091 224.64 \nL 298.359091 76.331089 \nL 267.922727 76.331089 \nz\n\" style=\"fill:#1f77b4;\"/>\n   </g>\n   <g id=\"patch_11\">\n    <path clip-path=\"url(#p98075bcdb4)\" d=\"M 298.359091 224.64 \nL 328.795455 224.64 \nL 328.795455 182.676096 \nL 298.359091 182.676096 \nz\n\" style=\"fill:#1f77b4;\"/>\n   </g>\n   <g id=\"patch_12\">\n    <path clip-path=\"url(#p98075bcdb4)\" d=\"M 328.795455 224.64 \nL 359.231818 224.64 \nL 359.231818 221.769505 \nL 328.795455 221.769505 \nz\n\" style=\"fill:#1f77b4;\"/>\n   </g>\n   <g id=\"matplotlib.axis_1\">\n    <g id=\"xtick_1\">\n     <g id=\"line2d_1\">\n      <path clip-path=\"url(#p98075bcdb4)\" d=\"M 70.278999 224.64 \nL 70.278999 7.2 \n\" style=\"fill:none;stroke:#b0b0b0;stroke-linecap:square;stroke-width:0.8;\"/>\n     </g>\n     <g id=\"line2d_2\">\n      <defs>\n       <path d=\"M 0 0 \nL 0 3.5 \n\" id=\"m0c99dbeed5\" style=\"stroke:#000000;stroke-width:0.8;\"/>\n      </defs>\n      <g>\n       <use style=\"stroke:#000000;stroke-width:0.8;\" x=\"70.278999\" xlink:href=\"#m0c99dbeed5\" y=\"224.64\"/>\n      </g>\n     </g>\n     <g id=\"text_1\">\n      <!-- 2 -->\n      <g transform=\"translate(67.097749 239.238437)scale(0.1 -0.1)\">\n       <defs>\n        <path d=\"M 19.1875 8.296875 \nL 53.609375 8.296875 \nL 53.609375 0 \nL 7.328125 0 \nL 7.328125 8.296875 \nQ 12.9375 14.109375 22.625 23.890625 \nQ 32.328125 33.6875 34.8125 36.53125 \nQ 39.546875 41.84375 41.421875 45.53125 \nQ 43.3125 49.21875 43.3125 52.78125 \nQ 43.3125 58.59375 39.234375 62.25 \nQ 35.15625 65.921875 28.609375 65.921875 \nQ 23.96875 65.921875 18.8125 64.3125 \nQ 13.671875 62.703125 7.8125 59.421875 \nL 7.8125 69.390625 \nQ 13.765625 71.78125 18.9375 73 \nQ 24.125 74.21875 28.421875 74.21875 \nQ 39.75 74.21875 46.484375 68.546875 \nQ 53.21875 62.890625 53.21875 53.421875 \nQ 53.21875 48.921875 51.53125 44.890625 \nQ 49.859375 40.875 45.40625 35.40625 \nQ 44.1875 33.984375 37.640625 27.21875 \nQ 31.109375 20.453125 19.1875 8.296875 \nz\n\" id=\"DejaVuSans-50\"/>\n       </defs>\n       <use xlink:href=\"#DejaVuSans-50\"/>\n      </g>\n     </g>\n    </g>\n    <g id=\"xtick_2\">\n     <g id=\"line2d_3\">\n      <path clip-path=\"url(#p98075bcdb4)\" d=\"M 108.806041 224.64 \nL 108.806041 7.2 \n\" style=\"fill:none;stroke:#b0b0b0;stroke-linecap:square;stroke-width:0.8;\"/>\n     </g>\n     <g id=\"line2d_4\">\n      <g>\n       <use style=\"stroke:#000000;stroke-width:0.8;\" x=\"108.806041\" xlink:href=\"#m0c99dbeed5\" y=\"224.64\"/>\n      </g>\n     </g>\n     <g id=\"text_2\">\n      <!-- 3 -->\n      <g transform=\"translate(105.624791 239.238437)scale(0.1 -0.1)\">\n       <defs>\n        <path d=\"M 40.578125 39.3125 \nQ 47.65625 37.796875 51.625 33 \nQ 55.609375 28.21875 55.609375 21.1875 \nQ 55.609375 10.40625 48.1875 4.484375 \nQ 40.765625 -1.421875 27.09375 -1.421875 \nQ 22.515625 -1.421875 17.65625 -0.515625 \nQ 12.796875 0.390625 7.625 2.203125 \nL 7.625 11.71875 \nQ 11.71875 9.328125 16.59375 8.109375 \nQ 21.484375 6.890625 26.8125 6.890625 \nQ 36.078125 6.890625 40.9375 10.546875 \nQ 45.796875 14.203125 45.796875 21.1875 \nQ 45.796875 27.640625 41.28125 31.265625 \nQ 36.765625 34.90625 28.71875 34.90625 \nL 20.21875 34.90625 \nL 20.21875 43.015625 \nL 29.109375 43.015625 \nQ 36.375 43.015625 40.234375 45.921875 \nQ 44.09375 48.828125 44.09375 54.296875 \nQ 44.09375 59.90625 40.109375 62.90625 \nQ 36.140625 65.921875 28.71875 65.921875 \nQ 24.65625 65.921875 20.015625 65.03125 \nQ 15.375 64.15625 9.8125 62.3125 \nL 9.8125 71.09375 \nQ 15.4375 72.65625 20.34375 73.4375 \nQ 25.25 74.21875 29.59375 74.21875 \nQ 40.828125 74.21875 47.359375 69.109375 \nQ 53.90625 64.015625 53.90625 55.328125 \nQ 53.90625 49.265625 50.4375 45.09375 \nQ 46.96875 40.921875 40.578125 39.3125 \nz\n\" id=\"DejaVuSans-51\"/>\n       </defs>\n       <use xlink:href=\"#DejaVuSans-51\"/>\n      </g>\n     </g>\n    </g>\n    <g id=\"xtick_3\">\n     <g id=\"line2d_5\">\n      <path clip-path=\"url(#p98075bcdb4)\" d=\"M 147.333084 224.64 \nL 147.333084 7.2 \n\" style=\"fill:none;stroke:#b0b0b0;stroke-linecap:square;stroke-width:0.8;\"/>\n     </g>\n     <g id=\"line2d_6\">\n      <g>\n       <use style=\"stroke:#000000;stroke-width:0.8;\" x=\"147.333084\" xlink:href=\"#m0c99dbeed5\" y=\"224.64\"/>\n      </g>\n     </g>\n     <g id=\"text_3\">\n      <!-- 4 -->\n      <g transform=\"translate(144.151834 239.238437)scale(0.1 -0.1)\">\n       <defs>\n        <path d=\"M 37.796875 64.3125 \nL 12.890625 25.390625 \nL 37.796875 25.390625 \nz\nM 35.203125 72.90625 \nL 47.609375 72.90625 \nL 47.609375 25.390625 \nL 58.015625 25.390625 \nL 58.015625 17.1875 \nL 47.609375 17.1875 \nL 47.609375 0 \nL 37.796875 0 \nL 37.796875 17.1875 \nL 4.890625 17.1875 \nL 4.890625 26.703125 \nz\n\" id=\"DejaVuSans-52\"/>\n       </defs>\n       <use xlink:href=\"#DejaVuSans-52\"/>\n      </g>\n     </g>\n    </g>\n    <g id=\"xtick_4\">\n     <g id=\"line2d_7\">\n      <path clip-path=\"url(#p98075bcdb4)\" d=\"M 185.860127 224.64 \nL 185.860127 7.2 \n\" style=\"fill:none;stroke:#b0b0b0;stroke-linecap:square;stroke-width:0.8;\"/>\n     </g>\n     <g id=\"line2d_8\">\n      <g>\n       <use style=\"stroke:#000000;stroke-width:0.8;\" x=\"185.860127\" xlink:href=\"#m0c99dbeed5\" y=\"224.64\"/>\n      </g>\n     </g>\n     <g id=\"text_4\">\n      <!-- 5 -->\n      <g transform=\"translate(182.678877 239.238437)scale(0.1 -0.1)\">\n       <defs>\n        <path d=\"M 10.796875 72.90625 \nL 49.515625 72.90625 \nL 49.515625 64.59375 \nL 19.828125 64.59375 \nL 19.828125 46.734375 \nQ 21.96875 47.46875 24.109375 47.828125 \nQ 26.265625 48.1875 28.421875 48.1875 \nQ 40.625 48.1875 47.75 41.5 \nQ 54.890625 34.8125 54.890625 23.390625 \nQ 54.890625 11.625 47.5625 5.09375 \nQ 40.234375 -1.421875 26.90625 -1.421875 \nQ 22.3125 -1.421875 17.546875 -0.640625 \nQ 12.796875 0.140625 7.71875 1.703125 \nL 7.71875 11.625 \nQ 12.109375 9.234375 16.796875 8.0625 \nQ 21.484375 6.890625 26.703125 6.890625 \nQ 35.15625 6.890625 40.078125 11.328125 \nQ 45.015625 15.765625 45.015625 23.390625 \nQ 45.015625 31 40.078125 35.4375 \nQ 35.15625 39.890625 26.703125 39.890625 \nQ 22.75 39.890625 18.8125 39.015625 \nQ 14.890625 38.140625 10.796875 36.28125 \nz\n\" id=\"DejaVuSans-53\"/>\n       </defs>\n       <use xlink:href=\"#DejaVuSans-53\"/>\n      </g>\n     </g>\n    </g>\n    <g id=\"xtick_5\">\n     <g id=\"line2d_9\">\n      <path clip-path=\"url(#p98075bcdb4)\" d=\"M 224.387169 224.64 \nL 224.387169 7.2 \n\" style=\"fill:none;stroke:#b0b0b0;stroke-linecap:square;stroke-width:0.8;\"/>\n     </g>\n     <g id=\"line2d_10\">\n      <g>\n       <use style=\"stroke:#000000;stroke-width:0.8;\" x=\"224.387169\" xlink:href=\"#m0c99dbeed5\" y=\"224.64\"/>\n      </g>\n     </g>\n     <g id=\"text_5\">\n      <!-- 6 -->\n      <g transform=\"translate(221.205919 239.238437)scale(0.1 -0.1)\">\n       <defs>\n        <path d=\"M 33.015625 40.375 \nQ 26.375 40.375 22.484375 35.828125 \nQ 18.609375 31.296875 18.609375 23.390625 \nQ 18.609375 15.53125 22.484375 10.953125 \nQ 26.375 6.390625 33.015625 6.390625 \nQ 39.65625 6.390625 43.53125 10.953125 \nQ 47.40625 15.53125 47.40625 23.390625 \nQ 47.40625 31.296875 43.53125 35.828125 \nQ 39.65625 40.375 33.015625 40.375 \nz\nM 52.59375 71.296875 \nL 52.59375 62.3125 \nQ 48.875 64.0625 45.09375 64.984375 \nQ 41.3125 65.921875 37.59375 65.921875 \nQ 27.828125 65.921875 22.671875 59.328125 \nQ 17.53125 52.734375 16.796875 39.40625 \nQ 19.671875 43.65625 24.015625 45.921875 \nQ 28.375 48.1875 33.59375 48.1875 \nQ 44.578125 48.1875 50.953125 41.515625 \nQ 57.328125 34.859375 57.328125 23.390625 \nQ 57.328125 12.15625 50.6875 5.359375 \nQ 44.046875 -1.421875 33.015625 -1.421875 \nQ 20.359375 -1.421875 13.671875 8.265625 \nQ 6.984375 17.96875 6.984375 36.375 \nQ 6.984375 53.65625 15.1875 63.9375 \nQ 23.390625 74.21875 37.203125 74.21875 \nQ 40.921875 74.21875 44.703125 73.484375 \nQ 48.484375 72.75 52.59375 71.296875 \nz\n\" id=\"DejaVuSans-54\"/>\n       </defs>\n       <use xlink:href=\"#DejaVuSans-54\"/>\n      </g>\n     </g>\n    </g>\n    <g id=\"xtick_6\">\n     <g id=\"line2d_11\">\n      <path clip-path=\"url(#p98075bcdb4)\" d=\"M 262.914212 224.64 \nL 262.914212 7.2 \n\" style=\"fill:none;stroke:#b0b0b0;stroke-linecap:square;stroke-width:0.8;\"/>\n     </g>\n     <g id=\"line2d_12\">\n      <g>\n       <use style=\"stroke:#000000;stroke-width:0.8;\" x=\"262.914212\" xlink:href=\"#m0c99dbeed5\" y=\"224.64\"/>\n      </g>\n     </g>\n     <g id=\"text_6\">\n      <!-- 7 -->\n      <g transform=\"translate(259.732962 239.238437)scale(0.1 -0.1)\">\n       <defs>\n        <path d=\"M 8.203125 72.90625 \nL 55.078125 72.90625 \nL 55.078125 68.703125 \nL 28.609375 0 \nL 18.3125 0 \nL 43.21875 64.59375 \nL 8.203125 64.59375 \nz\n\" id=\"DejaVuSans-55\"/>\n       </defs>\n       <use xlink:href=\"#DejaVuSans-55\"/>\n      </g>\n     </g>\n    </g>\n    <g id=\"xtick_7\">\n     <g id=\"line2d_13\">\n      <path clip-path=\"url(#p98075bcdb4)\" d=\"M 301.441254 224.64 \nL 301.441254 7.2 \n\" style=\"fill:none;stroke:#b0b0b0;stroke-linecap:square;stroke-width:0.8;\"/>\n     </g>\n     <g id=\"line2d_14\">\n      <g>\n       <use style=\"stroke:#000000;stroke-width:0.8;\" x=\"301.441254\" xlink:href=\"#m0c99dbeed5\" y=\"224.64\"/>\n      </g>\n     </g>\n     <g id=\"text_7\">\n      <!-- 8 -->\n      <g transform=\"translate(298.260004 239.238437)scale(0.1 -0.1)\">\n       <defs>\n        <path d=\"M 31.78125 34.625 \nQ 24.75 34.625 20.71875 30.859375 \nQ 16.703125 27.09375 16.703125 20.515625 \nQ 16.703125 13.921875 20.71875 10.15625 \nQ 24.75 6.390625 31.78125 6.390625 \nQ 38.8125 6.390625 42.859375 10.171875 \nQ 46.921875 13.96875 46.921875 20.515625 \nQ 46.921875 27.09375 42.890625 30.859375 \nQ 38.875 34.625 31.78125 34.625 \nz\nM 21.921875 38.8125 \nQ 15.578125 40.375 12.03125 44.71875 \nQ 8.5 49.078125 8.5 55.328125 \nQ 8.5 64.0625 14.71875 69.140625 \nQ 20.953125 74.21875 31.78125 74.21875 \nQ 42.671875 74.21875 48.875 69.140625 \nQ 55.078125 64.0625 55.078125 55.328125 \nQ 55.078125 49.078125 51.53125 44.71875 \nQ 48 40.375 41.703125 38.8125 \nQ 48.828125 37.15625 52.796875 32.3125 \nQ 56.78125 27.484375 56.78125 20.515625 \nQ 56.78125 9.90625 50.3125 4.234375 \nQ 43.84375 -1.421875 31.78125 -1.421875 \nQ 19.734375 -1.421875 13.25 4.234375 \nQ 6.78125 9.90625 6.78125 20.515625 \nQ 6.78125 27.484375 10.78125 32.3125 \nQ 14.796875 37.15625 21.921875 38.8125 \nz\nM 18.3125 54.390625 \nQ 18.3125 48.734375 21.84375 45.5625 \nQ 25.390625 42.390625 31.78125 42.390625 \nQ 38.140625 42.390625 41.71875 45.5625 \nQ 45.3125 48.734375 45.3125 54.390625 \nQ 45.3125 60.0625 41.71875 63.234375 \nQ 38.140625 66.40625 31.78125 66.40625 \nQ 25.390625 66.40625 21.84375 63.234375 \nQ 18.3125 60.0625 18.3125 54.390625 \nz\n\" id=\"DejaVuSans-56\"/>\n       </defs>\n       <use xlink:href=\"#DejaVuSans-56\"/>\n      </g>\n     </g>\n    </g>\n    <g id=\"xtick_8\">\n     <g id=\"line2d_15\">\n      <path clip-path=\"url(#p98075bcdb4)\" d=\"M 339.968297 224.64 \nL 339.968297 7.2 \n\" style=\"fill:none;stroke:#b0b0b0;stroke-linecap:square;stroke-width:0.8;\"/>\n     </g>\n     <g id=\"line2d_16\">\n      <g>\n       <use style=\"stroke:#000000;stroke-width:0.8;\" x=\"339.968297\" xlink:href=\"#m0c99dbeed5\" y=\"224.64\"/>\n      </g>\n     </g>\n     <g id=\"text_8\">\n      <!-- 9 -->\n      <g transform=\"translate(336.787047 239.238437)scale(0.1 -0.1)\">\n       <defs>\n        <path d=\"M 10.984375 1.515625 \nL 10.984375 10.5 \nQ 14.703125 8.734375 18.5 7.8125 \nQ 22.3125 6.890625 25.984375 6.890625 \nQ 35.75 6.890625 40.890625 13.453125 \nQ 46.046875 20.015625 46.78125 33.40625 \nQ 43.953125 29.203125 39.59375 26.953125 \nQ 35.25 24.703125 29.984375 24.703125 \nQ 19.046875 24.703125 12.671875 31.3125 \nQ 6.296875 37.9375 6.296875 49.421875 \nQ 6.296875 60.640625 12.9375 67.421875 \nQ 19.578125 74.21875 30.609375 74.21875 \nQ 43.265625 74.21875 49.921875 64.515625 \nQ 56.59375 54.828125 56.59375 36.375 \nQ 56.59375 19.140625 48.40625 8.859375 \nQ 40.234375 -1.421875 26.421875 -1.421875 \nQ 22.703125 -1.421875 18.890625 -0.6875 \nQ 15.09375 0.046875 10.984375 1.515625 \nz\nM 30.609375 32.421875 \nQ 37.25 32.421875 41.125 36.953125 \nQ 45.015625 41.5 45.015625 49.421875 \nQ 45.015625 57.28125 41.125 61.84375 \nQ 37.25 66.40625 30.609375 66.40625 \nQ 23.96875 66.40625 20.09375 61.84375 \nQ 16.21875 57.28125 16.21875 49.421875 \nQ 16.21875 41.5 20.09375 36.953125 \nQ 23.96875 32.421875 30.609375 32.421875 \nz\n\" id=\"DejaVuSans-57\"/>\n       </defs>\n       <use xlink:href=\"#DejaVuSans-57\"/>\n      </g>\n     </g>\n    </g>\n   </g>\n   <g id=\"matplotlib.axis_2\">\n    <g id=\"ytick_1\">\n     <g id=\"line2d_17\">\n      <path clip-path=\"url(#p98075bcdb4)\" d=\"M 39.65 224.64 \nL 374.45 224.64 \n\" style=\"fill:none;stroke:#b0b0b0;stroke-linecap:square;stroke-width:0.8;\"/>\n     </g>\n     <g id=\"line2d_18\">\n      <defs>\n       <path d=\"M 0 0 \nL -3.5 0 \n\" id=\"me570ea1f63\" style=\"stroke:#000000;stroke-width:0.8;\"/>\n      </defs>\n      <g>\n       <use style=\"stroke:#000000;stroke-width:0.8;\" x=\"39.65\" xlink:href=\"#me570ea1f63\" y=\"224.64\"/>\n      </g>\n     </g>\n     <g id=\"text_9\">\n      <!-- 0 -->\n      <g transform=\"translate(26.2875 228.439219)scale(0.1 -0.1)\">\n       <defs>\n        <path d=\"M 31.78125 66.40625 \nQ 24.171875 66.40625 20.328125 58.90625 \nQ 16.5 51.421875 16.5 36.375 \nQ 16.5 21.390625 20.328125 13.890625 \nQ 24.171875 6.390625 31.78125 6.390625 \nQ 39.453125 6.390625 43.28125 13.890625 \nQ 47.125 21.390625 47.125 36.375 \nQ 47.125 51.421875 43.28125 58.90625 \nQ 39.453125 66.40625 31.78125 66.40625 \nz\nM 31.78125 74.21875 \nQ 44.046875 74.21875 50.515625 64.515625 \nQ 56.984375 54.828125 56.984375 36.375 \nQ 56.984375 17.96875 50.515625 8.265625 \nQ 44.046875 -1.421875 31.78125 -1.421875 \nQ 19.53125 -1.421875 13.0625 8.265625 \nQ 6.59375 17.96875 6.59375 36.375 \nQ 6.59375 54.828125 13.0625 64.515625 \nQ 19.53125 74.21875 31.78125 74.21875 \nz\n\" id=\"DejaVuSans-48\"/>\n       </defs>\n       <use xlink:href=\"#DejaVuSans-48\"/>\n      </g>\n     </g>\n    </g>\n    <g id=\"ytick_2\">\n     <g id=\"line2d_19\">\n      <path clip-path=\"url(#p98075bcdb4)\" d=\"M 39.65 197.301952 \nL 374.45 197.301952 \n\" style=\"fill:none;stroke:#b0b0b0;stroke-linecap:square;stroke-width:0.8;\"/>\n     </g>\n     <g id=\"line2d_20\">\n      <g>\n       <use style=\"stroke:#000000;stroke-width:0.8;\" x=\"39.65\" xlink:href=\"#me570ea1f63\" y=\"197.301952\"/>\n      </g>\n     </g>\n     <g id=\"text_10\">\n      <!-- 200 -->\n      <g transform=\"translate(13.5625 201.101171)scale(0.1 -0.1)\">\n       <use xlink:href=\"#DejaVuSans-50\"/>\n       <use x=\"63.623047\" xlink:href=\"#DejaVuSans-48\"/>\n       <use x=\"127.246094\" xlink:href=\"#DejaVuSans-48\"/>\n      </g>\n     </g>\n    </g>\n    <g id=\"ytick_3\">\n     <g id=\"line2d_21\">\n      <path clip-path=\"url(#p98075bcdb4)\" d=\"M 39.65 169.963904 \nL 374.45 169.963904 \n\" style=\"fill:none;stroke:#b0b0b0;stroke-linecap:square;stroke-width:0.8;\"/>\n     </g>\n     <g id=\"line2d_22\">\n      <g>\n       <use style=\"stroke:#000000;stroke-width:0.8;\" x=\"39.65\" xlink:href=\"#me570ea1f63\" y=\"169.963904\"/>\n      </g>\n     </g>\n     <g id=\"text_11\">\n      <!-- 400 -->\n      <g transform=\"translate(13.5625 173.763123)scale(0.1 -0.1)\">\n       <use xlink:href=\"#DejaVuSans-52\"/>\n       <use x=\"63.623047\" xlink:href=\"#DejaVuSans-48\"/>\n       <use x=\"127.246094\" xlink:href=\"#DejaVuSans-48\"/>\n      </g>\n     </g>\n    </g>\n    <g id=\"ytick_4\">\n     <g id=\"line2d_23\">\n      <path clip-path=\"url(#p98075bcdb4)\" d=\"M 39.65 142.625856 \nL 374.45 142.625856 \n\" style=\"fill:none;stroke:#b0b0b0;stroke-linecap:square;stroke-width:0.8;\"/>\n     </g>\n     <g id=\"line2d_24\">\n      <g>\n       <use style=\"stroke:#000000;stroke-width:0.8;\" x=\"39.65\" xlink:href=\"#me570ea1f63\" y=\"142.625856\"/>\n      </g>\n     </g>\n     <g id=\"text_12\">\n      <!-- 600 -->\n      <g transform=\"translate(13.5625 146.425074)scale(0.1 -0.1)\">\n       <use xlink:href=\"#DejaVuSans-54\"/>\n       <use x=\"63.623047\" xlink:href=\"#DejaVuSans-48\"/>\n       <use x=\"127.246094\" xlink:href=\"#DejaVuSans-48\"/>\n      </g>\n     </g>\n    </g>\n    <g id=\"ytick_5\">\n     <g id=\"line2d_25\">\n      <path clip-path=\"url(#p98075bcdb4)\" d=\"M 39.65 115.287808 \nL 374.45 115.287808 \n\" style=\"fill:none;stroke:#b0b0b0;stroke-linecap:square;stroke-width:0.8;\"/>\n     </g>\n     <g id=\"line2d_26\">\n      <g>\n       <use style=\"stroke:#000000;stroke-width:0.8;\" x=\"39.65\" xlink:href=\"#me570ea1f63\" y=\"115.287808\"/>\n      </g>\n     </g>\n     <g id=\"text_13\">\n      <!-- 800 -->\n      <g transform=\"translate(13.5625 119.087026)scale(0.1 -0.1)\">\n       <use xlink:href=\"#DejaVuSans-56\"/>\n       <use x=\"63.623047\" xlink:href=\"#DejaVuSans-48\"/>\n       <use x=\"127.246094\" xlink:href=\"#DejaVuSans-48\"/>\n      </g>\n     </g>\n    </g>\n    <g id=\"ytick_6\">\n     <g id=\"line2d_27\">\n      <path clip-path=\"url(#p98075bcdb4)\" d=\"M 39.65 87.94976 \nL 374.45 87.94976 \n\" style=\"fill:none;stroke:#b0b0b0;stroke-linecap:square;stroke-width:0.8;\"/>\n     </g>\n     <g id=\"line2d_28\">\n      <g>\n       <use style=\"stroke:#000000;stroke-width:0.8;\" x=\"39.65\" xlink:href=\"#me570ea1f63\" y=\"87.94976\"/>\n      </g>\n     </g>\n     <g id=\"text_14\">\n      <!-- 1000 -->\n      <g transform=\"translate(7.2 91.748978)scale(0.1 -0.1)\">\n       <defs>\n        <path d=\"M 12.40625 8.296875 \nL 28.515625 8.296875 \nL 28.515625 63.921875 \nL 10.984375 60.40625 \nL 10.984375 69.390625 \nL 28.421875 72.90625 \nL 38.28125 72.90625 \nL 38.28125 8.296875 \nL 54.390625 8.296875 \nL 54.390625 0 \nL 12.40625 0 \nz\n\" id=\"DejaVuSans-49\"/>\n       </defs>\n       <use xlink:href=\"#DejaVuSans-49\"/>\n       <use x=\"63.623047\" xlink:href=\"#DejaVuSans-48\"/>\n       <use x=\"127.246094\" xlink:href=\"#DejaVuSans-48\"/>\n       <use x=\"190.869141\" xlink:href=\"#DejaVuSans-48\"/>\n      </g>\n     </g>\n    </g>\n    <g id=\"ytick_7\">\n     <g id=\"line2d_29\">\n      <path clip-path=\"url(#p98075bcdb4)\" d=\"M 39.65 60.611711 \nL 374.45 60.611711 \n\" style=\"fill:none;stroke:#b0b0b0;stroke-linecap:square;stroke-width:0.8;\"/>\n     </g>\n     <g id=\"line2d_30\">\n      <g>\n       <use style=\"stroke:#000000;stroke-width:0.8;\" x=\"39.65\" xlink:href=\"#me570ea1f63\" y=\"60.611711\"/>\n      </g>\n     </g>\n     <g id=\"text_15\">\n      <!-- 1200 -->\n      <g transform=\"translate(7.2 64.41093)scale(0.1 -0.1)\">\n       <use xlink:href=\"#DejaVuSans-49\"/>\n       <use x=\"63.623047\" xlink:href=\"#DejaVuSans-50\"/>\n       <use x=\"127.246094\" xlink:href=\"#DejaVuSans-48\"/>\n       <use x=\"190.869141\" xlink:href=\"#DejaVuSans-48\"/>\n      </g>\n     </g>\n    </g>\n    <g id=\"ytick_8\">\n     <g id=\"line2d_31\">\n      <path clip-path=\"url(#p98075bcdb4)\" d=\"M 39.65 33.273663 \nL 374.45 33.273663 \n\" style=\"fill:none;stroke:#b0b0b0;stroke-linecap:square;stroke-width:0.8;\"/>\n     </g>\n     <g id=\"line2d_32\">\n      <g>\n       <use style=\"stroke:#000000;stroke-width:0.8;\" x=\"39.65\" xlink:href=\"#me570ea1f63\" y=\"33.273663\"/>\n      </g>\n     </g>\n     <g id=\"text_16\">\n      <!-- 1400 -->\n      <g transform=\"translate(7.2 37.072882)scale(0.1 -0.1)\">\n       <use xlink:href=\"#DejaVuSans-49\"/>\n       <use x=\"63.623047\" xlink:href=\"#DejaVuSans-52\"/>\n       <use x=\"127.246094\" xlink:href=\"#DejaVuSans-48\"/>\n       <use x=\"190.869141\" xlink:href=\"#DejaVuSans-48\"/>\n      </g>\n     </g>\n    </g>\n   </g>\n   <g id=\"patch_13\">\n    <path d=\"M 39.65 224.64 \nL 39.65 7.2 \n\" style=\"fill:none;stroke:#000000;stroke-linecap:square;stroke-linejoin:miter;stroke-width:0.8;\"/>\n   </g>\n   <g id=\"patch_14\">\n    <path d=\"M 374.45 224.64 \nL 374.45 7.2 \n\" style=\"fill:none;stroke:#000000;stroke-linecap:square;stroke-linejoin:miter;stroke-width:0.8;\"/>\n   </g>\n   <g id=\"patch_15\">\n    <path d=\"M 39.65 224.64 \nL 374.45 224.64 \n\" style=\"fill:none;stroke:#000000;stroke-linecap:square;stroke-linejoin:miter;stroke-width:0.8;\"/>\n   </g>\n   <g id=\"patch_16\">\n    <path d=\"M 39.65 7.2 \nL 374.45 7.2 \n\" style=\"fill:none;stroke:#000000;stroke-linecap:square;stroke-linejoin:miter;stroke-width:0.8;\"/>\n   </g>\n  </g>\n </g>\n <defs>\n  <clipPath id=\"p98075bcdb4\">\n   <rect height=\"217.44\" width=\"334.8\" x=\"39.65\" y=\"7.2\"/>\n  </clipPath>\n </defs>\n</svg>\n",
      "image/png": "[encoded data removed]"
     },
     "metadata": {
      "needs_background": "light"
     }
    }
   ],
   "source": [
    "movies_num['imdb_score'].hist()"
   ]
  },
  {
   "cell_type": "code",
   "execution_count": 41,
   "metadata": {},
   "outputs": [
    {
     "output_type": "execute_result",
     "data": {
      "text/plain": [
       "<AxesSubplot:>"
      ]
     },
     "metadata": {},
     "execution_count": 41
    },
    {
     "output_type": "display_data",
     "data": {
      "text/plain": "<Figure size 432x288 with 1 Axes>",
      "image/svg+xml": "<?xml version=\"1.0\" encoding=\"utf-8\" standalone=\"no\"?>\n<!DOCTYPE svg PUBLIC \"-//W3C//DTD SVG 1.1//EN\"\n  \"http://www.w3.org/Graphics/SVG/1.1/DTD/svg11.dtd\">\n<!-- Created with matplotlib (https://matplotlib.org/) -->\n<svg height=\"261.19625pt\" version=\"1.1\" viewBox=\"0 0 381.65 261.19625\" width=\"381.65pt\" xmlns=\"http://www.w3.org/2000/svg\" xmlns:xlink=\"http://www.w3.org/1999/xlink\">\n <metadata>\n  <rdf:RDF xmlns:cc=\"http://creativecommons.org/ns#\" xmlns:dc=\"http://purl.org/dc/elements/1.1/\" xmlns:rdf=\"http://www.w3.org/1999/02/22-rdf-syntax-ns#\">\n   <cc:Work>\n    <dc:type rdf:resource=\"http://purl.org/dc/dcmitype/StillImage\"/>\n    <dc:date>2021-05-05T12:19:10.411625</dc:date>\n    <dc:format>image/svg+xml</dc:format>\n    <dc:creator>\n     <cc:Agent>\n      <dc:title>Matplotlib v3.3.2, https://matplotlib.org/</dc:title>\n     </cc:Agent>\n    </dc:creator>\n   </cc:Work>\n  </rdf:RDF>\n </metadata>\n <defs>\n  <style type=\"text/css\">*{stroke-linecap:butt;stroke-linejoin:round;}</style>\n </defs>\n <g id=\"figure_1\">\n  <g id=\"patch_1\">\n   <path d=\"M -0 261.19625 \nL 381.65 261.19625 \nL 381.65 0 \nL -0 0 \nz\n\" style=\"fill:none;\"/>\n  </g>\n  <g id=\"axes_1\">\n   <g id=\"patch_2\">\n    <path d=\"M 39.65 224.64 \nL 374.45 224.64 \nL 374.45 7.2 \nL 39.65 7.2 \nz\n\" style=\"fill:#ffffff;\"/>\n   </g>\n   <g id=\"patch_3\">\n    <path clip-path=\"url(#p4e2ce2f608)\" d=\"M 54.868182 224.64 \nL 85.304545 224.64 \nL 85.304545 17.554286 \nL 54.868182 17.554286 \nz\n\" style=\"fill:#1f77b4;\"/>\n   </g>\n   <g id=\"patch_4\">\n    <path clip-path=\"url(#p4e2ce2f608)\" d=\"M 85.304545 224.64 \nL 115.740909 224.64 \nL 115.740909 224.548893 \nL 85.304545 224.548893 \nz\n\" style=\"fill:#1f77b4;\"/>\n   </g>\n   <g id=\"patch_5\">\n    <path clip-path=\"url(#p4e2ce2f608)\" d=\"M 115.740909 224.64 \nL 146.177273 224.64 \nL 146.177273 224.594447 \nL 115.740909 224.594447 \nz\n\" style=\"fill:#1f77b4;\"/>\n   </g>\n   <g id=\"patch_6\">\n    <path clip-path=\"url(#p4e2ce2f608)\" d=\"M 146.177273 224.64 \nL 176.613636 224.64 \nL 176.613636 224.594447 \nL 146.177273 224.594447 \nz\n\" style=\"fill:#1f77b4;\"/>\n   </g>\n   <g id=\"patch_7\">\n    <path clip-path=\"url(#p4e2ce2f608)\" d=\"M 176.613636 224.64 \nL 207.05 224.64 \nL 207.05 224.64 \nL 176.613636 224.64 \nz\n\" style=\"fill:#1f77b4;\"/>\n   </g>\n   <g id=\"patch_8\">\n    <path clip-path=\"url(#p4e2ce2f608)\" d=\"M 207.05 224.64 \nL 237.486364 224.64 \nL 237.486364 224.64 \nL 207.05 224.64 \nz\n\" style=\"fill:#1f77b4;\"/>\n   </g>\n   <g id=\"patch_9\">\n    <path clip-path=\"url(#p4e2ce2f608)\" d=\"M 237.486364 224.64 \nL 267.922727 224.64 \nL 267.922727 224.64 \nL 237.486364 224.64 \nz\n\" style=\"fill:#1f77b4;\"/>\n   </g>\n   <g id=\"patch_10\">\n    <path clip-path=\"url(#p4e2ce2f608)\" d=\"M 267.922727 224.64 \nL 298.359091 224.64 \nL 298.359091 224.64 \nL 267.922727 224.64 \nz\n\" style=\"fill:#1f77b4;\"/>\n   </g>\n   <g id=\"patch_11\">\n    <path clip-path=\"url(#p4e2ce2f608)\" d=\"M 298.359091 224.64 \nL 328.795455 224.64 \nL 328.795455 224.64 \nL 298.359091 224.64 \nz\n\" style=\"fill:#1f77b4;\"/>\n   </g>\n   <g id=\"patch_12\">\n    <path clip-path=\"url(#p4e2ce2f608)\" d=\"M 328.795455 224.64 \nL 359.231818 224.64 \nL 359.231818 224.594447 \nL 328.795455 224.594447 \nz\n\" style=\"fill:#1f77b4;\"/>\n   </g>\n   <g id=\"matplotlib.axis_1\">\n    <g id=\"xtick_1\">\n     <g id=\"line2d_1\">\n      <path clip-path=\"url(#p4e2ce2f608)\" d=\"M 54.868176 224.64 \nL 54.868176 7.2 \n\" style=\"fill:none;stroke:#b0b0b0;stroke-linecap:square;stroke-width:0.8;\"/>\n     </g>\n     <g id=\"line2d_2\">\n      <defs>\n       <path d=\"M 0 0 \nL 0 3.5 \n\" id=\"m85cb659d63\" style=\"stroke:#000000;stroke-width:0.8;\"/>\n      </defs>\n      <g>\n       <use style=\"stroke:#000000;stroke-width:0.8;\" x=\"54.868176\" xlink:href=\"#m85cb659d63\" y=\"224.64\"/>\n      </g>\n     </g>\n     <g id=\"text_1\">\n      <!-- 0.0 -->\n      <g transform=\"translate(46.916614 239.238437)scale(0.1 -0.1)\">\n       <defs>\n        <path d=\"M 31.78125 66.40625 \nQ 24.171875 66.40625 20.328125 58.90625 \nQ 16.5 51.421875 16.5 36.375 \nQ 16.5 21.390625 20.328125 13.890625 \nQ 24.171875 6.390625 31.78125 6.390625 \nQ 39.453125 6.390625 43.28125 13.890625 \nQ 47.125 21.390625 47.125 36.375 \nQ 47.125 51.421875 43.28125 58.90625 \nQ 39.453125 66.40625 31.78125 66.40625 \nz\nM 31.78125 74.21875 \nQ 44.046875 74.21875 50.515625 64.515625 \nQ 56.984375 54.828125 56.984375 36.375 \nQ 56.984375 17.96875 50.515625 8.265625 \nQ 44.046875 -1.421875 31.78125 -1.421875 \nQ 19.53125 -1.421875 13.0625 8.265625 \nQ 6.59375 17.96875 6.59375 36.375 \nQ 6.59375 54.828125 13.0625 64.515625 \nQ 19.53125 74.21875 31.78125 74.21875 \nz\n\" id=\"DejaVuSans-48\"/>\n        <path d=\"M 10.6875 12.40625 \nL 21 12.40625 \nL 21 0 \nL 10.6875 0 \nz\n\" id=\"DejaVuSans-46\"/>\n       </defs>\n       <use xlink:href=\"#DejaVuSans-48\"/>\n       <use x=\"63.623047\" xlink:href=\"#DejaVuSans-46\"/>\n       <use x=\"95.410156\" xlink:href=\"#DejaVuSans-48\"/>\n      </g>\n     </g>\n    </g>\n    <g id=\"xtick_2\">\n     <g id=\"line2d_3\">\n      <path clip-path=\"url(#p4e2ce2f608)\" d=\"M 104.700544 224.64 \nL 104.700544 7.2 \n\" style=\"fill:none;stroke:#b0b0b0;stroke-linecap:square;stroke-width:0.8;\"/>\n     </g>\n     <g id=\"line2d_4\">\n      <g>\n       <use style=\"stroke:#000000;stroke-width:0.8;\" x=\"104.700544\" xlink:href=\"#m85cb659d63\" y=\"224.64\"/>\n      </g>\n     </g>\n     <g id=\"text_2\">\n      <!-- 0.2 -->\n      <g transform=\"translate(96.748981 239.238437)scale(0.1 -0.1)\">\n       <defs>\n        <path d=\"M 19.1875 8.296875 \nL 53.609375 8.296875 \nL 53.609375 0 \nL 7.328125 0 \nL 7.328125 8.296875 \nQ 12.9375 14.109375 22.625 23.890625 \nQ 32.328125 33.6875 34.8125 36.53125 \nQ 39.546875 41.84375 41.421875 45.53125 \nQ 43.3125 49.21875 43.3125 52.78125 \nQ 43.3125 58.59375 39.234375 62.25 \nQ 35.15625 65.921875 28.609375 65.921875 \nQ 23.96875 65.921875 18.8125 64.3125 \nQ 13.671875 62.703125 7.8125 59.421875 \nL 7.8125 69.390625 \nQ 13.765625 71.78125 18.9375 73 \nQ 24.125 74.21875 28.421875 74.21875 \nQ 39.75 74.21875 46.484375 68.546875 \nQ 53.21875 62.890625 53.21875 53.421875 \nQ 53.21875 48.921875 51.53125 44.890625 \nQ 49.859375 40.875 45.40625 35.40625 \nQ 44.1875 33.984375 37.640625 27.21875 \nQ 31.109375 20.453125 19.1875 8.296875 \nz\n\" id=\"DejaVuSans-50\"/>\n       </defs>\n       <use xlink:href=\"#DejaVuSans-48\"/>\n       <use x=\"63.623047\" xlink:href=\"#DejaVuSans-46\"/>\n       <use x=\"95.410156\" xlink:href=\"#DejaVuSans-50\"/>\n      </g>\n     </g>\n    </g>\n    <g id=\"xtick_3\">\n     <g id=\"line2d_5\">\n      <path clip-path=\"url(#p4e2ce2f608)\" d=\"M 154.532911 224.64 \nL 154.532911 7.2 \n\" style=\"fill:none;stroke:#b0b0b0;stroke-linecap:square;stroke-width:0.8;\"/>\n     </g>\n     <g id=\"line2d_6\">\n      <g>\n       <use style=\"stroke:#000000;stroke-width:0.8;\" x=\"154.532911\" xlink:href=\"#m85cb659d63\" y=\"224.64\"/>\n      </g>\n     </g>\n     <g id=\"text_3\">\n      <!-- 0.4 -->\n      <g transform=\"translate(146.581349 239.238437)scale(0.1 -0.1)\">\n       <defs>\n        <path d=\"M 37.796875 64.3125 \nL 12.890625 25.390625 \nL 37.796875 25.390625 \nz\nM 35.203125 72.90625 \nL 47.609375 72.90625 \nL 47.609375 25.390625 \nL 58.015625 25.390625 \nL 58.015625 17.1875 \nL 47.609375 17.1875 \nL 47.609375 0 \nL 37.796875 0 \nL 37.796875 17.1875 \nL 4.890625 17.1875 \nL 4.890625 26.703125 \nz\n\" id=\"DejaVuSans-52\"/>\n       </defs>\n       <use xlink:href=\"#DejaVuSans-48\"/>\n       <use x=\"63.623047\" xlink:href=\"#DejaVuSans-46\"/>\n       <use x=\"95.410156\" xlink:href=\"#DejaVuSans-52\"/>\n      </g>\n     </g>\n    </g>\n    <g id=\"xtick_4\">\n     <g id=\"line2d_7\">\n      <path clip-path=\"url(#p4e2ce2f608)\" d=\"M 204.365278 224.64 \nL 204.365278 7.2 \n\" style=\"fill:none;stroke:#b0b0b0;stroke-linecap:square;stroke-width:0.8;\"/>\n     </g>\n     <g id=\"line2d_8\">\n      <g>\n       <use style=\"stroke:#000000;stroke-width:0.8;\" x=\"204.365278\" xlink:href=\"#m85cb659d63\" y=\"224.64\"/>\n      </g>\n     </g>\n     <g id=\"text_4\">\n      <!-- 0.6 -->\n      <g transform=\"translate(196.413716 239.238437)scale(0.1 -0.1)\">\n       <defs>\n        <path d=\"M 33.015625 40.375 \nQ 26.375 40.375 22.484375 35.828125 \nQ 18.609375 31.296875 18.609375 23.390625 \nQ 18.609375 15.53125 22.484375 10.953125 \nQ 26.375 6.390625 33.015625 6.390625 \nQ 39.65625 6.390625 43.53125 10.953125 \nQ 47.40625 15.53125 47.40625 23.390625 \nQ 47.40625 31.296875 43.53125 35.828125 \nQ 39.65625 40.375 33.015625 40.375 \nz\nM 52.59375 71.296875 \nL 52.59375 62.3125 \nQ 48.875 64.0625 45.09375 64.984375 \nQ 41.3125 65.921875 37.59375 65.921875 \nQ 27.828125 65.921875 22.671875 59.328125 \nQ 17.53125 52.734375 16.796875 39.40625 \nQ 19.671875 43.65625 24.015625 45.921875 \nQ 28.375 48.1875 33.59375 48.1875 \nQ 44.578125 48.1875 50.953125 41.515625 \nQ 57.328125 34.859375 57.328125 23.390625 \nQ 57.328125 12.15625 50.6875 5.359375 \nQ 44.046875 -1.421875 33.015625 -1.421875 \nQ 20.359375 -1.421875 13.671875 8.265625 \nQ 6.984375 17.96875 6.984375 36.375 \nQ 6.984375 53.65625 15.1875 63.9375 \nQ 23.390625 74.21875 37.203125 74.21875 \nQ 40.921875 74.21875 44.703125 73.484375 \nQ 48.484375 72.75 52.59375 71.296875 \nz\n\" id=\"DejaVuSans-54\"/>\n       </defs>\n       <use xlink:href=\"#DejaVuSans-48\"/>\n       <use x=\"63.623047\" xlink:href=\"#DejaVuSans-46\"/>\n       <use x=\"95.410156\" xlink:href=\"#DejaVuSans-54\"/>\n      </g>\n     </g>\n    </g>\n    <g id=\"xtick_5\">\n     <g id=\"line2d_9\">\n      <path clip-path=\"url(#p4e2ce2f608)\" d=\"M 254.197646 224.64 \nL 254.197646 7.2 \n\" style=\"fill:none;stroke:#b0b0b0;stroke-linecap:square;stroke-width:0.8;\"/>\n     </g>\n     <g id=\"line2d_10\">\n      <g>\n       <use style=\"stroke:#000000;stroke-width:0.8;\" x=\"254.197646\" xlink:href=\"#m85cb659d63\" y=\"224.64\"/>\n      </g>\n     </g>\n     <g id=\"text_5\">\n      <!-- 0.8 -->\n      <g transform=\"translate(246.246083 239.238437)scale(0.1 -0.1)\">\n       <defs>\n        <path d=\"M 31.78125 34.625 \nQ 24.75 34.625 20.71875 30.859375 \nQ 16.703125 27.09375 16.703125 20.515625 \nQ 16.703125 13.921875 20.71875 10.15625 \nQ 24.75 6.390625 31.78125 6.390625 \nQ 38.8125 6.390625 42.859375 10.171875 \nQ 46.921875 13.96875 46.921875 20.515625 \nQ 46.921875 27.09375 42.890625 30.859375 \nQ 38.875 34.625 31.78125 34.625 \nz\nM 21.921875 38.8125 \nQ 15.578125 40.375 12.03125 44.71875 \nQ 8.5 49.078125 8.5 55.328125 \nQ 8.5 64.0625 14.71875 69.140625 \nQ 20.953125 74.21875 31.78125 74.21875 \nQ 42.671875 74.21875 48.875 69.140625 \nQ 55.078125 64.0625 55.078125 55.328125 \nQ 55.078125 49.078125 51.53125 44.71875 \nQ 48 40.375 41.703125 38.8125 \nQ 48.828125 37.15625 52.796875 32.3125 \nQ 56.78125 27.484375 56.78125 20.515625 \nQ 56.78125 9.90625 50.3125 4.234375 \nQ 43.84375 -1.421875 31.78125 -1.421875 \nQ 19.734375 -1.421875 13.25 4.234375 \nQ 6.78125 9.90625 6.78125 20.515625 \nQ 6.78125 27.484375 10.78125 32.3125 \nQ 14.796875 37.15625 21.921875 38.8125 \nz\nM 18.3125 54.390625 \nQ 18.3125 48.734375 21.84375 45.5625 \nQ 25.390625 42.390625 31.78125 42.390625 \nQ 38.140625 42.390625 41.71875 45.5625 \nQ 45.3125 48.734375 45.3125 54.390625 \nQ 45.3125 60.0625 41.71875 63.234375 \nQ 38.140625 66.40625 31.78125 66.40625 \nQ 25.390625 66.40625 21.84375 63.234375 \nQ 18.3125 60.0625 18.3125 54.390625 \nz\n\" id=\"DejaVuSans-56\"/>\n       </defs>\n       <use xlink:href=\"#DejaVuSans-48\"/>\n       <use x=\"63.623047\" xlink:href=\"#DejaVuSans-46\"/>\n       <use x=\"95.410156\" xlink:href=\"#DejaVuSans-56\"/>\n      </g>\n     </g>\n    </g>\n    <g id=\"xtick_6\">\n     <g id=\"line2d_11\">\n      <path clip-path=\"url(#p4e2ce2f608)\" d=\"M 304.030013 224.64 \nL 304.030013 7.2 \n\" style=\"fill:none;stroke:#b0b0b0;stroke-linecap:square;stroke-width:0.8;\"/>\n     </g>\n     <g id=\"line2d_12\">\n      <g>\n       <use style=\"stroke:#000000;stroke-width:0.8;\" x=\"304.030013\" xlink:href=\"#m85cb659d63\" y=\"224.64\"/>\n      </g>\n     </g>\n     <g id=\"text_6\">\n      <!-- 1.0 -->\n      <g transform=\"translate(296.078451 239.238437)scale(0.1 -0.1)\">\n       <defs>\n        <path d=\"M 12.40625 8.296875 \nL 28.515625 8.296875 \nL 28.515625 63.921875 \nL 10.984375 60.40625 \nL 10.984375 69.390625 \nL 28.421875 72.90625 \nL 38.28125 72.90625 \nL 38.28125 8.296875 \nL 54.390625 8.296875 \nL 54.390625 0 \nL 12.40625 0 \nz\n\" id=\"DejaVuSans-49\"/>\n       </defs>\n       <use xlink:href=\"#DejaVuSans-49\"/>\n       <use x=\"63.623047\" xlink:href=\"#DejaVuSans-46\"/>\n       <use x=\"95.410156\" xlink:href=\"#DejaVuSans-48\"/>\n      </g>\n     </g>\n    </g>\n    <g id=\"xtick_7\">\n     <g id=\"line2d_13\">\n      <path clip-path=\"url(#p4e2ce2f608)\" d=\"M 353.862381 224.64 \nL 353.862381 7.2 \n\" style=\"fill:none;stroke:#b0b0b0;stroke-linecap:square;stroke-width:0.8;\"/>\n     </g>\n     <g id=\"line2d_14\">\n      <g>\n       <use style=\"stroke:#000000;stroke-width:0.8;\" x=\"353.862381\" xlink:href=\"#m85cb659d63\" y=\"224.64\"/>\n      </g>\n     </g>\n     <g id=\"text_7\">\n      <!-- 1.2 -->\n      <g transform=\"translate(345.910818 239.238437)scale(0.1 -0.1)\">\n       <use xlink:href=\"#DejaVuSans-49\"/>\n       <use x=\"63.623047\" xlink:href=\"#DejaVuSans-46\"/>\n       <use x=\"95.410156\" xlink:href=\"#DejaVuSans-50\"/>\n      </g>\n     </g>\n    </g>\n    <g id=\"text_8\">\n     <!-- 1e10 -->\n     <g transform=\"translate(349.209375 251.916562)scale(0.1 -0.1)\">\n      <defs>\n       <path d=\"M 56.203125 29.59375 \nL 56.203125 25.203125 \nL 14.890625 25.203125 \nQ 15.484375 15.921875 20.484375 11.0625 \nQ 25.484375 6.203125 34.421875 6.203125 \nQ 39.59375 6.203125 44.453125 7.46875 \nQ 49.3125 8.734375 54.109375 11.28125 \nL 54.109375 2.78125 \nQ 49.265625 0.734375 44.1875 -0.34375 \nQ 39.109375 -1.421875 33.890625 -1.421875 \nQ 20.796875 -1.421875 13.15625 6.1875 \nQ 5.515625 13.8125 5.515625 26.8125 \nQ 5.515625 40.234375 12.765625 48.109375 \nQ 20.015625 56 32.328125 56 \nQ 43.359375 56 49.78125 48.890625 \nQ 56.203125 41.796875 56.203125 29.59375 \nz\nM 47.21875 32.234375 \nQ 47.125 39.59375 43.09375 43.984375 \nQ 39.0625 48.390625 32.421875 48.390625 \nQ 24.90625 48.390625 20.390625 44.140625 \nQ 15.875 39.890625 15.1875 32.171875 \nz\n\" id=\"DejaVuSans-101\"/>\n      </defs>\n      <use xlink:href=\"#DejaVuSans-49\"/>\n      <use x=\"63.623047\" xlink:href=\"#DejaVuSans-101\"/>\n      <use x=\"125.146484\" xlink:href=\"#DejaVuSans-49\"/>\n      <use x=\"188.769531\" xlink:href=\"#DejaVuSans-48\"/>\n     </g>\n    </g>\n   </g>\n   <g id=\"matplotlib.axis_2\">\n    <g id=\"ytick_1\">\n     <g id=\"line2d_15\">\n      <path clip-path=\"url(#p4e2ce2f608)\" d=\"M 39.65 224.64 \nL 374.45 224.64 \n\" style=\"fill:none;stroke:#b0b0b0;stroke-linecap:square;stroke-width:0.8;\"/>\n     </g>\n     <g id=\"line2d_16\">\n      <defs>\n       <path d=\"M 0 0 \nL -3.5 0 \n\" id=\"mb06eae8722\" style=\"stroke:#000000;stroke-width:0.8;\"/>\n      </defs>\n      <g>\n       <use style=\"stroke:#000000;stroke-width:0.8;\" x=\"39.65\" xlink:href=\"#mb06eae8722\" y=\"224.64\"/>\n      </g>\n     </g>\n     <g id=\"text_9\">\n      <!-- 0 -->\n      <g transform=\"translate(26.2875 228.439219)scale(0.1 -0.1)\">\n       <use xlink:href=\"#DejaVuSans-48\"/>\n      </g>\n     </g>\n    </g>\n    <g id=\"ytick_2\">\n     <g id=\"line2d_17\">\n      <path clip-path=\"url(#p4e2ce2f608)\" d=\"M 39.65 179.086609 \nL 374.45 179.086609 \n\" style=\"fill:none;stroke:#b0b0b0;stroke-linecap:square;stroke-width:0.8;\"/>\n     </g>\n     <g id=\"line2d_18\">\n      <g>\n       <use style=\"stroke:#000000;stroke-width:0.8;\" x=\"39.65\" xlink:href=\"#mb06eae8722\" y=\"179.086609\"/>\n      </g>\n     </g>\n     <g id=\"text_10\">\n      <!-- 1000 -->\n      <g transform=\"translate(7.2 182.885828)scale(0.1 -0.1)\">\n       <use xlink:href=\"#DejaVuSans-49\"/>\n       <use x=\"63.623047\" xlink:href=\"#DejaVuSans-48\"/>\n       <use x=\"127.246094\" xlink:href=\"#DejaVuSans-48\"/>\n       <use x=\"190.869141\" xlink:href=\"#DejaVuSans-48\"/>\n      </g>\n     </g>\n    </g>\n    <g id=\"ytick_3\">\n     <g id=\"line2d_19\">\n      <path clip-path=\"url(#p4e2ce2f608)\" d=\"M 39.65 133.533219 \nL 374.45 133.533219 \n\" style=\"fill:none;stroke:#b0b0b0;stroke-linecap:square;stroke-width:0.8;\"/>\n     </g>\n     <g id=\"line2d_20\">\n      <g>\n       <use style=\"stroke:#000000;stroke-width:0.8;\" x=\"39.65\" xlink:href=\"#mb06eae8722\" y=\"133.533219\"/>\n      </g>\n     </g>\n     <g id=\"text_11\">\n      <!-- 2000 -->\n      <g transform=\"translate(7.2 137.332437)scale(0.1 -0.1)\">\n       <use xlink:href=\"#DejaVuSans-50\"/>\n       <use x=\"63.623047\" xlink:href=\"#DejaVuSans-48\"/>\n       <use x=\"127.246094\" xlink:href=\"#DejaVuSans-48\"/>\n       <use x=\"190.869141\" xlink:href=\"#DejaVuSans-48\"/>\n      </g>\n     </g>\n    </g>\n    <g id=\"ytick_4\">\n     <g id=\"line2d_21\">\n      <path clip-path=\"url(#p4e2ce2f608)\" d=\"M 39.65 87.979828 \nL 374.45 87.979828 \n\" style=\"fill:none;stroke:#b0b0b0;stroke-linecap:square;stroke-width:0.8;\"/>\n     </g>\n     <g id=\"line2d_22\">\n      <g>\n       <use style=\"stroke:#000000;stroke-width:0.8;\" x=\"39.65\" xlink:href=\"#mb06eae8722\" y=\"87.979828\"/>\n      </g>\n     </g>\n     <g id=\"text_12\">\n      <!-- 3000 -->\n      <g transform=\"translate(7.2 91.779047)scale(0.1 -0.1)\">\n       <defs>\n        <path d=\"M 40.578125 39.3125 \nQ 47.65625 37.796875 51.625 33 \nQ 55.609375 28.21875 55.609375 21.1875 \nQ 55.609375 10.40625 48.1875 4.484375 \nQ 40.765625 -1.421875 27.09375 -1.421875 \nQ 22.515625 -1.421875 17.65625 -0.515625 \nQ 12.796875 0.390625 7.625 2.203125 \nL 7.625 11.71875 \nQ 11.71875 9.328125 16.59375 8.109375 \nQ 21.484375 6.890625 26.8125 6.890625 \nQ 36.078125 6.890625 40.9375 10.546875 \nQ 45.796875 14.203125 45.796875 21.1875 \nQ 45.796875 27.640625 41.28125 31.265625 \nQ 36.765625 34.90625 28.71875 34.90625 \nL 20.21875 34.90625 \nL 20.21875 43.015625 \nL 29.109375 43.015625 \nQ 36.375 43.015625 40.234375 45.921875 \nQ 44.09375 48.828125 44.09375 54.296875 \nQ 44.09375 59.90625 40.109375 62.90625 \nQ 36.140625 65.921875 28.71875 65.921875 \nQ 24.65625 65.921875 20.015625 65.03125 \nQ 15.375 64.15625 9.8125 62.3125 \nL 9.8125 71.09375 \nQ 15.4375 72.65625 20.34375 73.4375 \nQ 25.25 74.21875 29.59375 74.21875 \nQ 40.828125 74.21875 47.359375 69.109375 \nQ 53.90625 64.015625 53.90625 55.328125 \nQ 53.90625 49.265625 50.4375 45.09375 \nQ 46.96875 40.921875 40.578125 39.3125 \nz\n\" id=\"DejaVuSans-51\"/>\n       </defs>\n       <use xlink:href=\"#DejaVuSans-51\"/>\n       <use x=\"63.623047\" xlink:href=\"#DejaVuSans-48\"/>\n       <use x=\"127.246094\" xlink:href=\"#DejaVuSans-48\"/>\n       <use x=\"190.869141\" xlink:href=\"#DejaVuSans-48\"/>\n      </g>\n     </g>\n    </g>\n    <g id=\"ytick_5\">\n     <g id=\"line2d_23\">\n      <path clip-path=\"url(#p4e2ce2f608)\" d=\"M 39.65 42.426437 \nL 374.45 42.426437 \n\" style=\"fill:none;stroke:#b0b0b0;stroke-linecap:square;stroke-width:0.8;\"/>\n     </g>\n     <g id=\"line2d_24\">\n      <g>\n       <use style=\"stroke:#000000;stroke-width:0.8;\" x=\"39.65\" xlink:href=\"#mb06eae8722\" y=\"42.426437\"/>\n      </g>\n     </g>\n     <g id=\"text_13\">\n      <!-- 4000 -->\n      <g transform=\"translate(7.2 46.225656)scale(0.1 -0.1)\">\n       <use xlink:href=\"#DejaVuSans-52\"/>\n       <use x=\"63.623047\" xlink:href=\"#DejaVuSans-48\"/>\n       <use x=\"127.246094\" xlink:href=\"#DejaVuSans-48\"/>\n       <use x=\"190.869141\" xlink:href=\"#DejaVuSans-48\"/>\n      </g>\n     </g>\n    </g>\n   </g>\n   <g id=\"patch_13\">\n    <path d=\"M 39.65 224.64 \nL 39.65 7.2 \n\" style=\"fill:none;stroke:#000000;stroke-linecap:square;stroke-linejoin:miter;stroke-width:0.8;\"/>\n   </g>\n   <g id=\"patch_14\">\n    <path d=\"M 374.45 224.64 \nL 374.45 7.2 \n\" style=\"fill:none;stroke:#000000;stroke-linecap:square;stroke-linejoin:miter;stroke-width:0.8;\"/>\n   </g>\n   <g id=\"patch_15\">\n    <path d=\"M 39.65 224.64 \nL 374.45 224.64 \n\" style=\"fill:none;stroke:#000000;stroke-linecap:square;stroke-linejoin:miter;stroke-width:0.8;\"/>\n   </g>\n   <g id=\"patch_16\">\n    <path d=\"M 39.65 7.2 \nL 374.45 7.2 \n\" style=\"fill:none;stroke:#000000;stroke-linecap:square;stroke-linejoin:miter;stroke-width:0.8;\"/>\n   </g>\n  </g>\n </g>\n <defs>\n  <clipPath id=\"p4e2ce2f608\">\n   <rect height=\"217.44\" width=\"334.8\" x=\"39.65\" y=\"7.2\"/>\n  </clipPath>\n </defs>\n</svg>\n",
      "image/png": "[encoded data removed]"
     },
     "metadata": {
      "needs_background": "light"
     }
    }
   ],
   "source": [
    "movies_num['budget'].hist()"
   ]
  },
  {
   "source": [
    "<div class=\"alert alert-block alert-info\" style=\"margin-top: 20px\">\n",
    "Para poder debuggear esta situación utilizaremos una tecnica muy tipica de pandas que se llama **boolean filtering**. Basicamente construimos una serie de booleanos con el mismo indice que nuestro dataframe (la serie clasicamente la llamaremos mask).\n",
    "</div>"
   ],
   "cell_type": "markdown",
   "metadata": {}
  },
  {
   "cell_type": "code",
   "execution_count": 44,
   "metadata": {},
   "outputs": [
    {
     "output_type": "execute_result",
     "data": {
      "text/plain": [
       "False    5037\n",
       "True        6\n",
       "Name: budget, dtype: int64"
      ]
     },
     "metadata": {},
     "execution_count": 44
    }
   ],
   "source": [
    "(movies_num['budget'] > 1e9).value_counts() # para saber que peliculas supera 1000 millones "
   ]
  },
  {
   "cell_type": "code",
   "execution_count": 45,
   "metadata": {},
   "outputs": [],
   "source": [
    "mask = (movies_num['budget'] > 1e9)"
   ]
  },
  {
   "cell_type": "code",
   "execution_count": 46,
   "metadata": {},
   "outputs": [
    {
     "output_type": "execute_result",
     "data": {
      "text/plain": [
       "             movie_title  title_year  color  aspect_ratio  duration  \\\n",
       "2323  Princess Mononoke       1997.0  Color          1.85     134.0   \n",
       "2334           Steamboy       2004.0  Color          1.85     103.0   \n",
       "2988           The Host       2006.0  Color          1.85     110.0   \n",
       "3005           Fateless       2005.0  Color          2.35     134.0   \n",
       "3423              Akira       1988.0  Color          1.85     124.0   \n",
       "3859     Lady Vengeance       2005.0  Color          2.35     112.0   \n",
       "\n",
       "       language      country  duration.1  \\\n",
       "2323   Japanese        Japan       134.0   \n",
       "2334   Japanese        Japan       103.0   \n",
       "2988     Korean  South Korea       110.0   \n",
       "3005  Hungarian      Hungary       134.0   \n",
       "3423   Japanese        Japan       124.0   \n",
       "3859     Korean  South Korea       112.0   \n",
       "\n",
       "                                                 genres content_rating  \\\n",
       "2323                        Adventure|Animation|Fantasy          PG-13   \n",
       "2334  Action|Adventure|Animation|Family|Sci-Fi|Thriller          PG-13   \n",
       "2988                         Comedy|Drama|Horror|Sci-Fi              R   \n",
       "3005                                  Drama|Romance|War              R   \n",
       "3423                            Action|Animation|Sci-Fi              R   \n",
       "3859                                        Crime|Drama              R   \n",
       "\n",
       "                                          plot_keywords    director_name  \\\n",
       "2323      anime|cult film|forest|princess|studio ghibli   Hayao Miyazaki   \n",
       "2334               19th century|ball|boy|inventor|steam  Katsuhiro Ôtomo   \n",
       "2988             daughter|han river|monster|river|seoul     Joon-ho Bong   \n",
       "3005                   bus|death|gay slur|hatred|jewish     Lajos Koltai   \n",
       "3423  based on manga|biker gang|gifted child|post th...  Katsuhiro Ôtomo   \n",
       "3859  cake|christian|lesbian sex|oral sex|pregnant s...   Chan-wook Park   \n",
       "\n",
       "          actor_1_name        actor_2_name    actor_3_name  \\\n",
       "2323     Minnie Driver  Jada Pinkett Smith    Billy Crudup   \n",
       "2334  William Hootkins  Robin Atkin Downes  Rosalind Ayres   \n",
       "2988         Doona Bae        Kang-ho Song      Ah-sung Ko   \n",
       "3005      Marcell Nagy     Péter Fancsikai   Bálint Péntek   \n",
       "3423      Mitsuo Iwata       Takeshi Kusao    Tesshô Genda   \n",
       "3859      Min-sik Choi        Yeong-ae Lee  Hye-jeong Kang   \n",
       "\n",
       "      cast_total_facebook_likes        budget  imdb_score      gross  \n",
       "2323                       2710  2.400000e+09         8.4  2298191.0  \n",
       "2334                        991  2.127520e+09         6.9   410388.0  \n",
       "2988                       1173  1.221550e+10         7.0  2201412.0  \n",
       "3005                         11  2.500000e+09         7.1   195888.0  \n",
       "3423                         28  1.100000e+09         8.1   439162.0  \n",
       "3859                        907  4.200000e+09         7.7   211667.0  "
      ],
      "text/html": "<div>\n<style scoped>\n    .dataframe tbody tr th:only-of-type {\n        vertical-align: middle;\n    }\n\n    .dataframe tbody tr th {\n        vertical-align: top;\n    }\n\n    .dataframe thead th {\n        text-align: right;\n    }\n</style>\n<table border=\"1\" class=\"dataframe\">\n  <thead>\n    <tr style=\"text-align: right;\">\n      <th></th>\n      <th>movie_title</th>\n      <th>title_year</th>\n      <th>color</th>\n      <th>aspect_ratio</th>\n      <th>duration</th>\n      <th>language</th>\n      <th>country</th>\n      <th>duration.1</th>\n      <th>genres</th>\n      <th>content_rating</th>\n      <th>plot_keywords</th>\n      <th>director_name</th>\n      <th>actor_1_name</th>\n      <th>actor_2_name</th>\n      <th>actor_3_name</th>\n      <th>cast_total_facebook_likes</th>\n      <th>budget</th>\n      <th>imdb_score</th>\n      <th>gross</th>\n    </tr>\n  </thead>\n  <tbody>\n    <tr>\n      <th>2323</th>\n      <td>Princess Mononoke</td>\n      <td>1997.0</td>\n      <td>Color</td>\n      <td>1.85</td>\n      <td>134.0</td>\n      <td>Japanese</td>\n      <td>Japan</td>\n      <td>134.0</td>\n      <td>Adventure|Animation|Fantasy</td>\n      <td>PG-13</td>\n      <td>anime|cult film|forest|princess|studio ghibli</td>\n      <td>Hayao Miyazaki</td>\n      <td>Minnie Driver</td>\n      <td>Jada Pinkett Smith</td>\n      <td>Billy Crudup</td>\n      <td>2710</td>\n      <td>2.400000e+09</td>\n      <td>8.4</td>\n      <td>2298191.0</td>\n    </tr>\n    <tr>\n      <th>2334</th>\n      <td>Steamboy</td>\n      <td>2004.0</td>\n      <td>Color</td>\n      <td>1.85</td>\n      <td>103.0</td>\n      <td>Japanese</td>\n      <td>Japan</td>\n      <td>103.0</td>\n      <td>Action|Adventure|Animation|Family|Sci-Fi|Thriller</td>\n      <td>PG-13</td>\n      <td>19th century|ball|boy|inventor|steam</td>\n      <td>Katsuhiro Ôtomo</td>\n      <td>William Hootkins</td>\n      <td>Robin Atkin Downes</td>\n      <td>Rosalind Ayres</td>\n      <td>991</td>\n      <td>2.127520e+09</td>\n      <td>6.9</td>\n      <td>410388.0</td>\n    </tr>\n    <tr>\n      <th>2988</th>\n      <td>The Host</td>\n      <td>2006.0</td>\n      <td>Color</td>\n      <td>1.85</td>\n      <td>110.0</td>\n      <td>Korean</td>\n      <td>South Korea</td>\n      <td>110.0</td>\n      <td>Comedy|Drama|Horror|Sci-Fi</td>\n      <td>R</td>\n      <td>daughter|han river|monster|river|seoul</td>\n      <td>Joon-ho Bong</td>\n      <td>Doona Bae</td>\n      <td>Kang-ho Song</td>\n      <td>Ah-sung Ko</td>\n      <td>1173</td>\n      <td>1.221550e+10</td>\n      <td>7.0</td>\n      <td>2201412.0</td>\n    </tr>\n    <tr>\n      <th>3005</th>\n      <td>Fateless</td>\n      <td>2005.0</td>\n      <td>Color</td>\n      <td>2.35</td>\n      <td>134.0</td>\n      <td>Hungarian</td>\n      <td>Hungary</td>\n      <td>134.0</td>\n      <td>Drama|Romance|War</td>\n      <td>R</td>\n      <td>bus|death|gay slur|hatred|jewish</td>\n      <td>Lajos Koltai</td>\n      <td>Marcell Nagy</td>\n      <td>Péter Fancsikai</td>\n      <td>Bálint Péntek</td>\n      <td>11</td>\n      <td>2.500000e+09</td>\n      <td>7.1</td>\n      <td>195888.0</td>\n    </tr>\n    <tr>\n      <th>3423</th>\n      <td>Akira</td>\n      <td>1988.0</td>\n      <td>Color</td>\n      <td>1.85</td>\n      <td>124.0</td>\n      <td>Japanese</td>\n      <td>Japan</td>\n      <td>124.0</td>\n      <td>Action|Animation|Sci-Fi</td>\n      <td>R</td>\n      <td>based on manga|biker gang|gifted child|post th...</td>\n      <td>Katsuhiro Ôtomo</td>\n      <td>Mitsuo Iwata</td>\n      <td>Takeshi Kusao</td>\n      <td>Tesshô Genda</td>\n      <td>28</td>\n      <td>1.100000e+09</td>\n      <td>8.1</td>\n      <td>439162.0</td>\n    </tr>\n    <tr>\n      <th>3859</th>\n      <td>Lady Vengeance</td>\n      <td>2005.0</td>\n      <td>Color</td>\n      <td>2.35</td>\n      <td>112.0</td>\n      <td>Korean</td>\n      <td>South Korea</td>\n      <td>112.0</td>\n      <td>Crime|Drama</td>\n      <td>R</td>\n      <td>cake|christian|lesbian sex|oral sex|pregnant s...</td>\n      <td>Chan-wook Park</td>\n      <td>Min-sik Choi</td>\n      <td>Yeong-ae Lee</td>\n      <td>Hye-jeong Kang</td>\n      <td>907</td>\n      <td>4.200000e+09</td>\n      <td>7.7</td>\n      <td>211667.0</td>\n    </tr>\n  </tbody>\n</table>\n</div>"
     },
     "metadata": {},
     "execution_count": 46
    }
   ],
   "source": [
    "movies[mask]"
   ]
  },
  {
   "cell_type": "markdown",
   "metadata": {
    "slideshow": {
     "slide_type": "slide"
    }
   },
   "source": [
    "<img src=\"img/akira.png\" width=\"1000\" style=\"margin:0 auto;clear:both\">"
   ]
  },
  {
   "cell_type": "markdown",
   "metadata": {},
   "source": [
    " Tenemos un problema de limpieza de los datos. La BDD fue creada sin diferenciar:\n",
    "- La moneda en la que se ingresaba el presupuesto y el ingreso. \n",
    "- La zona (país/mundial) en la que se registro el ingreso"
   ]
  },
  {
   "cell_type": "code",
   "execution_count": 33,
   "metadata": {},
   "outputs": [],
   "source": [
    "# Importar BBDD thenumbers.com## Ahora manejaremos los datos faltantes (nulos o NaN). "
   ]
  },
  {
   "cell_type": "code",
   "execution_count": 48,
   "metadata": {},
   "outputs": [
    {
     "output_type": "execute_result",
     "data": {
      "text/plain": [
       "      Unnamed: 0                                movie_name  domestic_gross  \\\n",
       "0              0                                    Avatar       760507625   \n",
       "1              1      Star Wars Ep. VII: The Force Awakens       936662225   \n",
       "2              2  Pirates of the Caribbean: At World's End       309420425   \n",
       "3              3                                   Spectre       200074175   \n",
       "4              4                     The Dark Knight Rises       448139099   \n",
       "...          ...                                       ...             ...   \n",
       "4336        5157                           The Mongol King             900   \n",
       "4337        5160                   Signed Sealed Delivered               0   \n",
       "4338        5161                          Shanghai Calling           10443   \n",
       "4339        5162                      A Plague So Pleasant               0   \n",
       "4340        5163                         My Date With Drew          181041   \n",
       "\n",
       "                                             movie_link  production_budget  \\\n",
       "0     http://www.the-numbers.com/movie/Avatar#tab=su...          425000000   \n",
       "1     http://www.the-numbers.com/movie/Star-Wars-Ep-...          306000000   \n",
       "2     http://www.the-numbers.com/movie/Pirates-of-th...          300000000   \n",
       "3     http://www.the-numbers.com/movie/Spectre#tab=s...          300000000   \n",
       "4     http://www.the-numbers.com/movie/Dark-Knight-R...          275000000   \n",
       "...                                                 ...                ...   \n",
       "4336  http://www.the-numbers.com/movie/Mongol-King-T...               7000   \n",
       "4337  http://www.the-numbers.com/movie/Signed-Sealed...               5000   \n",
       "4338  http://www.the-numbers.com/movie/Shanghai-Call...               3967   \n",
       "4339  http://www.the-numbers.com/movie/Plague-So-Ple...               1400   \n",
       "4340  http://www.the-numbers.com/movie/My-Date-With-...               1100   \n",
       "\n",
       "     release_date  worldwide_gross  \\\n",
       "0      12/18/2009       2783918982   \n",
       "1      12/18/2015       2058662225   \n",
       "2       5/24/2007        963420425   \n",
       "3       11/6/2015        879620923   \n",
       "4       7/20/2012       1084439099   \n",
       "...           ...              ...   \n",
       "4336     1/1/2004              900   \n",
       "4337    9/29/2015                0   \n",
       "4338    2/15/2013            10443   \n",
       "4339    9/29/2015                0   \n",
       "4340     8/5/2005           181041   \n",
       "\n",
       "                                            movie_title  \n",
       "0                                               Avatar   \n",
       "1     Star Wars: Episode VII - The Force Awakens    ...  \n",
       "2             Pirates of the Caribbean: At World's End   \n",
       "3                                              Spectre   \n",
       "4                                The Dark Knight Rises   \n",
       "...                                                 ...  \n",
       "4336                                   The Mongol King   \n",
       "4337                           Signed Sealed Delivered   \n",
       "4338                                  Shanghai Calling   \n",
       "4339                              A Plague So Pleasant   \n",
       "4340                                 My Date with Drew   \n",
       "\n",
       "[4341 rows x 8 columns]"
      ],
      "text/html": "<div>\n<style scoped>\n    .dataframe tbody tr th:only-of-type {\n        vertical-align: middle;\n    }\n\n    .dataframe tbody tr th {\n        vertical-align: top;\n    }\n\n    .dataframe thead th {\n        text-align: right;\n    }\n</style>\n<table border=\"1\" class=\"dataframe\">\n  <thead>\n    <tr style=\"text-align: right;\">\n      <th></th>\n      <th>Unnamed: 0</th>\n      <th>movie_name</th>\n      <th>domestic_gross</th>\n      <th>movie_link</th>\n      <th>production_budget</th>\n      <th>release_date</th>\n      <th>worldwide_gross</th>\n      <th>movie_title</th>\n    </tr>\n  </thead>\n  <tbody>\n    <tr>\n      <th>0</th>\n      <td>0</td>\n      <td>Avatar</td>\n      <td>760507625</td>\n      <td>http://www.the-numbers.com/movie/Avatar#tab=su...</td>\n      <td>425000000</td>\n      <td>12/18/2009</td>\n      <td>2783918982</td>\n      <td>Avatar</td>\n    </tr>\n    <tr>\n      <th>1</th>\n      <td>1</td>\n      <td>Star Wars Ep. VII: The Force Awakens</td>\n      <td>936662225</td>\n      <td>http://www.the-numbers.com/movie/Star-Wars-Ep-...</td>\n      <td>306000000</td>\n      <td>12/18/2015</td>\n      <td>2058662225</td>\n      <td>Star Wars: Episode VII - The Force Awakens    ...</td>\n    </tr>\n    <tr>\n      <th>2</th>\n      <td>2</td>\n      <td>Pirates of the Caribbean: At World's End</td>\n      <td>309420425</td>\n      <td>http://www.the-numbers.com/movie/Pirates-of-th...</td>\n      <td>300000000</td>\n      <td>5/24/2007</td>\n      <td>963420425</td>\n      <td>Pirates of the Caribbean: At World's End</td>\n    </tr>\n    <tr>\n      <th>3</th>\n      <td>3</td>\n      <td>Spectre</td>\n      <td>200074175</td>\n      <td>http://www.the-numbers.com/movie/Spectre#tab=s...</td>\n      <td>300000000</td>\n      <td>11/6/2015</td>\n      <td>879620923</td>\n      <td>Spectre</td>\n    </tr>\n    <tr>\n      <th>4</th>\n      <td>4</td>\n      <td>The Dark Knight Rises</td>\n      <td>448139099</td>\n      <td>http://www.the-numbers.com/movie/Dark-Knight-R...</td>\n      <td>275000000</td>\n      <td>7/20/2012</td>\n      <td>1084439099</td>\n      <td>The Dark Knight Rises</td>\n    </tr>\n    <tr>\n      <th>...</th>\n      <td>...</td>\n      <td>...</td>\n      <td>...</td>\n      <td>...</td>\n      <td>...</td>\n      <td>...</td>\n      <td>...</td>\n      <td>...</td>\n    </tr>\n    <tr>\n      <th>4336</th>\n      <td>5157</td>\n      <td>The Mongol King</td>\n      <td>900</td>\n      <td>http://www.the-numbers.com/movie/Mongol-King-T...</td>\n      <td>7000</td>\n      <td>1/1/2004</td>\n      <td>900</td>\n      <td>The Mongol King</td>\n    </tr>\n    <tr>\n      <th>4337</th>\n      <td>5160</td>\n      <td>Signed Sealed Delivered</td>\n      <td>0</td>\n      <td>http://www.the-numbers.com/movie/Signed-Sealed...</td>\n      <td>5000</td>\n      <td>9/29/2015</td>\n      <td>0</td>\n      <td>Signed Sealed Delivered</td>\n    </tr>\n    <tr>\n      <th>4338</th>\n      <td>5161</td>\n      <td>Shanghai Calling</td>\n      <td>10443</td>\n      <td>http://www.the-numbers.com/movie/Shanghai-Call...</td>\n      <td>3967</td>\n      <td>2/15/2013</td>\n      <td>10443</td>\n      <td>Shanghai Calling</td>\n    </tr>\n    <tr>\n      <th>4339</th>\n      <td>5162</td>\n      <td>A Plague So Pleasant</td>\n      <td>0</td>\n      <td>http://www.the-numbers.com/movie/Plague-So-Ple...</td>\n      <td>1400</td>\n      <td>9/29/2015</td>\n      <td>0</td>\n      <td>A Plague So Pleasant</td>\n    </tr>\n    <tr>\n      <th>4340</th>\n      <td>5163</td>\n      <td>My Date With Drew</td>\n      <td>181041</td>\n      <td>http://www.the-numbers.com/movie/My-Date-With-...</td>\n      <td>1100</td>\n      <td>8/5/2005</td>\n      <td>181041</td>\n      <td>My Date with Drew</td>\n    </tr>\n  </tbody>\n</table>\n<p>4341 rows × 8 columns</p>\n</div>"
     },
     "metadata": {},
     "execution_count": 48
    }
   ],
   "source": [
    "pd.read_csv('thenumbers.csv')"
   ]
  },
  {
   "cell_type": "code",
   "execution_count": 49,
   "metadata": {},
   "outputs": [],
   "source": [
    "financials = pd.read_csv('thenumbers.csv')"
   ]
  },
  {
   "cell_type": "code",
   "execution_count": 51,
   "metadata": {},
   "outputs": [
    {
     "output_type": "execute_result",
     "data": {
      "text/plain": [
       "                                            movie_title  production_budget  \\\n",
       "0                                               Avatar           425000000   \n",
       "1     Star Wars: Episode VII - The Force Awakens    ...          306000000   \n",
       "2             Pirates of the Caribbean: At World's End           300000000   \n",
       "3                                              Spectre           300000000   \n",
       "4                                The Dark Knight Rises           275000000   \n",
       "...                                                 ...                ...   \n",
       "4336                                   The Mongol King                7000   \n",
       "4337                           Signed Sealed Delivered                5000   \n",
       "4338                                  Shanghai Calling                3967   \n",
       "4339                              A Plague So Pleasant                1400   \n",
       "4340                                 My Date with Drew                1100   \n",
       "\n",
       "      worldwide_gross  \n",
       "0          2783918982  \n",
       "1          2058662225  \n",
       "2           963420425  \n",
       "3           879620923  \n",
       "4          1084439099  \n",
       "...               ...  \n",
       "4336              900  \n",
       "4337                0  \n",
       "4338            10443  \n",
       "4339                0  \n",
       "4340           181041  \n",
       "\n",
       "[4341 rows x 3 columns]"
      ],
      "text/html": "<div>\n<style scoped>\n    .dataframe tbody tr th:only-of-type {\n        vertical-align: middle;\n    }\n\n    .dataframe tbody tr th {\n        vertical-align: top;\n    }\n\n    .dataframe thead th {\n        text-align: right;\n    }\n</style>\n<table border=\"1\" class=\"dataframe\">\n  <thead>\n    <tr style=\"text-align: right;\">\n      <th></th>\n      <th>movie_title</th>\n      <th>production_budget</th>\n      <th>worldwide_gross</th>\n    </tr>\n  </thead>\n  <tbody>\n    <tr>\n      <th>0</th>\n      <td>Avatar</td>\n      <td>425000000</td>\n      <td>2783918982</td>\n    </tr>\n    <tr>\n      <th>1</th>\n      <td>Star Wars: Episode VII - The Force Awakens    ...</td>\n      <td>306000000</td>\n      <td>2058662225</td>\n    </tr>\n    <tr>\n      <th>2</th>\n      <td>Pirates of the Caribbean: At World's End</td>\n      <td>300000000</td>\n      <td>963420425</td>\n    </tr>\n    <tr>\n      <th>3</th>\n      <td>Spectre</td>\n      <td>300000000</td>\n      <td>879620923</td>\n    </tr>\n    <tr>\n      <th>4</th>\n      <td>The Dark Knight Rises</td>\n      <td>275000000</td>\n      <td>1084439099</td>\n    </tr>\n    <tr>\n      <th>...</th>\n      <td>...</td>\n      <td>...</td>\n      <td>...</td>\n    </tr>\n    <tr>\n      <th>4336</th>\n      <td>The Mongol King</td>\n      <td>7000</td>\n      <td>900</td>\n    </tr>\n    <tr>\n      <th>4337</th>\n      <td>Signed Sealed Delivered</td>\n      <td>5000</td>\n      <td>0</td>\n    </tr>\n    <tr>\n      <th>4338</th>\n      <td>Shanghai Calling</td>\n      <td>3967</td>\n      <td>10443</td>\n    </tr>\n    <tr>\n      <th>4339</th>\n      <td>A Plague So Pleasant</td>\n      <td>1400</td>\n      <td>0</td>\n    </tr>\n    <tr>\n      <th>4340</th>\n      <td>My Date with Drew</td>\n      <td>1100</td>\n      <td>181041</td>\n    </tr>\n  </tbody>\n</table>\n<p>4341 rows × 3 columns</p>\n</div>"
     },
     "metadata": {},
     "execution_count": 51
    }
   ],
   "source": [
    "financials = financials[['movie_title','production_budget','worldwide_gross']]\n",
    "financials"
   ]
  },
  {
   "cell_type": "code",
   "execution_count": 68,
   "metadata": {},
   "outputs": [],
   "source": [
    "#gross_opening = pd.read_csv('opening_df.csv')"
   ]
  },
  {
   "cell_type": "code",
   "execution_count": 69,
   "metadata": {},
   "outputs": [
    {
     "output_type": "execute_result",
     "data": {
      "text/plain": [
       "(4341, 3)"
      ]
     },
     "metadata": {},
     "execution_count": 69
    }
   ],
   "source": [
    "financials.shape"
   ]
  },
  {
   "cell_type": "code",
   "execution_count": 70,
   "metadata": {},
   "outputs": [
    {
     "output_type": "execute_result",
     "data": {
      "text/plain": [
       "(5043, 19)"
      ]
     },
     "metadata": {},
     "execution_count": 70
    }
   ],
   "source": [
    "movies.shape"
   ]
  },
  {
   "cell_type": "code",
   "execution_count": 57,
   "metadata": {},
   "outputs": [
    {
     "output_type": "execute_result",
     "data": {
      "text/plain": [
       "0                                                 Avatar \n",
       "1               Pirates of the Caribbean: At World's End \n",
       "2                                                Spectre \n",
       "3                                  The Dark Knight Rises \n",
       "4       Star Wars: Episode VII - The Force Awakens    ...\n",
       "                              ...                        \n",
       "5038                             Signed Sealed Delivered \n",
       "5039                           The Following             \n",
       "5040                                A Plague So Pleasant \n",
       "5041                                    Shanghai Calling \n",
       "5042                                   My Date with Drew \n",
       "Name: movie_title, Length: 5043, dtype: object"
      ]
     },
     "metadata": {},
     "execution_count": 57
    }
   ],
   "source": [
    "movies['movie_title']"
   ]
  },
  {
   "cell_type": "code",
   "execution_count": 58,
   "metadata": {},
   "outputs": [
    {
     "output_type": "execute_result",
     "data": {
      "text/plain": [
       "      title_year  aspect_ratio  duration  duration.1  \\\n",
       "0         2009.0          1.78     178.0       178.0   \n",
       "1         2007.0          2.35     169.0       169.0   \n",
       "2         2015.0          2.35     148.0       148.0   \n",
       "3         2012.0          2.35     164.0       164.0   \n",
       "4            NaN           NaN       NaN         NaN   \n",
       "...          ...           ...       ...         ...   \n",
       "5038      2013.0           NaN      87.0        87.0   \n",
       "5039         NaN         16.00      43.0        43.0   \n",
       "5040      2013.0           NaN      76.0        76.0   \n",
       "5041      2012.0          2.35     100.0       100.0   \n",
       "5042      2004.0          1.85      90.0        90.0   \n",
       "\n",
       "      cast_total_facebook_likes       budget  imdb_score        gross  \n",
       "0                          4834  237000000.0         7.9  760505847.0  \n",
       "1                         48350  300000000.0         7.1  309404152.0  \n",
       "2                         11700  245000000.0         6.8  200074175.0  \n",
       "3                        106759  250000000.0         8.5  448130642.0  \n",
       "4                           143          NaN         7.1          NaN  \n",
       "...                         ...          ...         ...          ...  \n",
       "5038                       2283          NaN         7.7          NaN  \n",
       "5039                       1753          NaN         7.5          NaN  \n",
       "5040                          0       1400.0         6.3          NaN  \n",
       "5041                       2386          NaN         6.3      10443.0  \n",
       "5042                        163       1100.0         6.6      85222.0  \n",
       "\n",
       "[5043 rows x 8 columns]"
      ],
      "text/html": "<div>\n<style scoped>\n    .dataframe tbody tr th:only-of-type {\n        vertical-align: middle;\n    }\n\n    .dataframe tbody tr th {\n        vertical-align: top;\n    }\n\n    .dataframe thead th {\n        text-align: right;\n    }\n</style>\n<table border=\"1\" class=\"dataframe\">\n  <thead>\n    <tr style=\"text-align: right;\">\n      <th></th>\n      <th>title_year</th>\n      <th>aspect_ratio</th>\n      <th>duration</th>\n      <th>duration.1</th>\n      <th>cast_total_facebook_likes</th>\n      <th>budget</th>\n      <th>imdb_score</th>\n      <th>gross</th>\n    </tr>\n  </thead>\n  <tbody>\n    <tr>\n      <th>0</th>\n      <td>2009.0</td>\n      <td>1.78</td>\n      <td>178.0</td>\n      <td>178.0</td>\n      <td>4834</td>\n      <td>237000000.0</td>\n      <td>7.9</td>\n      <td>760505847.0</td>\n    </tr>\n    <tr>\n      <th>1</th>\n      <td>2007.0</td>\n      <td>2.35</td>\n      <td>169.0</td>\n      <td>169.0</td>\n      <td>48350</td>\n      <td>300000000.0</td>\n      <td>7.1</td>\n      <td>309404152.0</td>\n    </tr>\n    <tr>\n      <th>2</th>\n      <td>2015.0</td>\n      <td>2.35</td>\n      <td>148.0</td>\n      <td>148.0</td>\n      <td>11700</td>\n      <td>245000000.0</td>\n      <td>6.8</td>\n      <td>200074175.0</td>\n    </tr>\n    <tr>\n      <th>3</th>\n      <td>2012.0</td>\n      <td>2.35</td>\n      <td>164.0</td>\n      <td>164.0</td>\n      <td>106759</td>\n      <td>250000000.0</td>\n      <td>8.5</td>\n      <td>448130642.0</td>\n    </tr>\n    <tr>\n      <th>4</th>\n      <td>NaN</td>\n      <td>NaN</td>\n      <td>NaN</td>\n      <td>NaN</td>\n      <td>143</td>\n      <td>NaN</td>\n      <td>7.1</td>\n      <td>NaN</td>\n    </tr>\n    <tr>\n      <th>...</th>\n      <td>...</td>\n      <td>...</td>\n      <td>...</td>\n      <td>...</td>\n      <td>...</td>\n      <td>...</td>\n      <td>...</td>\n      <td>...</td>\n    </tr>\n    <tr>\n      <th>5038</th>\n      <td>2013.0</td>\n      <td>NaN</td>\n      <td>87.0</td>\n      <td>87.0</td>\n      <td>2283</td>\n      <td>NaN</td>\n      <td>7.7</td>\n      <td>NaN</td>\n    </tr>\n    <tr>\n      <th>5039</th>\n      <td>NaN</td>\n      <td>16.00</td>\n      <td>43.0</td>\n      <td>43.0</td>\n      <td>1753</td>\n      <td>NaN</td>\n      <td>7.5</td>\n      <td>NaN</td>\n    </tr>\n    <tr>\n      <th>5040</th>\n      <td>2013.0</td>\n      <td>NaN</td>\n      <td>76.0</td>\n      <td>76.0</td>\n      <td>0</td>\n      <td>1400.0</td>\n      <td>6.3</td>\n      <td>NaN</td>\n    </tr>\n    <tr>\n      <th>5041</th>\n      <td>2012.0</td>\n      <td>2.35</td>\n      <td>100.0</td>\n      <td>100.0</td>\n      <td>2386</td>\n      <td>NaN</td>\n      <td>6.3</td>\n      <td>10443.0</td>\n    </tr>\n    <tr>\n      <th>5042</th>\n      <td>2004.0</td>\n      <td>1.85</td>\n      <td>90.0</td>\n      <td>90.0</td>\n      <td>163</td>\n      <td>1100.0</td>\n      <td>6.6</td>\n      <td>85222.0</td>\n    </tr>\n  </tbody>\n</table>\n<p>5043 rows × 8 columns</p>\n</div>"
     },
     "metadata": {},
     "execution_count": 58
    }
   ],
   "source": [
    "movies_num"
   ]
  },
  {
   "cell_type": "code",
   "execution_count": 59,
   "metadata": {},
   "outputs": [
    {
     "output_type": "execute_result",
     "data": {
      "text/plain": [
       "   title_year  aspect_ratio  duration  duration.1  cast_total_facebook_likes  \\\n",
       "0      2009.0          1.78     178.0       178.0                       4834   \n",
       "1      2007.0          2.35     169.0       169.0                      48350   \n",
       "2      2015.0          2.35     148.0       148.0                      11700   \n",
       "3      2012.0          2.35     164.0       164.0                     106759   \n",
       "4         NaN           NaN       NaN         NaN                        143   \n",
       "\n",
       "        budget  imdb_score        gross  \\\n",
       "0  237000000.0         7.9  760505847.0   \n",
       "1  300000000.0         7.1  309404152.0   \n",
       "2  245000000.0         6.8  200074175.0   \n",
       "3  250000000.0         8.5  448130642.0   \n",
       "4          NaN         7.1          NaN   \n",
       "\n",
       "                                         movie_title  \n",
       "0                                            Avatar   \n",
       "1          Pirates of the Caribbean: At World's End   \n",
       "2                                           Spectre   \n",
       "3                             The Dark Knight Rises   \n",
       "4  Star Wars: Episode VII - The Force Awakens    ...  "
      ],
      "text/html": "<div>\n<style scoped>\n    .dataframe tbody tr th:only-of-type {\n        vertical-align: middle;\n    }\n\n    .dataframe tbody tr th {\n        vertical-align: top;\n    }\n\n    .dataframe thead th {\n        text-align: right;\n    }\n</style>\n<table border=\"1\" class=\"dataframe\">\n  <thead>\n    <tr style=\"text-align: right;\">\n      <th></th>\n      <th>title_year</th>\n      <th>aspect_ratio</th>\n      <th>duration</th>\n      <th>duration.1</th>\n      <th>cast_total_facebook_likes</th>\n      <th>budget</th>\n      <th>imdb_score</th>\n      <th>gross</th>\n      <th>movie_title</th>\n    </tr>\n  </thead>\n  <tbody>\n    <tr>\n      <th>0</th>\n      <td>2009.0</td>\n      <td>1.78</td>\n      <td>178.0</td>\n      <td>178.0</td>\n      <td>4834</td>\n      <td>237000000.0</td>\n      <td>7.9</td>\n      <td>760505847.0</td>\n      <td>Avatar</td>\n    </tr>\n    <tr>\n      <th>1</th>\n      <td>2007.0</td>\n      <td>2.35</td>\n      <td>169.0</td>\n      <td>169.0</td>\n      <td>48350</td>\n      <td>300000000.0</td>\n      <td>7.1</td>\n      <td>309404152.0</td>\n      <td>Pirates of the Caribbean: At World's End</td>\n    </tr>\n    <tr>\n      <th>2</th>\n      <td>2015.0</td>\n      <td>2.35</td>\n      <td>148.0</td>\n      <td>148.0</td>\n      <td>11700</td>\n      <td>245000000.0</td>\n      <td>6.8</td>\n      <td>200074175.0</td>\n      <td>Spectre</td>\n    </tr>\n    <tr>\n      <th>3</th>\n      <td>2012.0</td>\n      <td>2.35</td>\n      <td>164.0</td>\n      <td>164.0</td>\n      <td>106759</td>\n      <td>250000000.0</td>\n      <td>8.5</td>\n      <td>448130642.0</td>\n      <td>The Dark Knight Rises</td>\n    </tr>\n    <tr>\n      <th>4</th>\n      <td>NaN</td>\n      <td>NaN</td>\n      <td>NaN</td>\n      <td>NaN</td>\n      <td>143</td>\n      <td>NaN</td>\n      <td>7.1</td>\n      <td>NaN</td>\n      <td>Star Wars: Episode VII - The Force Awakens    ...</td>\n    </tr>\n  </tbody>\n</table>\n</div>"
     },
     "metadata": {},
     "execution_count": 59
    }
   ],
   "source": [
    "# concatenar columna x columna  \"axis=1\"\n",
    "movies_num = pd.concat([movies_num, movies['movie_title']],axis=1)\n",
    "movies_num.head()"
   ]
  },
  {
   "cell_type": "code",
   "execution_count": 61,
   "metadata": {},
   "outputs": [],
   "source": [
    "#gross_opening = gross_opening.drop('Unnamed: 0',axis=1)"
   ]
  },
  {
   "cell_type": "code",
   "execution_count": 65,
   "metadata": {},
   "outputs": [
    {
     "output_type": "execute_result",
     "data": {
      "text/plain": [
       "                                         movie_title  production_budget  \\\n",
       "0                                            Avatar           425000000   \n",
       "1  Star Wars: Episode VII - The Force Awakens    ...          306000000   \n",
       "2          Pirates of the Caribbean: At World's End           300000000   \n",
       "3                                           Spectre           300000000   \n",
       "4                             The Dark Knight Rises           275000000   \n",
       "\n",
       "   worldwide_gross  title_year  aspect_ratio  duration  duration.1  \\\n",
       "0       2783918982      2009.0          1.78     178.0       178.0   \n",
       "1       2058662225         NaN           NaN       NaN         NaN   \n",
       "2        963420425      2007.0          2.35     169.0       169.0   \n",
       "3        879620923      2015.0          2.35     148.0       148.0   \n",
       "4       1084439099      2012.0          2.35     164.0       164.0   \n",
       "\n",
       "   cast_total_facebook_likes       budget  imdb_score        gross  \n",
       "0                       4834  237000000.0         7.9  760505847.0  \n",
       "1                        143          NaN         7.1          NaN  \n",
       "2                      48350  300000000.0         7.1  309404152.0  \n",
       "3                      11700  245000000.0         6.8  200074175.0  \n",
       "4                     106759  250000000.0         8.5  448130642.0  "
      ],
      "text/html": "<div>\n<style scoped>\n    .dataframe tbody tr th:only-of-type {\n        vertical-align: middle;\n    }\n\n    .dataframe tbody tr th {\n        vertical-align: top;\n    }\n\n    .dataframe thead th {\n        text-align: right;\n    }\n</style>\n<table border=\"1\" class=\"dataframe\">\n  <thead>\n    <tr style=\"text-align: right;\">\n      <th></th>\n      <th>movie_title</th>\n      <th>production_budget</th>\n      <th>worldwide_gross</th>\n      <th>title_year</th>\n      <th>aspect_ratio</th>\n      <th>duration</th>\n      <th>duration.1</th>\n      <th>cast_total_facebook_likes</th>\n      <th>budget</th>\n      <th>imdb_score</th>\n      <th>gross</th>\n    </tr>\n  </thead>\n  <tbody>\n    <tr>\n      <th>0</th>\n      <td>Avatar</td>\n      <td>425000000</td>\n      <td>2783918982</td>\n      <td>2009.0</td>\n      <td>1.78</td>\n      <td>178.0</td>\n      <td>178.0</td>\n      <td>4834</td>\n      <td>237000000.0</td>\n      <td>7.9</td>\n      <td>760505847.0</td>\n    </tr>\n    <tr>\n      <th>1</th>\n      <td>Star Wars: Episode VII - The Force Awakens    ...</td>\n      <td>306000000</td>\n      <td>2058662225</td>\n      <td>NaN</td>\n      <td>NaN</td>\n      <td>NaN</td>\n      <td>NaN</td>\n      <td>143</td>\n      <td>NaN</td>\n      <td>7.1</td>\n      <td>NaN</td>\n    </tr>\n    <tr>\n      <th>2</th>\n      <td>Pirates of the Caribbean: At World's End</td>\n      <td>300000000</td>\n      <td>963420425</td>\n      <td>2007.0</td>\n      <td>2.35</td>\n      <td>169.0</td>\n      <td>169.0</td>\n      <td>48350</td>\n      <td>300000000.0</td>\n      <td>7.1</td>\n      <td>309404152.0</td>\n    </tr>\n    <tr>\n      <th>3</th>\n      <td>Spectre</td>\n      <td>300000000</td>\n      <td>879620923</td>\n      <td>2015.0</td>\n      <td>2.35</td>\n      <td>148.0</td>\n      <td>148.0</td>\n      <td>11700</td>\n      <td>245000000.0</td>\n      <td>6.8</td>\n      <td>200074175.0</td>\n    </tr>\n    <tr>\n      <th>4</th>\n      <td>The Dark Knight Rises</td>\n      <td>275000000</td>\n      <td>1084439099</td>\n      <td>2012.0</td>\n      <td>2.35</td>\n      <td>164.0</td>\n      <td>164.0</td>\n      <td>106759</td>\n      <td>250000000.0</td>\n      <td>8.5</td>\n      <td>448130642.0</td>\n    </tr>\n  </tbody>\n</table>\n</div>"
     },
     "metadata": {},
     "execution_count": 65
    }
   ],
   "source": [
    "# MERGE  how='left' Solo guarda las llaves que estan en \"financials\"\n",
    "movies_v2 = pd.merge(financials,movies_num,on='movie_title',how='left')\n",
    "movies_v2.head()"
   ]
  },
  {
   "cell_type": "code",
   "execution_count": 45,
   "metadata": {},
   "outputs": [],
   "source": [
    "movies_v2 = pd.merge(movies_v2,gross_opening,on='movie_title',how='left')"
   ]
  },
  {
   "cell_type": "code",
   "execution_count": 66,
   "metadata": {},
   "outputs": [
    {
     "output_type": "execute_result",
     "data": {
      "text/plain": [
       "(4385, 11)"
      ]
     },
     "metadata": {},
     "execution_count": 66
    }
   ],
   "source": [
    "movies_v2.shape"
   ]
  },
  {
   "cell_type": "markdown",
   "metadata": {
    "slideshow": {
     "slide_type": "slide"
    }
   },
   "source": [
    "## Ahora solucionaremos el problema de los datos faltantes (nulos o NaN). "
   ]
  },
  {
   "cell_type": "markdown",
   "metadata": {},
   "source": [
    "<div class=\"alert alert-success\">\n",
    "  Los datos faltantes generan problemas con muchos algoritmos de ML. Es por esto que existen distintas estrategias para lidiar con ellos.\n",
    "</div>"
   ]
  },
  {
   "cell_type": "code",
   "execution_count": 71,
   "metadata": {},
   "outputs": [
    {
     "output_type": "stream",
     "name": "stdout",
     "text": [
      "Help on function value_counts in module pandas.core.base:\n\nvalue_counts(self, normalize=False, sort=True, ascending=False, bins=None, dropna=True)\n    Return a Series containing counts of unique values.\n    \n    The resulting object will be in descending order so that the\n    first element is the most frequently-occurring element.\n    Excludes NA values by default.\n    \n    Parameters\n    ----------\n    normalize : bool, default False\n        If True then the object returned will contain the relative\n        frequencies of the unique values.\n    sort : bool, default True\n        Sort by frequencies.\n    ascending : bool, default False\n        Sort in ascending order.\n    bins : int, optional\n        Rather than count values, group them into half-open bins,\n        a convenience for ``pd.cut``, only works with numeric data.\n    dropna : bool, default True\n        Don't include counts of NaN.\n    \n    Returns\n    -------\n    Series\n    \n    See Also\n    --------\n    Series.count: Number of non-NA elements in a Series.\n    DataFrame.count: Number of non-NA elements in a DataFrame.\n    DataFrame.value_counts: Equivalent method on DataFrames.\n    \n    Examples\n    --------\n    >>> index = pd.Index([3, 1, 2, 3, 4, np.nan])\n    >>> index.value_counts()\n    3.0    2\n    4.0    1\n    2.0    1\n    1.0    1\n    dtype: int64\n    \n    With `normalize` set to `True`, returns the relative frequency by\n    dividing all values by the sum of values.\n    \n    >>> s = pd.Series([3, 1, 2, 3, 4, np.nan])\n    >>> s.value_counts(normalize=True)\n    3.0    0.4\n    4.0    0.2\n    2.0    0.2\n    1.0    0.2\n    dtype: float64\n    \n    **bins**\n    \n    Bins can be useful for going from a continuous variable to a\n    categorical variable; instead of counting unique\n    apparitions of values, divide the index in the specified\n    number of half-open bins.\n    \n    >>> s.value_counts(bins=3)\n    (2.0, 3.0]      2\n    (0.996, 2.0]    2\n    (3.0, 4.0]      1\n    dtype: int64\n    \n    **dropna**\n    \n    With `dropna` set to `False` we can also see NaN index values.\n    \n    >>> s.value_counts(dropna=False)\n    3.0    2\n    NaN    1\n    4.0    1\n    2.0    1\n    1.0    1\n    dtype: int64\n\n"
     ]
    }
   ],
   "source": [
    "help(pd.Series.value_counts)"
   ]
  },
  {
   "cell_type": "code",
   "execution_count": 72,
   "metadata": {},
   "outputs": [
    {
     "output_type": "execute_result",
     "data": {
      "text/plain": [
       "      movie_title  production_budget  worldwide_gross  title_year  \\\n",
       "0            True               True             True        True   \n",
       "1            True               True             True       False   \n",
       "2            True               True             True        True   \n",
       "3            True               True             True        True   \n",
       "4            True               True             True        True   \n",
       "...           ...                ...              ...         ...   \n",
       "4380         True               True             True        True   \n",
       "4381         True               True             True        True   \n",
       "4382         True               True             True        True   \n",
       "4383         True               True             True        True   \n",
       "4384         True               True             True        True   \n",
       "\n",
       "      aspect_ratio  duration  duration.1  cast_total_facebook_likes  budget  \\\n",
       "0             True      True        True                       True    True   \n",
       "1            False     False       False                       True   False   \n",
       "2             True      True        True                       True    True   \n",
       "3             True      True        True                       True    True   \n",
       "4             True      True        True                       True    True   \n",
       "...            ...       ...         ...                        ...     ...   \n",
       "4380         False      True        True                       True    True   \n",
       "4381         False      True        True                       True   False   \n",
       "4382          True      True        True                       True   False   \n",
       "4383         False      True        True                       True    True   \n",
       "4384          True      True        True                       True    True   \n",
       "\n",
       "      imdb_score  gross  \n",
       "0           True   True  \n",
       "1           True  False  \n",
       "2           True   True  \n",
       "3           True   True  \n",
       "4           True   True  \n",
       "...          ...    ...  \n",
       "4380        True  False  \n",
       "4381        True  False  \n",
       "4382        True   True  \n",
       "4383        True  False  \n",
       "4384        True   True  \n",
       "\n",
       "[4385 rows x 11 columns]"
      ],
      "text/html": "<div>\n<style scoped>\n    .dataframe tbody tr th:only-of-type {\n        vertical-align: middle;\n    }\n\n    .dataframe tbody tr th {\n        vertical-align: top;\n    }\n\n    .dataframe thead th {\n        text-align: right;\n    }\n</style>\n<table border=\"1\" class=\"dataframe\">\n  <thead>\n    <tr style=\"text-align: right;\">\n      <th></th>\n      <th>movie_title</th>\n      <th>production_budget</th>\n      <th>worldwide_gross</th>\n      <th>title_year</th>\n      <th>aspect_ratio</th>\n      <th>duration</th>\n      <th>duration.1</th>\n      <th>cast_total_facebook_likes</th>\n      <th>budget</th>\n      <th>imdb_score</th>\n      <th>gross</th>\n    </tr>\n  </thead>\n  <tbody>\n    <tr>\n      <th>0</th>\n      <td>True</td>\n      <td>True</td>\n      <td>True</td>\n      <td>True</td>\n      <td>True</td>\n      <td>True</td>\n      <td>True</td>\n      <td>True</td>\n      <td>True</td>\n      <td>True</td>\n      <td>True</td>\n    </tr>\n    <tr>\n      <th>1</th>\n      <td>True</td>\n      <td>True</td>\n      <td>True</td>\n      <td>False</td>\n      <td>False</td>\n      <td>False</td>\n      <td>False</td>\n      <td>True</td>\n      <td>False</td>\n      <td>True</td>\n      <td>False</td>\n    </tr>\n    <tr>\n      <th>2</th>\n      <td>True</td>\n      <td>True</td>\n      <td>True</td>\n      <td>True</td>\n      <td>True</td>\n      <td>True</td>\n      <td>True</td>\n      <td>True</td>\n      <td>True</td>\n      <td>True</td>\n      <td>True</td>\n    </tr>\n    <tr>\n      <th>3</th>\n      <td>True</td>\n      <td>True</td>\n      <td>True</td>\n      <td>True</td>\n      <td>True</td>\n      <td>True</td>\n      <td>True</td>\n      <td>True</td>\n      <td>True</td>\n      <td>True</td>\n      <td>True</td>\n    </tr>\n    <tr>\n      <th>4</th>\n      <td>True</td>\n      <td>True</td>\n      <td>True</td>\n      <td>True</td>\n      <td>True</td>\n      <td>True</td>\n      <td>True</td>\n      <td>True</td>\n      <td>True</td>\n      <td>True</td>\n      <td>True</td>\n    </tr>\n    <tr>\n      <th>...</th>\n      <td>...</td>\n      <td>...</td>\n      <td>...</td>\n      <td>...</td>\n      <td>...</td>\n      <td>...</td>\n      <td>...</td>\n      <td>...</td>\n      <td>...</td>\n      <td>...</td>\n      <td>...</td>\n    </tr>\n    <tr>\n      <th>4380</th>\n      <td>True</td>\n      <td>True</td>\n      <td>True</td>\n      <td>True</td>\n      <td>False</td>\n      <td>True</td>\n      <td>True</td>\n      <td>True</td>\n      <td>True</td>\n      <td>True</td>\n      <td>False</td>\n    </tr>\n    <tr>\n      <th>4381</th>\n      <td>True</td>\n      <td>True</td>\n      <td>True</td>\n      <td>True</td>\n      <td>False</td>\n      <td>True</td>\n      <td>True</td>\n      <td>True</td>\n      <td>False</td>\n      <td>True</td>\n      <td>False</td>\n    </tr>\n    <tr>\n      <th>4382</th>\n      <td>True</td>\n      <td>True</td>\n      <td>True</td>\n      <td>True</td>\n      <td>True</td>\n      <td>True</td>\n      <td>True</td>\n      <td>True</td>\n      <td>False</td>\n      <td>True</td>\n      <td>True</td>\n    </tr>\n    <tr>\n      <th>4383</th>\n      <td>True</td>\n      <td>True</td>\n      <td>True</td>\n      <td>True</td>\n      <td>False</td>\n      <td>True</td>\n      <td>True</td>\n      <td>True</td>\n      <td>True</td>\n      <td>True</td>\n      <td>False</td>\n    </tr>\n    <tr>\n      <th>4384</th>\n      <td>True</td>\n      <td>True</td>\n      <td>True</td>\n      <td>True</td>\n      <td>True</td>\n      <td>True</td>\n      <td>True</td>\n      <td>True</td>\n      <td>True</td>\n      <td>True</td>\n      <td>True</td>\n    </tr>\n  </tbody>\n</table>\n<p>4385 rows × 11 columns</p>\n</div>"
     },
     "metadata": {},
     "execution_count": 72
    }
   ],
   "source": [
    "movies_v2.notnull()"
   ]
  },
  {
   "cell_type": "code",
   "execution_count": 73,
   "metadata": {},
   "outputs": [
    {
     "output_type": "execute_result",
     "data": {
      "text/plain": [
       "       movie_title  production_budget  worldwide_gross  title_year  \\\n",
       "False          NaN                NaN              NaN          27   \n",
       "True        4385.0             4385.0           4385.0        4358   \n",
       "\n",
       "       aspect_ratio  duration  duration.1  cast_total_facebook_likes  budget  \\\n",
       "False           274        13          13                        NaN     335   \n",
       "True           4111      4372        4372                     4385.0    4050   \n",
       "\n",
       "       imdb_score  gross  \n",
       "False         NaN    671  \n",
       "True       4385.0   3714  "
      ],
      "text/html": "<div>\n<style scoped>\n    .dataframe tbody tr th:only-of-type {\n        vertical-align: middle;\n    }\n\n    .dataframe tbody tr th {\n        vertical-align: top;\n    }\n\n    .dataframe thead th {\n        text-align: right;\n    }\n</style>\n<table border=\"1\" class=\"dataframe\">\n  <thead>\n    <tr style=\"text-align: right;\">\n      <th></th>\n      <th>movie_title</th>\n      <th>production_budget</th>\n      <th>worldwide_gross</th>\n      <th>title_year</th>\n      <th>aspect_ratio</th>\n      <th>duration</th>\n      <th>duration.1</th>\n      <th>cast_total_facebook_likes</th>\n      <th>budget</th>\n      <th>imdb_score</th>\n      <th>gross</th>\n    </tr>\n  </thead>\n  <tbody>\n    <tr>\n      <th>False</th>\n      <td>NaN</td>\n      <td>NaN</td>\n      <td>NaN</td>\n      <td>27</td>\n      <td>274</td>\n      <td>13</td>\n      <td>13</td>\n      <td>NaN</td>\n      <td>335</td>\n      <td>NaN</td>\n      <td>671</td>\n    </tr>\n    <tr>\n      <th>True</th>\n      <td>4385.0</td>\n      <td>4385.0</td>\n      <td>4385.0</td>\n      <td>4358</td>\n      <td>4111</td>\n      <td>4372</td>\n      <td>4372</td>\n      <td>4385.0</td>\n      <td>4050</td>\n      <td>4385.0</td>\n      <td>3714</td>\n    </tr>\n  </tbody>\n</table>\n</div>"
     },
     "metadata": {},
     "execution_count": 73
    }
   ],
   "source": [
    "# applay  para contar cuantos boluanos hay en nuestra data\n",
    "movies_v2.notnull().apply(pd.Series.value_counts)"
   ]
  },
  {
   "cell_type": "code",
   "execution_count": 74,
   "metadata": {},
   "outputs": [
    {
     "output_type": "execute_result",
     "data": {
      "text/plain": [
       "       movie_title  production_budget  worldwide_gross  title_year  \\\n",
       "False          NaN                NaN              281         NaN   \n",
       "True        4385.0             4385.0             4104      4385.0   \n",
       "\n",
       "       aspect_ratio  duration  duration.1  cast_total_facebook_likes  budget  \\\n",
       "False           NaN       NaN         NaN                         27     NaN   \n",
       "True         4385.0    4385.0      4385.0                       4358  4385.0   \n",
       "\n",
       "       imdb_score   gross  \n",
       "False         NaN     NaN  \n",
       "True       4385.0  4385.0  "
      ],
      "text/html": "<div>\n<style scoped>\n    .dataframe tbody tr th:only-of-type {\n        vertical-align: middle;\n    }\n\n    .dataframe tbody tr th {\n        vertical-align: top;\n    }\n\n    .dataframe thead th {\n        text-align: right;\n    }\n</style>\n<table border=\"1\" class=\"dataframe\">\n  <thead>\n    <tr style=\"text-align: right;\">\n      <th></th>\n      <th>movie_title</th>\n      <th>production_budget</th>\n      <th>worldwide_gross</th>\n      <th>title_year</th>\n      <th>aspect_ratio</th>\n      <th>duration</th>\n      <th>duration.1</th>\n      <th>cast_total_facebook_likes</th>\n      <th>budget</th>\n      <th>imdb_score</th>\n      <th>gross</th>\n    </tr>\n  </thead>\n  <tbody>\n    <tr>\n      <th>False</th>\n      <td>NaN</td>\n      <td>NaN</td>\n      <td>281</td>\n      <td>NaN</td>\n      <td>NaN</td>\n      <td>NaN</td>\n      <td>NaN</td>\n      <td>27</td>\n      <td>NaN</td>\n      <td>NaN</td>\n      <td>NaN</td>\n    </tr>\n    <tr>\n      <th>True</th>\n      <td>4385.0</td>\n      <td>4385.0</td>\n      <td>4104</td>\n      <td>4385.0</td>\n      <td>4385.0</td>\n      <td>4385.0</td>\n      <td>4385.0</td>\n      <td>4358</td>\n      <td>4385.0</td>\n      <td>4385.0</td>\n      <td>4385.0</td>\n    </tr>\n  </tbody>\n</table>\n</div>"
     },
     "metadata": {},
     "execution_count": 74
    }
   ],
   "source": [
    "# ver los datos nulos\n",
    "(movies_v2 != 0).apply(pd.Series.value_counts)"
   ]
  },
  {
   "cell_type": "code",
   "execution_count": 75,
   "metadata": {},
   "outputs": [
    {
     "output_type": "execute_result",
     "data": {
      "text/plain": [
       "      movie_title  production_budget  worldwide_gross  title_year  \\\n",
       "0            True               True             True        True   \n",
       "1            True               True             True       False   \n",
       "2            True               True             True        True   \n",
       "3            True               True             True        True   \n",
       "4            True               True             True        True   \n",
       "...           ...                ...              ...         ...   \n",
       "4380         True               True             True        True   \n",
       "4381         True               True            False        True   \n",
       "4382         True               True             True        True   \n",
       "4383         True               True            False        True   \n",
       "4384         True               True             True        True   \n",
       "\n",
       "      aspect_ratio  duration  duration.1  cast_total_facebook_likes  budget  \\\n",
       "0             True      True        True                       True    True   \n",
       "1            False     False       False                       True   False   \n",
       "2             True      True        True                       True    True   \n",
       "3             True      True        True                       True    True   \n",
       "4             True      True        True                       True    True   \n",
       "...            ...       ...         ...                        ...     ...   \n",
       "4380         False      True        True                       True    True   \n",
       "4381         False      True        True                       True   False   \n",
       "4382          True      True        True                       True   False   \n",
       "4383         False      True        True                      False    True   \n",
       "4384          True      True        True                       True    True   \n",
       "\n",
       "      imdb_score  gross  \n",
       "0           True   True  \n",
       "1           True  False  \n",
       "2           True   True  \n",
       "3           True   True  \n",
       "4           True   True  \n",
       "...          ...    ...  \n",
       "4380        True  False  \n",
       "4381        True  False  \n",
       "4382        True   True  \n",
       "4383        True  False  \n",
       "4384        True   True  \n",
       "\n",
       "[4385 rows x 11 columns]"
      ],
      "text/html": "<div>\n<style scoped>\n    .dataframe tbody tr th:only-of-type {\n        vertical-align: middle;\n    }\n\n    .dataframe tbody tr th {\n        vertical-align: top;\n    }\n\n    .dataframe thead th {\n        text-align: right;\n    }\n</style>\n<table border=\"1\" class=\"dataframe\">\n  <thead>\n    <tr style=\"text-align: right;\">\n      <th></th>\n      <th>movie_title</th>\n      <th>production_budget</th>\n      <th>worldwide_gross</th>\n      <th>title_year</th>\n      <th>aspect_ratio</th>\n      <th>duration</th>\n      <th>duration.1</th>\n      <th>cast_total_facebook_likes</th>\n      <th>budget</th>\n      <th>imdb_score</th>\n      <th>gross</th>\n    </tr>\n  </thead>\n  <tbody>\n    <tr>\n      <th>0</th>\n      <td>True</td>\n      <td>True</td>\n      <td>True</td>\n      <td>True</td>\n      <td>True</td>\n      <td>True</td>\n      <td>True</td>\n      <td>True</td>\n      <td>True</td>\n      <td>True</td>\n      <td>True</td>\n    </tr>\n    <tr>\n      <th>1</th>\n      <td>True</td>\n      <td>True</td>\n      <td>True</td>\n      <td>False</td>\n      <td>False</td>\n      <td>False</td>\n      <td>False</td>\n      <td>True</td>\n      <td>False</td>\n      <td>True</td>\n      <td>False</td>\n    </tr>\n    <tr>\n      <th>2</th>\n      <td>True</td>\n      <td>True</td>\n      <td>True</td>\n      <td>True</td>\n      <td>True</td>\n      <td>True</td>\n      <td>True</td>\n      <td>True</td>\n      <td>True</td>\n      <td>True</td>\n      <td>True</td>\n    </tr>\n    <tr>\n      <th>3</th>\n      <td>True</td>\n      <td>True</td>\n      <td>True</td>\n      <td>True</td>\n      <td>True</td>\n      <td>True</td>\n      <td>True</td>\n      <td>True</td>\n      <td>True</td>\n      <td>True</td>\n      <td>True</td>\n    </tr>\n    <tr>\n      <th>4</th>\n      <td>True</td>\n      <td>True</td>\n      <td>True</td>\n      <td>True</td>\n      <td>True</td>\n      <td>True</td>\n      <td>True</td>\n      <td>True</td>\n      <td>True</td>\n      <td>True</td>\n      <td>True</td>\n    </tr>\n    <tr>\n      <th>...</th>\n      <td>...</td>\n      <td>...</td>\n      <td>...</td>\n      <td>...</td>\n      <td>...</td>\n      <td>...</td>\n      <td>...</td>\n      <td>...</td>\n      <td>...</td>\n      <td>...</td>\n      <td>...</td>\n    </tr>\n    <tr>\n      <th>4380</th>\n      <td>True</td>\n      <td>True</td>\n      <td>True</td>\n      <td>True</td>\n      <td>False</td>\n      <td>True</td>\n      <td>True</td>\n      <td>True</td>\n      <td>True</td>\n      <td>True</td>\n      <td>False</td>\n    </tr>\n    <tr>\n      <th>4381</th>\n      <td>True</td>\n      <td>True</td>\n      <td>False</td>\n      <td>True</td>\n      <td>False</td>\n      <td>True</td>\n      <td>True</td>\n      <td>True</td>\n      <td>False</td>\n      <td>True</td>\n      <td>False</td>\n    </tr>\n    <tr>\n      <th>4382</th>\n      <td>True</td>\n      <td>True</td>\n      <td>True</td>\n      <td>True</td>\n      <td>True</td>\n      <td>True</td>\n      <td>True</td>\n      <td>True</td>\n      <td>False</td>\n      <td>True</td>\n      <td>True</td>\n    </tr>\n    <tr>\n      <th>4383</th>\n      <td>True</td>\n      <td>True</td>\n      <td>False</td>\n      <td>True</td>\n      <td>False</td>\n      <td>True</td>\n      <td>True</td>\n      <td>False</td>\n      <td>True</td>\n      <td>True</td>\n      <td>False</td>\n    </tr>\n    <tr>\n      <th>4384</th>\n      <td>True</td>\n      <td>True</td>\n      <td>True</td>\n      <td>True</td>\n      <td>True</td>\n      <td>True</td>\n      <td>True</td>\n      <td>True</td>\n      <td>True</td>\n      <td>True</td>\n      <td>True</td>\n    </tr>\n  </tbody>\n</table>\n<p>4385 rows × 11 columns</p>\n</div>"
     },
     "metadata": {},
     "execution_count": 75
    }
   ],
   "source": [
    "available = ((movies_v2 != 0) & (movies_v2.notnull()))\n",
    "available"
   ]
  },
  {
   "cell_type": "code",
   "execution_count": 76,
   "metadata": {},
   "outputs": [
    {
     "output_type": "execute_result",
     "data": {
      "text/plain": [
       "True     3408\n",
       "False     977\n",
       "dtype: int64"
      ]
     },
     "metadata": {},
     "execution_count": 76
    }
   ],
   "source": [
    "# para contar los datos\n",
    "available.all(axis=1).value_counts()"
   ]
  },
  {
   "cell_type": "markdown",
   "metadata": {},
   "source": [
    "No podemos entrenar nuestro algoritmo con datos cuya variable objetivo no esta definida o sea nula (valor falso). Eliminemos esas líneas."
   ]
  },
  {
   "cell_type": "code",
   "execution_count": 77,
   "metadata": {},
   "outputs": [
    {
     "output_type": "execute_result",
     "data": {
      "text/plain": [
       "0        True\n",
       "1        True\n",
       "2        True\n",
       "3        True\n",
       "4        True\n",
       "        ...  \n",
       "4380     True\n",
       "4381    False\n",
       "4382     True\n",
       "4383    False\n",
       "4384     True\n",
       "Name: worldwide_gross, Length: 4385, dtype: bool"
      ]
     },
     "metadata": {},
     "execution_count": 77
    }
   ],
   "source": [
    "mask = available['worldwide_gross']\n",
    "mask"
   ]
  },
  {
   "cell_type": "code",
   "execution_count": 78,
   "metadata": {},
   "outputs": [],
   "source": [
    "# guardamos solo los true\n",
    "movies_v2 = movies_v2[mask]\n"
   ]
  },
  {
   "cell_type": "code",
   "execution_count": 81,
   "metadata": {},
   "outputs": [
    {
     "output_type": "execute_result",
     "data": {
      "text/plain": [
       "True    4104\n",
       "Name: worldwide_gross, dtype: int64"
      ]
     },
     "metadata": {},
     "execution_count": 81
    }
   ],
   "source": [
    "((movies_v2 != 0) & (movies_v2.notnull())).worldwide_gross.value_counts()"
   ]
  },
  {
   "cell_type": "markdown",
   "metadata": {},
   "source": [
    "<div class=\"alert alert-success\">\n",
    "  En el caso de las features que no son la variable objetivo una mejor solución para lidiar con los datos faltantes es <strong>remplazar estos datos por otros que sean manejables</strong> y no afecten la calidad de las predicciones. La estrategia más comun es utilizar la media de todos los ejemplos para la feature dada.\n",
    "</div>"
   ]
  },
  {
   "cell_type": "code",
   "execution_count": 82,
   "metadata": {},
   "outputs": [],
   "source": [
    "# BORRAR ALGUNAS COLUMNAS\n",
    "movies_v2 = movies_v2.drop('movie_title',axis=1)"
   ]
  },
  {
   "cell_type": "code",
   "execution_count": 83,
   "metadata": {},
   "outputs": [],
   "source": [
    "movies_v2 = movies_v2.drop('duration',axis=1)"
   ]
  },
  {
   "cell_type": "code",
   "execution_count": 84,
   "metadata": {},
   "outputs": [],
   "source": [
    "movies_v2 = movies_v2.drop('gross',axis=1)"
   ]
  },
  {
   "cell_type": "code",
   "execution_count": 85,
   "metadata": {},
   "outputs": [
    {
     "output_type": "execute_result",
     "data": {
      "text/plain": [
       "   production_budget  worldwide_gross  title_year  aspect_ratio  duration.1  \\\n",
       "0          425000000       2783918982      2009.0          1.78       178.0   \n",
       "1          306000000       2058662225         NaN           NaN         NaN   \n",
       "2          300000000        963420425      2007.0          2.35       169.0   \n",
       "3          300000000        879620923      2015.0          2.35       148.0   \n",
       "4          275000000       1084439099      2012.0          2.35       164.0   \n",
       "\n",
       "   cast_total_facebook_likes       budget  imdb_score  \n",
       "0                       4834  237000000.0         7.9  \n",
       "1                        143          NaN         7.1  \n",
       "2                      48350  300000000.0         7.1  \n",
       "3                      11700  245000000.0         6.8  \n",
       "4                     106759  250000000.0         8.5  "
      ],
      "text/html": "<div>\n<style scoped>\n    .dataframe tbody tr th:only-of-type {\n        vertical-align: middle;\n    }\n\n    .dataframe tbody tr th {\n        vertical-align: top;\n    }\n\n    .dataframe thead th {\n        text-align: right;\n    }\n</style>\n<table border=\"1\" class=\"dataframe\">\n  <thead>\n    <tr style=\"text-align: right;\">\n      <th></th>\n      <th>production_budget</th>\n      <th>worldwide_gross</th>\n      <th>title_year</th>\n      <th>aspect_ratio</th>\n      <th>duration.1</th>\n      <th>cast_total_facebook_likes</th>\n      <th>budget</th>\n      <th>imdb_score</th>\n    </tr>\n  </thead>\n  <tbody>\n    <tr>\n      <th>0</th>\n      <td>425000000</td>\n      <td>2783918982</td>\n      <td>2009.0</td>\n      <td>1.78</td>\n      <td>178.0</td>\n      <td>4834</td>\n      <td>237000000.0</td>\n      <td>7.9</td>\n    </tr>\n    <tr>\n      <th>1</th>\n      <td>306000000</td>\n      <td>2058662225</td>\n      <td>NaN</td>\n      <td>NaN</td>\n      <td>NaN</td>\n      <td>143</td>\n      <td>NaN</td>\n      <td>7.1</td>\n    </tr>\n    <tr>\n      <th>2</th>\n      <td>300000000</td>\n      <td>963420425</td>\n      <td>2007.0</td>\n      <td>2.35</td>\n      <td>169.0</td>\n      <td>48350</td>\n      <td>300000000.0</td>\n      <td>7.1</td>\n    </tr>\n    <tr>\n      <th>3</th>\n      <td>300000000</td>\n      <td>879620923</td>\n      <td>2015.0</td>\n      <td>2.35</td>\n      <td>148.0</td>\n      <td>11700</td>\n      <td>245000000.0</td>\n      <td>6.8</td>\n    </tr>\n    <tr>\n      <th>4</th>\n      <td>275000000</td>\n      <td>1084439099</td>\n      <td>2012.0</td>\n      <td>2.35</td>\n      <td>164.0</td>\n      <td>106759</td>\n      <td>250000000.0</td>\n      <td>8.5</td>\n    </tr>\n  </tbody>\n</table>\n</div>"
     },
     "metadata": {},
     "execution_count": 85
    }
   ],
   "source": [
    "movies_v2.head()"
   ]
  },
  {
   "cell_type": "code",
   "execution_count": null,
   "metadata": {},
   "outputs": [],
   "source": []
  },
  {
   "cell_type": "code",
   "execution_count": 88,
   "metadata": {},
   "outputs": [],
   "source": [
    "#movies_v2 = movies_v2[available.screens]"
   ]
  },
  {
   "cell_type": "code",
   "execution_count": 89,
   "metadata": {},
   "outputs": [
    {
     "output_type": "execute_result",
     "data": {
      "text/plain": [
       "4104"
      ]
     },
     "metadata": {},
     "execution_count": 89
    }
   ],
   "source": [
    "len(movies_v2)"
   ]
  },
  {
   "cell_type": "code",
   "execution_count": 92,
   "metadata": {},
   "outputs": [],
   "source": [
    "# QUITAR LOS nan\n",
    "#from sklearn.preprocessing import Imputer\n",
    "#imputer = Imputer(missing_values=np.nan, strategy='mean')\n",
    "from sklearn.impute import SimpleImputer\n",
    "imputer = SimpleImputer(missing_values=np.nan, strategy='mean')"
   ]
  },
  {
   "cell_type": "code",
   "execution_count": 95,
   "metadata": {},
   "outputs": [
    {
     "output_type": "execute_result",
     "data": {
      "text/plain": [
       "array([[4.25000000e+08, 2.78391898e+09, 2.00900000e+03, ...,\n",
       "        4.83400000e+03, 2.37000000e+08, 7.90000000e+00],\n",
       "       [3.06000000e+08, 2.05866222e+09,            nan, ...,\n",
       "        1.43000000e+02,            nan, 7.10000000e+00],\n",
       "       [3.00000000e+08, 9.63420425e+08, 2.00700000e+03, ...,\n",
       "        4.83500000e+04, 3.00000000e+08, 7.10000000e+00],\n",
       "       ...,\n",
       "       [7.00000000e+03, 9.00000000e+02, 2.00500000e+03, ...,\n",
       "        9.30000000e+01, 3.25000000e+03, 7.80000000e+00],\n",
       "       [3.96700000e+03, 1.04430000e+04, 2.01200000e+03, ...,\n",
       "        2.38600000e+03,            nan, 6.30000000e+00],\n",
       "       [1.10000000e+03, 1.81041000e+05, 2.00400000e+03, ...,\n",
       "        1.63000000e+02, 1.10000000e+03, 6.60000000e+00]])"
      ]
     },
     "metadata": {},
     "execution_count": 95
    }
   ],
   "source": [
    "movies_v2.values"
   ]
  },
  {
   "cell_type": "code",
   "execution_count": 94,
   "metadata": {
    "scrolled": true
   },
   "outputs": [
    {
     "output_type": "execute_result",
     "data": {
      "text/plain": [
       "array([[4.25000000e+08, 2.78391898e+09, 2.00900000e+03, ...,\n",
       "        4.83400000e+03, 2.37000000e+08, 7.90000000e+00],\n",
       "       [3.06000000e+08, 2.05866222e+09,            nan, ...,\n",
       "        1.43000000e+02,            nan, 7.10000000e+00],\n",
       "       [3.00000000e+08, 9.63420425e+08, 2.00700000e+03, ...,\n",
       "        4.83500000e+04, 3.00000000e+08, 7.10000000e+00],\n",
       "       ...,\n",
       "       [7.00000000e+03, 9.00000000e+02, 2.00500000e+03, ...,\n",
       "        9.30000000e+01, 3.25000000e+03, 7.80000000e+00],\n",
       "       [3.96700000e+03, 1.04430000e+04, 2.01200000e+03, ...,\n",
       "        2.38600000e+03,            nan, 6.30000000e+00],\n",
       "       [1.10000000e+03, 1.81041000e+05, 2.00400000e+03, ...,\n",
       "        1.63000000e+02, 1.10000000e+03, 6.60000000e+00]])"
      ]
     },
     "metadata": {},
     "execution_count": 94
    }
   ],
   "source": [
    "values = imputer.fit_transform(movies_v2)\n",
    "values\n"
   ]
  },
  {
   "cell_type": "code",
   "execution_count": 96,
   "metadata": {},
   "outputs": [
    {
     "output_type": "execute_result",
     "data": {
      "text/plain": [
       "   production_budget  worldwide_gross   title_year  aspect_ratio  duration.1  \\\n",
       "0        425000000.0     2.783919e+09  2009.000000      1.780000  178.000000   \n",
       "1        306000000.0     2.058662e+09  2002.130733      2.126976  108.577186   \n",
       "2        300000000.0     9.634204e+08  2007.000000      2.350000  169.000000   \n",
       "3        300000000.0     8.796209e+08  2015.000000      2.350000  148.000000   \n",
       "4        275000000.0     1.084439e+09  2012.000000      2.350000  164.000000   \n",
       "\n",
       "   cast_total_facebook_likes        budget  imdb_score  \n",
       "0                     4834.0  2.370000e+08         7.9  \n",
       "1                      143.0  4.045539e+07         7.1  \n",
       "2                    48350.0  3.000000e+08         7.1  \n",
       "3                    11700.0  2.450000e+08         6.8  \n",
       "4                   106759.0  2.500000e+08         8.5  "
      ],
      "text/html": "<div>\n<style scoped>\n    .dataframe tbody tr th:only-of-type {\n        vertical-align: middle;\n    }\n\n    .dataframe tbody tr th {\n        vertical-align: top;\n    }\n\n    .dataframe thead th {\n        text-align: right;\n    }\n</style>\n<table border=\"1\" class=\"dataframe\">\n  <thead>\n    <tr style=\"text-align: right;\">\n      <th></th>\n      <th>production_budget</th>\n      <th>worldwide_gross</th>\n      <th>title_year</th>\n      <th>aspect_ratio</th>\n      <th>duration.1</th>\n      <th>cast_total_facebook_likes</th>\n      <th>budget</th>\n      <th>imdb_score</th>\n    </tr>\n  </thead>\n  <tbody>\n    <tr>\n      <th>0</th>\n      <td>425000000.0</td>\n      <td>2.783919e+09</td>\n      <td>2009.000000</td>\n      <td>1.780000</td>\n      <td>178.000000</td>\n      <td>4834.0</td>\n      <td>2.370000e+08</td>\n      <td>7.9</td>\n    </tr>\n    <tr>\n      <th>1</th>\n      <td>306000000.0</td>\n      <td>2.058662e+09</td>\n      <td>2002.130733</td>\n      <td>2.126976</td>\n      <td>108.577186</td>\n      <td>143.0</td>\n      <td>4.045539e+07</td>\n      <td>7.1</td>\n    </tr>\n    <tr>\n      <th>2</th>\n      <td>300000000.0</td>\n      <td>9.634204e+08</td>\n      <td>2007.000000</td>\n      <td>2.350000</td>\n      <td>169.000000</td>\n      <td>48350.0</td>\n      <td>3.000000e+08</td>\n      <td>7.1</td>\n    </tr>\n    <tr>\n      <th>3</th>\n      <td>300000000.0</td>\n      <td>8.796209e+08</td>\n      <td>2015.000000</td>\n      <td>2.350000</td>\n      <td>148.000000</td>\n      <td>11700.0</td>\n      <td>2.450000e+08</td>\n      <td>6.8</td>\n    </tr>\n    <tr>\n      <th>4</th>\n      <td>275000000.0</td>\n      <td>1.084439e+09</td>\n      <td>2012.000000</td>\n      <td>2.350000</td>\n      <td>164.000000</td>\n      <td>106759.0</td>\n      <td>2.500000e+08</td>\n      <td>8.5</td>\n    </tr>\n  </tbody>\n</table>\n</div>"
     },
     "metadata": {},
     "execution_count": 96
    }
   ],
   "source": [
    "# creamos el data frame\n",
    "X = pd.DataFrame(values)\n",
    "X.columns = movies_v2.columns\n",
    "X.index = movies_v2.index\n",
    "X.head()"
   ]
  },
  {
   "cell_type": "code",
   "execution_count": 97,
   "metadata": {},
   "outputs": [
    {
     "output_type": "execute_result",
     "data": {
      "text/plain": [
       "4104"
      ]
     },
     "metadata": {},
     "execution_count": 97
    }
   ],
   "source": [
    "len(X)"
   ]
  },
  {
   "cell_type": "code",
   "execution_count": 99,
   "metadata": {},
   "outputs": [],
   "source": [
    "# Guardamos los datos\n",
    "X.to_csv('X_opening.csv',index=False)"
   ]
  },
  {
   "source": [
    "pd.Series(X.index).apply(lambda x: inv_map.loc[x])"
   ],
   "cell_type": "code",
   "metadata": {},
   "execution_count": 100,
   "outputs": [
    {
     "output_type": "error",
     "ename": "NameError",
     "evalue": "name 'inv_map' is not defined",
     "traceback": [
      "\u001b[0;31m---------------------------------------------------------------------------\u001b[0m",
      "\u001b[0;31mNameError\u001b[0m                                 Traceback (most recent call last)",
      "\u001b[0;32m<ipython-input-100-272a10d0982b>\u001b[0m in \u001b[0;36m<module>\u001b[0;34m\u001b[0m\n\u001b[0;32m----> 1\u001b[0;31m \u001b[0mpd\u001b[0m\u001b[0;34m.\u001b[0m\u001b[0mSeries\u001b[0m\u001b[0;34m(\u001b[0m\u001b[0mX\u001b[0m\u001b[0;34m.\u001b[0m\u001b[0mindex\u001b[0m\u001b[0;34m)\u001b[0m\u001b[0;34m.\u001b[0m\u001b[0mapply\u001b[0m\u001b[0;34m(\u001b[0m\u001b[0;32mlambda\u001b[0m \u001b[0mx\u001b[0m\u001b[0;34m:\u001b[0m \u001b[0minv_map\u001b[0m\u001b[0;34m.\u001b[0m\u001b[0mloc\u001b[0m\u001b[0;34m[\u001b[0m\u001b[0mx\u001b[0m\u001b[0;34m]\u001b[0m\u001b[0;34m)\u001b[0m\u001b[0;34m\u001b[0m\u001b[0;34m\u001b[0m\u001b[0m\n\u001b[0m",
      "\u001b[0;32m~/anaconda3/lib/python3.8/site-packages/pandas/core/series.py\u001b[0m in \u001b[0;36mapply\u001b[0;34m(self, func, convert_dtype, args, **kwds)\u001b[0m\n\u001b[1;32m   4198\u001b[0m             \u001b[0;32melse\u001b[0m\u001b[0;34m:\u001b[0m\u001b[0;34m\u001b[0m\u001b[0;34m\u001b[0m\u001b[0m\n\u001b[1;32m   4199\u001b[0m                 \u001b[0mvalues\u001b[0m \u001b[0;34m=\u001b[0m \u001b[0mself\u001b[0m\u001b[0;34m.\u001b[0m\u001b[0mastype\u001b[0m\u001b[0;34m(\u001b[0m\u001b[0mobject\u001b[0m\u001b[0;34m)\u001b[0m\u001b[0;34m.\u001b[0m\u001b[0m_values\u001b[0m\u001b[0;34m\u001b[0m\u001b[0;34m\u001b[0m\u001b[0m\n\u001b[0;32m-> 4200\u001b[0;31m                 \u001b[0mmapped\u001b[0m \u001b[0;34m=\u001b[0m \u001b[0mlib\u001b[0m\u001b[0;34m.\u001b[0m\u001b[0mmap_infer\u001b[0m\u001b[0;34m(\u001b[0m\u001b[0mvalues\u001b[0m\u001b[0;34m,\u001b[0m \u001b[0mf\u001b[0m\u001b[0;34m,\u001b[0m \u001b[0mconvert\u001b[0m\u001b[0;34m=\u001b[0m\u001b[0mconvert_dtype\u001b[0m\u001b[0;34m)\u001b[0m\u001b[0;34m\u001b[0m\u001b[0;34m\u001b[0m\u001b[0m\n\u001b[0m\u001b[1;32m   4201\u001b[0m \u001b[0;34m\u001b[0m\u001b[0m\n\u001b[1;32m   4202\u001b[0m         \u001b[0;32mif\u001b[0m \u001b[0mlen\u001b[0m\u001b[0;34m(\u001b[0m\u001b[0mmapped\u001b[0m\u001b[0;34m)\u001b[0m \u001b[0;32mand\u001b[0m \u001b[0misinstance\u001b[0m\u001b[0;34m(\u001b[0m\u001b[0mmapped\u001b[0m\u001b[0;34m[\u001b[0m\u001b[0;36m0\u001b[0m\u001b[0;34m]\u001b[0m\u001b[0;34m,\u001b[0m \u001b[0mSeries\u001b[0m\u001b[0;34m)\u001b[0m\u001b[0;34m:\u001b[0m\u001b[0;34m\u001b[0m\u001b[0;34m\u001b[0m\u001b[0m\n",
      "\u001b[0;32mpandas/_libs/lib.pyx\u001b[0m in \u001b[0;36mpandas._libs.lib.map_infer\u001b[0;34m()\u001b[0m\n",
      "\u001b[0;32m<ipython-input-100-272a10d0982b>\u001b[0m in \u001b[0;36m<lambda>\u001b[0;34m(x)\u001b[0m\n\u001b[0;32m----> 1\u001b[0;31m \u001b[0mpd\u001b[0m\u001b[0;34m.\u001b[0m\u001b[0mSeries\u001b[0m\u001b[0;34m(\u001b[0m\u001b[0mX\u001b[0m\u001b[0;34m.\u001b[0m\u001b[0mindex\u001b[0m\u001b[0;34m)\u001b[0m\u001b[0;34m.\u001b[0m\u001b[0mapply\u001b[0m\u001b[0;34m(\u001b[0m\u001b[0;32mlambda\u001b[0m \u001b[0mx\u001b[0m\u001b[0;34m:\u001b[0m \u001b[0minv_map\u001b[0m\u001b[0;34m.\u001b[0m\u001b[0mloc\u001b[0m\u001b[0;34m[\u001b[0m\u001b[0mx\u001b[0m\u001b[0;34m]\u001b[0m\u001b[0;34m)\u001b[0m\u001b[0;34m\u001b[0m\u001b[0;34m\u001b[0m\u001b[0m\n\u001b[0m",
      "\u001b[0;31mNameError\u001b[0m: name 'inv_map' is not defined"
     ]
    }
   ]
  },
  {
   "cell_type": "code",
   "execution_count": 101,
   "metadata": {},
   "outputs": [],
   "source": [
    "#X.to_csv('../vol/intermediate_results/X.csv',index=False)\n",
    "X.to_csv('X.csv',index=False)\n"
   ]
  },
  {
   "cell_type": "code",
   "execution_count": null,
   "metadata": {},
   "outputs": [],
   "source": []
  }
 ],
 "metadata": {
  "kernelspec": {
   "name": "python385jvsc74a57bd023f7befe1be34557b41ee3d91c8e133534547a4d4b9d81ed36dc112a842c0467",
   "display_name": "Python 3.8.5 64-bit ('base': conda)"
  },
  "language_info": {
   "codemirror_mode": {
    "name": "ipython",
    "version": 3
   },
   "file_extension": ".py",
   "mimetype": "text/x-python",
   "name": "python",
   "nbconvert_exporter": "python",
   "pygments_lexer": "ipython3",
   "version": "3.8.5"
  }
 },
 "nbformat": 4,
 "nbformat_minor": 2
}